{
  "nbformat": 4,
  "nbformat_minor": 0,
  "metadata": {
    "colab": {
      "name": "Teoría 2 -- Ejercicio 2.ipynb",
      "provenance": [],
      "authorship_tag": "ABX9TyN0BducW25DqoAoNL2/bSlZ",
      "include_colab_link": true
    },
    "kernelspec": {
      "name": "python3",
      "display_name": "Python 3"
    }
  },
  "cells": [
    {
      "cell_type": "markdown",
      "metadata": {
        "id": "view-in-github",
        "colab_type": "text"
      },
      "source": [
        "<a href=\"https://colab.research.google.com/github/plance17/Aprendizaje-de-Maquina/blob/master/Teor%C3%ADa_2_Ejercicio_2.ipynb\" target=\"_parent\"><img src=\"https://colab.research.google.com/assets/colab-badge.svg\" alt=\"Open In Colab\"/></a>"
      ]
    },
    {
      "cell_type": "code",
      "metadata": {
        "id": "nBXoYdIuK3Jt"
      },
      "source": [
        "import matplotlib.pyplot as plt\n",
        "import numpy as np\n",
        "import scipy\n",
        "import math\n",
        "import pandas as pd \n",
        "from scipy import linalg, optimize\n",
        "from sympy.solvers import solve\n",
        "from sympy import Symbol\n",
        "\n",
        "# realizar solicitudes web desde una URL\n",
        "import requests\n",
        "\n",
        "import urllib.request \n",
        "\n",
        "# xlrd nos ayuda a extraer datos de hojas de cálculo de Excel (.xls y .xlsx)\n",
        "# https://xlrd.readthedocs.io/en/latest/\n",
        "from xlrd import open_workbook"
      ],
      "execution_count": 1,
      "outputs": []
    },
    {
      "cell_type": "code",
      "metadata": {
        "id": "aE5vxueOL1Qy",
        "outputId": "9bad8578-0c16-481e-84da-ecfde11d179b",
        "colab": {
          "base_uri": "https://localhost:8080/",
          "height": 265
        }
      },
      "source": [
        "mu_a=10.0\n",
        "sigma_a=0.5\n",
        "\n",
        "a=np.random.normal(mu_a,sigma_a,size=50)\n",
        "data_a=np.zeros(a.size)\n",
        "\n",
        "for i in np.arange(0,a.size):\n",
        "  data_a[i]=1/(sigma_a * np.sqrt(2 * np.pi)) *np.exp( - (a[i] - mu_a)**2 / (2 * sigma_a**2))\n",
        "\n",
        "a_ajuste = np.linspace(7.5,12.5)\n",
        "ajuste_gaussiano_a = 1/(sigma_a*np.sqrt(2*np.pi))*np.exp(-(a_ajuste-mu_a)**2/(2*sigma_a**2))\n",
        "\n",
        "mu_b=8.5\n",
        "sigma_b=0.75\n",
        "\n",
        "b=np.random.normal(mu_b,sigma_b,size=50)\n",
        "data_b=np.zeros(b.size)\n",
        "\n",
        "for i in np.arange(0,a.size):\n",
        "  data_b[i]=1/(sigma_b * np.sqrt(2 * np.pi)) *np.exp( - (b[i] - mu_b)**2 / (2 * sigma_b**2))\n",
        "\n",
        "b_ajuste = np.linspace(6.5,12.5)\n",
        "ajuste_gaussiano_b = 1/(sigma_b*np.sqrt(2*np.pi))*np.exp(-(b_ajuste-mu_b)**2/(2*sigma_b**2))\n",
        "umbral=9\n",
        "plt.plot(a,data_a,'bo')\n",
        "plt.plot(a_ajuste,ajuste_gaussiano_a,'blue')\n",
        "plt.plot(b,data_b,'ro')\n",
        "plt.plot(b_ajuste,ajuste_gaussiano_b,'red')\n",
        "plt.show()"
      ],
      "execution_count": 2,
      "outputs": [
        {
          "output_type": "display_data",
          "data": {
            "image/png": "[encoded data removed]",
            "text/plain": [
              "<Figure size 432x288 with 1 Axes>"
            ]
          },
          "metadata": {
            "tags": [],
            "needs_background": "light"
          }
        }
      ]
    },
    {
      "cell_type": "markdown",
      "metadata": {
        "id": "Xs6TM8LmU1Oj"
      },
      "source": [
        "Elegir uno de los dos códigos siguientes. El primero varía el umbral desde el menor valor medio al mayor valor medio.\n",
        "\n",
        "El segundo varía el umbral desde el mínimo valor general al máximo valor general"
      ]
    },
    {
      "cell_type": "code",
      "metadata": {
        "id": "xA2qOXvji_st",
        "outputId": "c72a1f2a-bc42-4fa9-c2f6-67fd634f71d7",
        "colab": {
          "base_uri": "https://localhost:8080/",
          "height": 67
        }
      },
      "source": [
        "intervalo_umbrales=int((mu_a-mu_b)*10+1)\n",
        "vector_umbrales=np.linspace(mu_b,mu_a,num=intervalo_umbrales)\n",
        "print(vector_umbrales)\n",
        "\n",
        "sensibilidad=np.zeros(vector_umbrales.size)\n",
        "presicion=np.zeros(vector_umbrales.size)\n",
        "exactitud=np.zeros(vector_umbrales.size)\n",
        "fall_out=np.zeros(vector_umbrales.size)\n",
        "\n",
        "print(vector_umbrales.size)\n",
        "i=0"
      ],
      "execution_count": 7,
      "outputs": [
        {
          "output_type": "stream",
          "text": [
            "[ 8.5  8.6  8.7  8.8  8.9  9.   9.1  9.2  9.3  9.4  9.5  9.6  9.7  9.8\n",
            "  9.9 10. ]\n",
            "16\n"
          ],
          "name": "stdout"
        }
      ]
    },
    {
      "cell_type": "code",
      "metadata": {
        "id": "dE0PpcvVUzmN",
        "outputId": "57a1c28e-2fa8-4f4a-a76c-0950e0750bbd",
        "colab": {
          "base_uri": "https://localhost:8080/",
          "height": 185
        }
      },
      "source": [
        "intervalo_umbrales=int((np.amax(a)-np.amin(b))*10+1)\n",
        "vector_umbrales=np.linspace(np.amin(b),np.amax(a),num=intervalo_umbrales)\n",
        "print(vector_umbrales)\n",
        "\n",
        "sensibilidad=np.zeros(vector_umbrales.size)\n",
        "presicion=np.zeros(vector_umbrales.size)\n",
        "exactitud=np.zeros(vector_umbrales.size)\n",
        "fall_out=np.zeros(vector_umbrales.size)\n",
        "\n",
        "i=1\n",
        "print(vector_umbrales.size)"
      ],
      "execution_count": 224,
      "outputs": [
        {
          "output_type": "stream",
          "text": [
            "[ 6.35500941  6.45681391  6.55861841  6.66042291  6.76222741  6.86403191\n",
            "  6.96583641  7.0676409   7.1694454   7.2712499   7.3730544   7.4748589\n",
            "  7.5766634   7.6784679   7.7802724   7.8820769   7.9838814   8.0856859\n",
            "  8.1874904   8.2892949   8.3910994   8.4929039   8.5947084   8.6965129\n",
            "  8.7983174   8.9001219   9.0019264   9.10373089  9.20553539  9.30733989\n",
            "  9.40914439  9.51094889  9.61275339  9.71455789  9.81636239  9.91816689\n",
            " 10.01997139 10.12177589 10.22358039 10.32538489 10.42718939 10.52899389\n",
            " 10.63079839 10.73260289 10.83440739 10.93621189 11.03801638 11.13982088\n",
            " 11.24162538 11.34342988 11.44523438 11.54703888]\n",
            "52\n"
          ],
          "name": "stdout"
        }
      ]
    },
    {
      "cell_type": "code",
      "metadata": {
        "id": "IGlfu5cDomTy",
        "outputId": "d78f0ea8-c7c9-4b5f-c5a4-7b5631da7a53",
        "colab": {
          "base_uri": "https://localhost:8080/",
          "height": 34
        }
      },
      "source": [
        "from numpy import random\n",
        "\n",
        "p = random.rand()\n",
        "\n",
        "print(p)"
      ],
      "execution_count": 64,
      "outputs": [
        {
          "output_type": "stream",
          "text": [
            "0.32314561709349243\n"
          ],
          "name": "stdout"
        }
      ]
    },
    {
      "cell_type": "markdown",
      "metadata": {
        "id": "E-AGWRN_yTrK"
      },
      "source": [
        "**Considero a como los positivos, y b como los negativos**"
      ]
    },
    {
      "cell_type": "markdown",
      "metadata": {
        "id": "2AwV0qVi3khR"
      },
      "source": [
        "Correr este código tantas veces como valores umbrales se tengan."
      ]
    },
    {
      "cell_type": "code",
      "metadata": {
        "id": "krCteWzDnwBN",
        "outputId": "2d76278f-504c-4bea-be2e-b9956b1749bd",
        "colab": {
          "base_uri": "https://localhost:8080/",
          "height": 282
        }
      },
      "source": [
        "umbral=vector_umbrales[i]\n",
        "\n",
        "#Contadores\n",
        "tp_count=0    #contador verdaderos positivos\n",
        "tn_count=0    #contador verdaderos negativos\n",
        "fp_count=0    #contador falsos positivos  \n",
        "fn_count=0    #contador falsos negativos\n",
        "\n",
        "for j in np.arange(0,b.size):\n",
        "  if b[j]<umbral:\n",
        "    tn_count=tn_count+1\n",
        "  if b[j]>umbral:\n",
        "    fn_count=fn_count+1\n",
        "\n",
        "for k in np.arange(0,a.size):\n",
        "  if a[k]<umbral:\n",
        "    fp_count=fp_count+1\n",
        "  if a[k]>umbral:\n",
        "    tp_count=tp_count+1\n",
        "\n",
        "umbral_grafico=[umbral]*vector_umbrales.size\n",
        "\n",
        "plt.plot(umbral_grafico,np.linspace(0,1,num=vector_umbrales.size),'green')\n",
        "plt.plot(a,data_a,'bo')\n",
        "plt.plot(a_ajuste,ajuste_gaussiano_a,'blue')\n",
        "plt.plot(b,data_b,'ro')\n",
        "plt.plot(b_ajuste,ajuste_gaussiano_b,'red')\n",
        "plt.show()\n",
        "\n",
        "\n",
        "\n",
        "#True Positive Rate\n",
        "\n",
        "sensibilidad[i]=tp_count/(tp_count+fn_count)\n",
        "\n",
        "#Positive Predicted Value\n",
        "presicion[i]=tp_count/(tp_count+fp_count)\n",
        "\n",
        "#Accuracy\n",
        "exactitud[i]=(tp_count+tn_count)/(tp_count+tn_count+fp_count+fn_count)\n",
        "\n",
        "#False Positive Rate\n",
        "fall_out[i]=fp_count/(fp_count+tn_count)\n",
        "\n",
        "if i<intervalo_umbrales:\n",
        "  i=i+1\n",
        "print(i)"
      ],
      "execution_count": 23,
      "outputs": [
        {
          "output_type": "display_data",
          "data": {
            "image/png": "[encoded data removed]",
            "text/plain": [
              "<Figure size 432x288 with 1 Axes>"
            ]
          },
          "metadata": {
            "tags": [],
            "needs_background": "light"
          }
        },
        {
          "output_type": "stream",
          "text": [
            "16\n"
          ],
          "name": "stdout"
        }
      ]
    },
    {
      "cell_type": "code",
      "metadata": {
        "id": "jM2HBlMF23Y3",
        "outputId": "5fc80dcf-c960-4919-eb65-d7aebf8f3655",
        "colab": {
          "base_uri": "https://localhost:8080/",
          "height": 447
        }
      },
      "source": [
        "print('Sensibilidad:', sensibilidad)\n",
        "print('Presicion:', presicion)\n",
        "print('Exactitud:', exactitud)\n",
        "print('Fall_out:', fall_out)\n",
        "\n",
        "plt.plot(vector_umbrales,sensibilidad,'go',label='Sensibilidad')\n",
        "plt.plot(vector_umbrales,presicion,'mo',label='Presicion')\n",
        "plt.plot(vector_umbrales,exactitud,'co',label='Exactitud')\n",
        "plt.plot(vector_umbrales,fall_out,'yo',label='Fall_out')\n",
        "plt.xlabel('Valor Umbral')\n",
        "plt.legend(loc='lower left')\n",
        "plt.show()"
      ],
      "execution_count": 24,
      "outputs": [
        {
          "output_type": "stream",
          "text": [
            "Sensibilidad: [0.70422535 0.71428571 0.71428571 0.73529412 0.75       0.75806452\n",
            " 0.81034483 0.84615385 0.89130435 0.88636364 0.92682927 0.94871795\n",
            " 0.97058824 0.96551724 0.95833333 0.95238095]\n",
            "Presicion: [1.   1.   1.   1.   0.96 0.94 0.94 0.88 0.82 0.78 0.76 0.74 0.66 0.56\n",
            " 0.46 0.4 ]\n",
            "Exactitud: [0.79 0.8  0.8  0.82 0.82 0.82 0.86 0.86 0.86 0.84 0.85 0.85 0.82 0.77\n",
            " 0.72 0.69]\n",
            "Fall_out: [0.         0.         0.         0.         0.05555556 0.07894737\n",
            " 0.07142857 0.125      0.16666667 0.19642857 0.20338983 0.21311475\n",
            " 0.25757576 0.30985915 0.35526316 0.37974684]\n"
          ],
          "name": "stdout"
        },
        {
          "output_type": "display_data",
          "data": {
            "image/png": "[encoded data removed]",
            "text/plain": [
              "<Figure size 432x288 with 1 Axes>"
            ]
          },
          "metadata": {
            "tags": [],
            "needs_background": "light"
          }
        }
      ]
    },
    {
      "cell_type": "markdown",
      "metadata": {
        "id": "-vBNUhU43T_L"
      },
      "source": [
        "Asumiendo los datos de a como los positivos(puntos azules) y b como los negativos(puntos rojos), se observa que, al aumentar el valor umbral la precisión disminuye, lo cual tiene sentido, ya que al aumentar el umbral comienzan a aparecer valores de falsos positivo, y el número de verdaderos positivos y el total de predicciones positivas difieren. \n",
        "\n",
        "La Sensibilidad aumenta al aumentar el valor umbral(no en todos los casos entre punto y punto, pero en rasgo general presenta un crecimiento), y esto se debe a que al aumentar el valor umbral el número de falsos negativos disminuye, y los verdaderos positivos se acercan cada vez mas a la condicion de positivo.\n",
        "\n",
        "La exacitud presenta un valor máximo en un umbral intermedio entre los valores medios de cada distribución. Para estos valores intermedios de umbral, la exactitud se mantiene bastante constante, con el punto medio de estos valores siendo el promedio de los dos valores medios.\n",
        "\n"
      ]
    },
    {
      "cell_type": "code",
      "metadata": {
        "id": "x84fX2QjR3LO",
        "outputId": "a2fadc32-4d17-4098-ea8e-c15e605a6d68",
        "colab": {
          "base_uri": "https://localhost:8080/",
          "height": 279
        }
      },
      "source": [
        "#Curva ROC\n",
        "x=np.linspace(0,1.0)\n",
        "y=x\n",
        "\n",
        "p=0\n",
        "\n",
        "for j in np.arange(0,fall_out.size):\n",
        "  if (sensibilidad[j]!=0) and (fall_out[j]!=0):\n",
        "    p=p+1\n",
        "\n",
        "sensibilidad2=np.zeros(p)\n",
        "fall_out2=np.zeros(p)\n",
        "\n",
        "h=0\n",
        "for j in np.arange(0,fall_out.size):\n",
        "  if (sensibilidad[j]!=0) and (fall_out[j]!=0):\n",
        "    sensibilidad2[h]=sensibilidad[j]\n",
        "    fall_out2[h]=fall_out[j]\n",
        "    h=h+1\n",
        "\n",
        "\n",
        "plt.plot(fall_out2,sensibilidad2,'red',label='Sensibilidad')\n",
        "plt.plot(x,y,'blue',label='Sensibilidad')\n",
        "plt.xlabel('FPR')\n",
        "plt.ylabel('TPR')\n",
        "plt.show()\n"
      ],
      "execution_count": 25,
      "outputs": [
        {
          "output_type": "display_data",
          "data": {
            "image/png": "[encoded data removed]",
            "text/plain": [
              "<Figure size 432x288 with 1 Axes>"
            ]
          },
          "metadata": {
            "tags": [],
            "needs_background": "light"
          }
        }
      ]
    },
    {
      "cell_type": "code",
      "metadata": {
        "id": "riWpCPpM4Lcm",
        "outputId": "8c814eef-3e2d-4ee8-a6e5-f3db27ead362",
        "colab": {
          "base_uri": "https://localhost:8080/",
          "height": 50
        }
      },
      "source": [
        "max_sensibilidad=np.amax(sensibilidad)\n",
        "max_exactitud=np.amax(exactitud)\n",
        "\n",
        "dif=np.absolute(sensibilidad-presicion)\n",
        "\n",
        "for j in np.arange(0,sensibilidad.size):\n",
        "  if dif[j]==np.amin(dif):\n",
        "    umbral_optimo=j\n",
        "    print(j)\n",
        "    print(vector_umbrales[j])"
      ],
      "execution_count": 26,
      "outputs": [
        {
          "output_type": "stream",
          "text": [
            "7\n",
            "9.2\n"
          ],
          "name": "stdout"
        }
      ]
    },
    {
      "cell_type": "code",
      "metadata": {
        "id": "DaSxSuUGCKvu",
        "outputId": "9b9a5f0f-b068-473c-b653-ff61995572ba",
        "colab": {
          "base_uri": "https://localhost:8080/",
          "height": 265
        }
      },
      "source": [
        "umbral_grafico=[vector_umbrales[umbral_optimo]]*vector_umbrales.size\n",
        "\n",
        "plt.plot(umbral_grafico,np.linspace(0,1,num=vector_umbrales.size),'green')\n",
        "plt.plot(a,data_a,'bo')\n",
        "plt.plot(a_ajuste,ajuste_gaussiano_a,'blue')\n",
        "plt.plot(b,data_b,'ro')\n",
        "plt.plot(b_ajuste,ajuste_gaussiano_b,'red')\n",
        "plt.show()"
      ],
      "execution_count": 27,
      "outputs": [
        {
          "output_type": "display_data",
          "data": {
            "image/png": "[encoded data removed]",
            "text/plain": [
              "<Figure size 432x288 with 1 Axes>"
            ]
          },
          "metadata": {
            "tags": [],
            "needs_background": "light"
          }
        }
      ]
    },
    {
      "cell_type": "code",
      "metadata": {
        "id": "M4Sxv4xFMZgy",
        "outputId": "5f810629-ae65-43cf-d7d5-81a25ae90b12",
        "colab": {
          "base_uri": "https://localhost:8080/",
          "height": 265
        }
      },
      "source": [
        "mu_c=7.0\n",
        "sigma_c=1.0\n",
        "\n",
        "c=np.random.normal(mu_c,sigma_c,size=50)\n",
        "data_c=np.zeros(c.size)\n",
        "\n",
        "for i in np.arange(0,c.size):\n",
        "  data_c[i]=1/(sigma_c * np.sqrt(2 * np.pi)) *np.exp( - (c[i] - mu_c)**2 / (2 * sigma_c**2))\n",
        "\n",
        "c_ajuste = np.linspace(4.5,12.5)\n",
        "ajuste_gaussiano_c = 1/(sigma_c*np.sqrt(2*np.pi))*np.exp(-(c_ajuste-mu_c)**2/(2*sigma_c**2))\n",
        "\n",
        "plt.plot(a,data_a,'bo')\n",
        "plt.plot(a_ajuste,ajuste_gaussiano_a,'blue')\n",
        "plt.plot(c,data_c,'ro')\n",
        "plt.plot(c_ajuste,ajuste_gaussiano_c,'red')\n",
        "plt.show()"
      ],
      "execution_count": 28,
      "outputs": [
        {
          "output_type": "display_data",
          "data": {
            "image/png": "[encoded data removed]",
            "text/plain": [
              "<Figure size 432x288 with 1 Axes>"
            ]
          },
          "metadata": {
            "tags": [],
            "needs_background": "light"
          }
        }
      ]
    },
    {
      "cell_type": "code",
      "metadata": {
        "id": "iGuSr08zN9to",
        "outputId": "384692b6-8f57-4a9e-b9b2-605694c94c81",
        "colab": {
          "base_uri": "https://localhost:8080/",
          "height": 84
        }
      },
      "source": [
        "intervalo_umbrales=int((mu_a-mu_c)*10+1)\n",
        "vector_umbrales=np.linspace(mu_c,mu_a,num=intervalo_umbrales)\n",
        "print(vector_umbrales)\n",
        "\n",
        "sensibilidad=np.zeros(vector_umbrales.size)\n",
        "presicion=np.zeros(vector_umbrales.size)\n",
        "exactitud=np.zeros(vector_umbrales.size)\n",
        "\n",
        "i=0\n",
        "print(vector_umbrales.size)"
      ],
      "execution_count": 29,
      "outputs": [
        {
          "output_type": "stream",
          "text": [
            "[ 7.   7.1  7.2  7.3  7.4  7.5  7.6  7.7  7.8  7.9  8.   8.1  8.2  8.3\n",
            "  8.4  8.5  8.6  8.7  8.8  8.9  9.   9.1  9.2  9.3  9.4  9.5  9.6  9.7\n",
            "  9.8  9.9 10. ]\n",
            "31\n"
          ],
          "name": "stdout"
        }
      ]
    },
    {
      "cell_type": "code",
      "metadata": {
        "id": "U52ry_FLOVyQ",
        "outputId": "393d21f2-319d-43af-e4f8-81f6ef12f40f",
        "colab": {
          "base_uri": "https://localhost:8080/",
          "height": 282
        }
      },
      "source": [
        "umbral=vector_umbrales[i]\n",
        "\n",
        "#Contadores\n",
        "tp_count=0    #contador verdaderos positivos\n",
        "tn_count=0    #contador verdaderos negativos\n",
        "fp_count=0    #contador falsos positivos  \n",
        "fn_count=0    #contador falsos negativos\n",
        "\n",
        "for j in np.arange(0,b.size):\n",
        "  if c[j]<umbral:\n",
        "    tn_count=tn_count+1\n",
        "  if c[j]>umbral:\n",
        "    fn_count=fn_count+1\n",
        "\n",
        "for k in np.arange(0,a.size):\n",
        "  if a[k]<umbral:\n",
        "    fp_count=fp_count+1\n",
        "  if a[k]>umbral:\n",
        "    tp_count=tp_count+1\n",
        "\n",
        "umbral_grafico=[umbral]*vector_umbrales.size\n",
        "\n",
        "plt.plot(umbral_grafico,np.linspace(0,1,num=vector_umbrales.size),'green')\n",
        "plt.plot(a,data_a,'bo')\n",
        "plt.plot(a_ajuste,ajuste_gaussiano_a,'blue')\n",
        "plt.plot(c,data_c,'ro')\n",
        "plt.plot(c_ajuste,ajuste_gaussiano_c,'red')\n",
        "plt.show()\n",
        "\n",
        "\n",
        "\n",
        "#True Positive Rate\n",
        "sensibilidad[i]=tp_count/(tp_count+fn_count)\n",
        "\n",
        "#Positive Predicted Value\n",
        "presicion[i]=tp_count/(tp_count+fp_count)\n",
        "\n",
        "#Accuracy\n",
        "exactitud[i]=(tp_count+tn_count)/(tp_count+tn_count+fp_count+fn_count)\n",
        "\n",
        "\n",
        "if i<intervalo_umbrales:\n",
        "  i=i+1\n",
        "print(i)"
      ],
      "execution_count": 60,
      "outputs": [
        {
          "output_type": "display_data",
          "data": {
            "image/png": "[encoded data removed]",
            "text/plain": [
              "<Figure size 432x288 with 1 Axes>"
            ]
          },
          "metadata": {
            "tags": [],
            "needs_background": "light"
          }
        },
        {
          "output_type": "stream",
          "text": [
            "31\n"
          ],
          "name": "stdout"
        }
      ]
    },
    {
      "cell_type": "code",
      "metadata": {
        "id": "pYh-giZuO-pk",
        "outputId": "51b92b92-c48f-40f1-8be2-353fa7028fb4",
        "colab": {
          "base_uri": "https://localhost:8080/",
          "height": 481
        }
      },
      "source": [
        "print('Sensibilidad:', sensibilidad)\n",
        "print('Presicion:', presicion)\n",
        "print('Exactitud:', exactitud)\n",
        "\n",
        "plt.plot(vector_umbrales,sensibilidad,'go',label='Sensibilidad')\n",
        "plt.plot(vector_umbrales,presicion,'mo',label='Presicion')\n",
        "plt.plot(vector_umbrales,exactitud,'co',label='Exactitud')\n",
        "plt.xlabel('Valor Umbral')\n",
        "plt.legend(loc='lower left')\n",
        "plt.show()"
      ],
      "execution_count": 61,
      "outputs": [
        {
          "output_type": "stream",
          "text": [
            "Sensibilidad: [0.68493151 0.68493151 0.70422535 0.76923077 0.80645161 0.83333333\n",
            " 0.84745763 0.84745763 0.86206897 0.86206897 0.94339623 0.94339623\n",
            " 0.94339623 0.96153846 0.96153846 0.98039216 0.98039216 0.98039216\n",
            " 0.98039216 0.97959184 0.97916667 0.97916667 0.97777778 1.\n",
            " 1.         1.         1.         1.         1.         1.\n",
            " 1.        ]\n",
            "Presicion: [1.   1.   1.   1.   1.   1.   1.   1.   1.   1.   1.   1.   1.   1.\n",
            " 1.   1.   1.   1.   1.   0.96 0.94 0.94 0.88 0.82 0.78 0.76 0.74 0.66\n",
            " 0.56 0.46 0.4 ]\n",
            "Exactitud: [0.77 0.77 0.79 0.85 0.88 0.9  0.91 0.91 0.92 0.92 0.97 0.97 0.97 0.98\n",
            " 0.98 0.99 0.99 0.99 0.99 0.97 0.96 0.96 0.93 0.91 0.89 0.88 0.87 0.83\n",
            " 0.78 0.73 0.7 ]\n"
          ],
          "name": "stdout"
        },
        {
          "output_type": "display_data",
          "data": {
            "image/png": "[encoded data removed]",
            "text/plain": [
              "<Figure size 432x288 with 1 Axes>"
            ]
          },
          "metadata": {
            "tags": [],
            "needs_background": "light"
          }
        }
      ]
    },
    {
      "cell_type": "markdown",
      "metadata": {
        "id": "b4gj_nSJPbFW"
      },
      "source": [
        "A comparación del caso anterior, puede verse que hay mas de un umbral \"óptimo\", ya que hay valores intermedios donde un pequeño cambio en el valor del umbral no afecta el número de verdaderos positivos, falsos positivos, verdaderos negativos, ni falsos negativos de manera considerable."
      ]
    }
  ]
}