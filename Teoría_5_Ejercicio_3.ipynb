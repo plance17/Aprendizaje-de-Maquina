{
  "nbformat": 4,
  "nbformat_minor": 0,
  "metadata": {
    "colab": {
      "name": "Teoría_5--Ejercicio_3.ipynb",
      "provenance": [],
      "authorship_tag": "ABX9TyMJ7pzqk+brptxQZV4upp4c",
      "include_colab_link": true
    },
    "kernelspec": {
      "name": "python3",
      "display_name": "Python 3"
    }
  },
  "cells": [
    {
      "cell_type": "markdown",
      "metadata": {
        "id": "view-in-github",
        "colab_type": "text"
      },
      "source": [
        "<a href=\"https://colab.research.google.com/github/plance17/Aprendizaje-de-Maquina/blob/master/Teor%C3%ADa_5_Ejercicio_3.ipynb\" target=\"_parent\"><img src=\"https://colab.research.google.com/assets/colab-badge.svg\" alt=\"Open In Colab\"/></a>"
      ]
    },
    {
      "cell_type": "code",
      "metadata": {
        "id": "CQILFdnfHu4l"
      },
      "source": [
        "import matplotlib.pyplot as plt\n",
        "from matplotlib.colors import ListedColormap\n",
        "import numpy as np\n",
        "import scipy\n",
        "import math\n",
        "import pandas as pd \n",
        "from scipy import linalg, optimize\n",
        "from sympy.solvers import solve\n",
        "from sympy import Symbol\n",
        "\n",
        "from sklearn import neighbors\n",
        "from sklearn import metrics\n",
        "from sklearn import svm\n",
        "import sklearn\n",
        "\n",
        "import array as arr\n",
        "# realizar solicitudes web desde una URL\n",
        "import requests\n",
        "\n",
        "import urllib.request \n",
        "\n",
        "# xlrd nos ayuda a extraer datos de hojas de cálculo de Excel (.xls y .xlsx)\n",
        "# https://xlrd.readthedocs.io/en/latest/\n",
        "from xlrd import open_workbook"
      ],
      "execution_count": 123,
      "outputs": []
    },
    {
      "cell_type": "markdown",
      "metadata": {
        "id": "_tXghxUqIQjl"
      },
      "source": [
        "Murder:\tnumeric\tMurder arrests (per 100,000) \\\\\n",
        "Assault:\tnumeric\tAssault arrests (per 100,000) \\\\\n",
        "UrbanPop:\tnumeric\tPercent urban population  -- Porcentaje de la población viviendo en áreas urbanas.      \\\\\n",
        "Rape:\tnumeric\tRape arrests (per 100,000) "
      ]
    },
    {
      "cell_type": "code",
      "metadata": {
        "id": "4m442SjmHzX-",
        "outputId": "0e18daa8-3265-48a5-ae21-4ef4f58890e0",
        "colab": {
          "base_uri": "https://localhost:8080/",
          "height": 195
        }
      },
      "source": [
        "violent_crime = pd.read_csv(\"https://raw.githubusercontent.com/emmanueliarussi/DataScienceCapstone/master/3_MidtermProjects/ProjectUSA/data/violent_crime.csv\")\n",
        "violent_crime.head()"
      ],
      "execution_count": 124,
      "outputs": [
        {
          "output_type": "execute_result",
          "data": {
            "text/html": [
              "<div>\n",
              "<style scoped>\n",
              "    .dataframe tbody tr th:only-of-type {\n",
              "        vertical-align: middle;\n",
              "    }\n",
              "\n",
              "    .dataframe tbody tr th {\n",
              "        vertical-align: top;\n",
              "    }\n",
              "\n",
              "    .dataframe thead th {\n",
              "        text-align: right;\n",
              "    }\n",
              "</style>\n",
              "<table border=\"1\" class=\"dataframe\">\n",
              "  <thead>\n",
              "    <tr style=\"text-align: right;\">\n",
              "      <th></th>\n",
              "      <th>Unnamed: 0</th>\n",
              "      <th>Murder</th>\n",
              "      <th>Assault</th>\n",
              "      <th>UrbanPop</th>\n",
              "      <th>Rape</th>\n",
              "    </tr>\n",
              "  </thead>\n",
              "  <tbody>\n",
              "    <tr>\n",
              "      <th>0</th>\n",
              "      <td>Alabama</td>\n",
              "      <td>13.2</td>\n",
              "      <td>236</td>\n",
              "      <td>58</td>\n",
              "      <td>21.2</td>\n",
              "    </tr>\n",
              "    <tr>\n",
              "      <th>1</th>\n",
              "      <td>Alaska</td>\n",
              "      <td>10.0</td>\n",
              "      <td>263</td>\n",
              "      <td>48</td>\n",
              "      <td>44.5</td>\n",
              "    </tr>\n",
              "    <tr>\n",
              "      <th>2</th>\n",
              "      <td>Arizona</td>\n",
              "      <td>8.1</td>\n",
              "      <td>294</td>\n",
              "      <td>80</td>\n",
              "      <td>31.0</td>\n",
              "    </tr>\n",
              "    <tr>\n",
              "      <th>3</th>\n",
              "      <td>Arkansas</td>\n",
              "      <td>8.8</td>\n",
              "      <td>190</td>\n",
              "      <td>50</td>\n",
              "      <td>19.5</td>\n",
              "    </tr>\n",
              "    <tr>\n",
              "      <th>4</th>\n",
              "      <td>California</td>\n",
              "      <td>9.0</td>\n",
              "      <td>276</td>\n",
              "      <td>91</td>\n",
              "      <td>40.6</td>\n",
              "    </tr>\n",
              "  </tbody>\n",
              "</table>\n",
              "</div>"
            ],
            "text/plain": [
              "   Unnamed: 0  Murder  Assault  UrbanPop  Rape\n",
              "0     Alabama    13.2      236        58  21.2\n",
              "1      Alaska    10.0      263        48  44.5\n",
              "2     Arizona     8.1      294        80  31.0\n",
              "3    Arkansas     8.8      190        50  19.5\n",
              "4  California     9.0      276        91  40.6"
            ]
          },
          "metadata": {
            "tags": []
          },
          "execution_count": 124
        }
      ]
    },
    {
      "cell_type": "code",
      "metadata": {
        "id": "QBKzdpEKtiuM",
        "outputId": "2accd580-1dfa-4fc8-90a0-d15643579616",
        "colab": {
          "base_uri": "https://localhost:8080/",
          "height": 195
        }
      },
      "source": [
        "violent_crime.rename(columns = {'Unnamed: 0':'States'}, inplace = True) #Se renombra la primer columna con el nombre de \"States\"\n",
        "\n",
        "violent_crime.head()"
      ],
      "execution_count": 125,
      "outputs": [
        {
          "output_type": "execute_result",
          "data": {
            "text/html": [
              "<div>\n",
              "<style scoped>\n",
              "    .dataframe tbody tr th:only-of-type {\n",
              "        vertical-align: middle;\n",
              "    }\n",
              "\n",
              "    .dataframe tbody tr th {\n",
              "        vertical-align: top;\n",
              "    }\n",
              "\n",
              "    .dataframe thead th {\n",
              "        text-align: right;\n",
              "    }\n",
              "</style>\n",
              "<table border=\"1\" class=\"dataframe\">\n",
              "  <thead>\n",
              "    <tr style=\"text-align: right;\">\n",
              "      <th></th>\n",
              "      <th>States</th>\n",
              "      <th>Murder</th>\n",
              "      <th>Assault</th>\n",
              "      <th>UrbanPop</th>\n",
              "      <th>Rape</th>\n",
              "    </tr>\n",
              "  </thead>\n",
              "  <tbody>\n",
              "    <tr>\n",
              "      <th>0</th>\n",
              "      <td>Alabama</td>\n",
              "      <td>13.2</td>\n",
              "      <td>236</td>\n",
              "      <td>58</td>\n",
              "      <td>21.2</td>\n",
              "    </tr>\n",
              "    <tr>\n",
              "      <th>1</th>\n",
              "      <td>Alaska</td>\n",
              "      <td>10.0</td>\n",
              "      <td>263</td>\n",
              "      <td>48</td>\n",
              "      <td>44.5</td>\n",
              "    </tr>\n",
              "    <tr>\n",
              "      <th>2</th>\n",
              "      <td>Arizona</td>\n",
              "      <td>8.1</td>\n",
              "      <td>294</td>\n",
              "      <td>80</td>\n",
              "      <td>31.0</td>\n",
              "    </tr>\n",
              "    <tr>\n",
              "      <th>3</th>\n",
              "      <td>Arkansas</td>\n",
              "      <td>8.8</td>\n",
              "      <td>190</td>\n",
              "      <td>50</td>\n",
              "      <td>19.5</td>\n",
              "    </tr>\n",
              "    <tr>\n",
              "      <th>4</th>\n",
              "      <td>California</td>\n",
              "      <td>9.0</td>\n",
              "      <td>276</td>\n",
              "      <td>91</td>\n",
              "      <td>40.6</td>\n",
              "    </tr>\n",
              "  </tbody>\n",
              "</table>\n",
              "</div>"
            ],
            "text/plain": [
              "       States  Murder  Assault  UrbanPop  Rape\n",
              "0     Alabama    13.2      236        58  21.2\n",
              "1      Alaska    10.0      263        48  44.5\n",
              "2     Arizona     8.1      294        80  31.0\n",
              "3    Arkansas     8.8      190        50  19.5\n",
              "4  California     9.0      276        91  40.6"
            ]
          },
          "metadata": {
            "tags": []
          },
          "execution_count": 125
        }
      ]
    },
    {
      "cell_type": "code",
      "metadata": {
        "id": "j2S39iHGJOIU",
        "outputId": "fbb7effb-3a84-4ac6-8a21-256831e6621c",
        "colab": {
          "base_uri": "https://localhost:8080/"
        }
      },
      "source": [
        "print(violent_crime.columns)\n",
        "print('')\n",
        "print(violent_crime.iloc[:,0])"
      ],
      "execution_count": 126,
      "outputs": [
        {
          "output_type": "stream",
          "text": [
            "Index(['States', 'Murder', 'Assault', 'UrbanPop', 'Rape'], dtype='object')\n",
            "\n",
            "0            Alabama\n",
            "1             Alaska\n",
            "2            Arizona\n",
            "3           Arkansas\n",
            "4         California\n",
            "5           Colorado\n",
            "6        Connecticut\n",
            "7           Delaware\n",
            "8            Florida\n",
            "9            Georgia\n",
            "10            Hawaii\n",
            "11             Idaho\n",
            "12          Illinois\n",
            "13           Indiana\n",
            "14              Iowa\n",
            "15            Kansas\n",
            "16          Kentucky\n",
            "17         Louisiana\n",
            "18             Maine\n",
            "19          Maryland\n",
            "20     Massachusetts\n",
            "21          Michigan\n",
            "22         Minnesota\n",
            "23       Mississippi\n",
            "24          Missouri\n",
            "25           Montana\n",
            "26          Nebraska\n",
            "27            Nevada\n",
            "28     New Hampshire\n",
            "29        New Jersey\n",
            "30        New Mexico\n",
            "31          New York\n",
            "32    North Carolina\n",
            "33      North Dakota\n",
            "34              Ohio\n",
            "35          Oklahoma\n",
            "36            Oregon\n",
            "37      Pennsylvania\n",
            "38      Rhode Island\n",
            "39    South Carolina\n",
            "40      South Dakota\n",
            "41         Tennessee\n",
            "42             Texas\n",
            "43              Utah\n",
            "44           Vermont\n",
            "45          Virginia\n",
            "46        Washington\n",
            "47     West Virginia\n",
            "48         Wisconsin\n",
            "49           Wyoming\n",
            "Name: States, dtype: object\n"
          ],
          "name": "stdout"
        }
      ]
    },
    {
      "cell_type": "code",
      "metadata": {
        "id": "xGejyJFRtsDm",
        "outputId": "ad14298e-31e0-44bf-89a2-806e6101663e",
        "colab": {
          "base_uri": "https://localhost:8080/",
          "height": 743
        }
      },
      "source": [
        "import seaborn as sns\n",
        "\n",
        "sns.pairplot(violent_crime[['Murder',\t'Assault',\t'UrbanPop', 'Rape']])"
      ],
      "execution_count": 127,
      "outputs": [
        {
          "output_type": "execute_result",
          "data": {
            "text/plain": [
              "<seaborn.axisgrid.PairGrid at 0x7fa31cf35a20>"
            ]
          },
          "metadata": {
            "tags": []
          },
          "execution_count": 127
        },
        {
          "output_type": "display_data",
          "data": {
            "image/png": "[encoded data removed]",
            "text/plain": [
              "<Figure size 720x720 with 20 Axes>"
            ]
          },
          "metadata": {
            "tags": [],
            "needs_background": "light"
          }
        }
      ]
    },
    {
      "cell_type": "code",
      "metadata": {
        "id": "o5ciL-V7Jrie",
        "outputId": "c2bdacf4-1c0a-4837-a123-51cc75e4cd8d",
        "colab": {
          "base_uri": "https://localhost:8080/",
          "height": 284
        }
      },
      "source": [
        "plt.plot(violent_crime.iloc[:,0],violent_crime.Murder,'bo',label='Murder')\n",
        "plt.plot(violent_crime.iloc[:,0],violent_crime.Assault,'ro',label='Assault')\n",
        "plt.plot(violent_crime.iloc[:,0],violent_crime.UrbanPop,'go',label='UrbanPop')\n",
        "plt.plot(violent_crime.iloc[:,0],violent_crime.Rape,'mo',label='Rape')\n",
        "plt.legend(loc='upper right')"
      ],
      "execution_count": 128,
      "outputs": [
        {
          "output_type": "execute_result",
          "data": {
            "text/plain": [
              "<matplotlib.legend.Legend at 0x7fa31c82e940>"
            ]
          },
          "metadata": {
            "tags": []
          },
          "execution_count": 128
        },
        {
          "output_type": "display_data",
          "data": {
            "image/png": "[encoded data removed]",
            "text/plain": [
              "<Figure size 432x288 with 1 Axes>"
            ]
          },
          "metadata": {
            "tags": [],
            "needs_background": "light"
          }
        }
      ]
    },
    {
      "cell_type": "code",
      "metadata": {
        "id": "H5TeUioNbyLU",
        "outputId": "e95aa564-0562-49e6-ae55-4d5d2fc436bc",
        "colab": {
          "base_uri": "https://localhost:8080/"
        }
      },
      "source": [
        "murder_per_urbanpeople=np.zeros(violent_crime.iloc[:,0].size)\n",
        "assault_per_urbanpeople=np.zeros(violent_crime.iloc[:,0].size)\n",
        "rape_per_urbanpeople=np.zeros(violent_crime.iloc[:,0].size)\n",
        "\n",
        "crimes=np.zeros((violent_crime.iloc[:,0].size,4))\n",
        "\n",
        "for i in np.arange(0,violent_crime.iloc[:,0].size):\n",
        "  crimes[i,0]=violent_crime.UrbanPop[i]\n",
        "  crimes[i,1]=violent_crime.Murder[i]\n",
        "  crimes[i,2]=violent_crime.Assault[i]\n",
        "  crimes[i,3]=violent_crime.Rape[i]\n",
        "\n",
        "  murder_per_urbanpeople[i]=violent_crime.Murder[i]/violent_crime.UrbanPop[i]\n",
        "  assault_per_urbanpeople[i]=violent_crime.Assault[i]/violent_crime.UrbanPop[i]\n",
        "  rape_per_urbanpeople[i]=violent_crime.Rape[i]/violent_crime.UrbanPop[i]\n",
        "\n",
        "print(murder_per_urbanpeople)\n",
        "print(assault_per_urbanpeople)\n",
        "\n",
        "print()\n",
        "print(crimes.shape)"
      ],
      "execution_count": 129,
      "outputs": [
        {
          "output_type": "stream",
          "text": [
            "[0.22758621 0.20833333 0.10125    0.176      0.0989011  0.10128205\n",
            " 0.04285714 0.08194444 0.1925     0.29       0.06385542 0.04814815\n",
            " 0.1253012  0.11076923 0.03859649 0.09090909 0.18653846 0.23333333\n",
            " 0.04117647 0.16865672 0.05176471 0.16351351 0.04090909 0.36590909\n",
            " 0.12857143 0.11320755 0.06935484 0.15061728 0.0375     0.08314607\n",
            " 0.16285714 0.12906977 0.28888889 0.01818182 0.09733333 0.09705882\n",
            " 0.07313433 0.0875     0.03908046 0.3        0.08444444 0.22372881\n",
            " 0.15875    0.04       0.06875    0.13492063 0.05479452 0.14615385\n",
            " 0.03939394 0.11333333]\n",
            "[4.06896552 5.47916667 3.675      3.8        3.03296703 2.61538462\n",
            " 1.42857143 3.30555556 4.1875     3.51666667 0.55421687 2.22222222\n",
            " 3.         1.73846154 0.98245614 1.74242424 2.09615385 3.77272727\n",
            " 1.62745098 4.47761194 1.75294118 3.44594595 1.09090909 5.88636364\n",
            " 2.54285714 2.05660377 1.64516129 3.11111111 1.01785714 1.78651685\n",
            " 4.07142857 2.95348837 7.48888889 1.02272727 1.6        2.22058824\n",
            " 2.37313433 1.47222222 2.         5.8125     1.91111111 3.18644068\n",
            " 2.5125     1.5        1.5        2.47619048 1.98630137 2.07692308\n",
            " 0.8030303  2.68333333]\n",
            "\n",
            "(50, 4)\n"
          ],
          "name": "stdout"
        }
      ]
    },
    {
      "cell_type": "markdown",
      "metadata": {
        "id": "W27kZt62gMEg"
      },
      "source": [
        "#**K mean**"
      ]
    },
    {
      "cell_type": "code",
      "metadata": {
        "id": "LuQqpHzXlbIS"
      },
      "source": [
        "from sklearn.cluster import KMeans"
      ],
      "execution_count": 130,
      "outputs": []
    },
    {
      "cell_type": "code",
      "metadata": {
        "id": "LQYXKk1RlTNO",
        "outputId": "08ec96f5-5be3-4a06-a445-d436d52120ab",
        "colab": {
          "base_uri": "https://localhost:8080/"
        }
      },
      "source": [
        "cluster_kmeans= KMeans(n_clusters=4)\n",
        "\n",
        "classification_kmeans = cluster_kmeans.fit(crimes)\n",
        "print(classification_kmeans)\n",
        "\n",
        "centroids = classification_kmeans.cluster_centers_\n",
        "\n",
        "print(centroids) "
      ],
      "execution_count": 131,
      "outputs": [
        {
          "output_type": "stream",
          "text": [
            "KMeans(algorithm='auto', copy_x=True, init='k-means++', max_iter=300,\n",
            "       n_clusters=4, n_init=10, n_jobs=None, precompute_distances='auto',\n",
            "       random_state=None, tol=0.0001, verbose=0)\n",
            "[[ 65.6          5.59       112.4         17.27      ]\n",
            " [ 68.3125      11.8125     272.5625      28.375     ]\n",
            " [ 53.9          2.95        62.7         11.51      ]\n",
            " [ 70.64285714   8.21428571 173.28571429  22.84285714]]\n"
          ],
          "name": "stdout"
        }
      ]
    },
    {
      "cell_type": "markdown",
      "metadata": {
        "id": "bxygdK8kdyRp"
      },
      "source": [
        "En los centroides, el primer valor corresponde al porcentaje de población que vive en la ciudad(UrbanPop). La segunda columna corresponde a los asesinatos(Murder), la tercera a los asaltos(Assault) y la última a las violaciones(Rape)."
      ]
    },
    {
      "cell_type": "markdown",
      "metadata": {
        "id": "qrEv9XGn2MwB"
      },
      "source": [
        "Divido cada número de crímenes por el porcentaje de gente que vive en las ciudades en los centroides, así tendría una idea de que tantos crímenes se cometen en función de la gente que vive en las ciudades para cada grupo. \\\\\n",
        "\n",
        "Las filas corresponden a cada grupo, el valor de la primer columna corresponde a Murder/UrbanPop, el de la segunda a Assault/UrbanPop y el de la tercera a Rape/UrbanPop."
      ]
    },
    {
      "cell_type": "code",
      "metadata": {
        "id": "U6sVpZVWxyZS",
        "outputId": "d65f1e47-2036-46d5-f4b6-06bccdac1e8e",
        "colab": {
          "base_uri": "https://localhost:8080/"
        }
      },
      "source": [
        "centroids_per_UrbanPop=np.zeros((centroids.shape[0],centroids.shape[0]-1))\n",
        "\n",
        "\n",
        "for i in np.arange(0,centroids_per_UrbanPop.shape[0]):\n",
        "  for j in np.arange(0,centroids_per_UrbanPop.shape[1]):\n",
        "    centroids_per_UrbanPop[i,j]=centroids[i,j+1]/centroids[i,0]\n",
        "  \n",
        "print(centroids_per_UrbanPop) \n",
        "\n"
      ],
      "execution_count": 132,
      "outputs": [
        {
          "output_type": "stream",
          "text": [
            "[[0.08521341 1.71341463 0.2632622 ]\n",
            " [0.17291857 3.98993596 0.41537054]\n",
            " [0.05473098 1.16326531 0.2135436 ]\n",
            " [0.11627907 2.45298281 0.32335693]]\n"
          ],
          "name": "stdout"
        }
      ]
    },
    {
      "cell_type": "markdown",
      "metadata": {
        "id": "ichnMYhj8j8P"
      },
      "source": [
        "Bansándose en los centroides de cada grupo, en orden de seguridad decreciente, los grupos se clasificarían: \\\\\n",
        "\n",
        "Grupo 3: Muy seguro\n",
        "\n",
        "Grupo 1: Seguro\n",
        "\n",
        "Grupo 0: Inseguro\n",
        "\n",
        "Grupo 2: Muy inseguro\n",
        "\n",
        "Respecto a los centroides, los Estados correspondientes al grupo 2 son los mas inseguros, y no son los que presentan un mayor porcentaje de población en las ciudades, a pesar de presentar un valor similar al del grupo 0 en este porcentaje (grupo con mayor porcentaje de población en las ciudades).\n"
      ]
    },
    {
      "cell_type": "code",
      "metadata": {
        "id": "wnBYEieTrJAP",
        "outputId": "81f0da7f-3ed0-485b-e7a8-7d8a9ae610ed",
        "colab": {
          "base_uri": "https://localhost:8080/"
        }
      },
      "source": [
        "groups=np.zeros(violent_crime.iloc[:,0].size)\n",
        "for i in np.arange(0,violent_crime.iloc[:,0].size):\n",
        "  groups[i]=cluster_kmeans.predict(np.c_[crimes[i,0],crimes[i,1],crimes[i,2],crimes[i,3]])\n",
        "  print(violent_crime.iloc[i,0],groups[i])\n",
        "\n",
        "print(groups)"
      ],
      "execution_count": 133,
      "outputs": [
        {
          "output_type": "stream",
          "text": [
            "Alabama 1.0\n",
            "Alaska 1.0\n",
            "Arizona 1.0\n",
            "Arkansas 3.0\n",
            "California 1.0\n",
            "Colorado 3.0\n",
            "Connecticut 0.0\n",
            "Delaware 1.0\n",
            "Florida 1.0\n",
            "Georgia 3.0\n",
            "Hawaii 2.0\n",
            "Idaho 0.0\n",
            "Illinois 1.0\n",
            "Indiana 0.0\n",
            "Iowa 2.0\n",
            "Kansas 0.0\n",
            "Kentucky 0.0\n",
            "Louisiana 1.0\n",
            "Maine 2.0\n",
            "Maryland 1.0\n",
            "Massachusetts 3.0\n",
            "Michigan 1.0\n",
            "Minnesota 2.0\n",
            "Mississippi 1.0\n",
            "Missouri 3.0\n",
            "Montana 0.0\n",
            "Nebraska 0.0\n",
            "Nevada 1.0\n",
            "New Hampshire 2.0\n",
            "New Jersey 3.0\n",
            "New Mexico 1.0\n",
            "New York 1.0\n",
            "North Carolina 1.0\n",
            "North Dakota 2.0\n",
            "Ohio 0.0\n",
            "Oklahoma 3.0\n",
            "Oregon 3.0\n",
            "Pennsylvania 0.0\n",
            "Rhode Island 3.0\n",
            "South Carolina 1.0\n",
            "South Dakota 2.0\n",
            "Tennessee 3.0\n",
            "Texas 3.0\n",
            "Utah 0.0\n",
            "Vermont 2.0\n",
            "Virginia 3.0\n",
            "Washington 3.0\n",
            "West Virginia 2.0\n",
            "Wisconsin 2.0\n",
            "Wyoming 3.0\n",
            "[1. 1. 1. 3. 1. 3. 0. 1. 1. 3. 2. 0. 1. 0. 2. 0. 0. 1. 2. 1. 3. 1. 2. 1.\n",
            " 3. 0. 0. 1. 2. 3. 1. 1. 1. 2. 0. 3. 3. 0. 3. 1. 2. 3. 3. 0. 2. 3. 3. 2.\n",
            " 2. 3.]\n"
          ],
          "name": "stdout"
        }
      ]
    },
    {
      "cell_type": "code",
      "metadata": {
        "id": "aTTbhBLV01tQ",
        "outputId": "47fda86a-e531-4d76-a461-8bcaa81fc07e",
        "colab": {
          "base_uri": "https://localhost:8080/"
        }
      },
      "source": [
        "for i in np.arange(0,violent_crime.iloc[:,0].size):\n",
        "  print(violent_crime.iloc[i,0],violent_crime.iloc[i,1],violent_crime.iloc[i,2],violent_crime.iloc[i,3],violent_crime.iloc[i,4],'  ','group:',groups[i])"
      ],
      "execution_count": 134,
      "outputs": [
        {
          "output_type": "stream",
          "text": [
            "Alabama 13.2 236 58 21.2    group: 1.0\n",
            "Alaska 10.0 263 48 44.5    group: 1.0\n",
            "Arizona 8.1 294 80 31.0    group: 1.0\n",
            "Arkansas 8.8 190 50 19.5    group: 3.0\n",
            "California 9.0 276 91 40.6    group: 1.0\n",
            "Colorado 7.9 204 78 38.7    group: 3.0\n",
            "Connecticut 3.3 110 77 11.1    group: 0.0\n",
            "Delaware 5.9 238 72 15.8    group: 1.0\n",
            "Florida 15.4 335 80 31.9    group: 1.0\n",
            "Georgia 17.4 211 60 25.8    group: 3.0\n",
            "Hawaii 5.3 46 83 20.2    group: 2.0\n",
            "Idaho 2.6 120 54 14.2    group: 0.0\n",
            "Illinois 10.4 249 83 24.0    group: 1.0\n",
            "Indiana 7.2 113 65 21.0    group: 0.0\n",
            "Iowa 2.2 56 57 11.3    group: 2.0\n",
            "Kansas 6.0 115 66 18.0    group: 0.0\n",
            "Kentucky 9.7 109 52 16.3    group: 0.0\n",
            "Louisiana 15.4 249 66 22.2    group: 1.0\n",
            "Maine 2.1 83 51 7.8    group: 2.0\n",
            "Maryland 11.3 300 67 27.8    group: 1.0\n",
            "Massachusetts 4.4 149 85 16.3    group: 3.0\n",
            "Michigan 12.1 255 74 35.1    group: 1.0\n",
            "Minnesota 2.7 72 66 14.9    group: 2.0\n",
            "Mississippi 16.1 259 44 17.1    group: 1.0\n",
            "Missouri 9.0 178 70 28.2    group: 3.0\n",
            "Montana 6.0 109 53 16.4    group: 0.0\n",
            "Nebraska 4.3 102 62 16.5    group: 0.0\n",
            "Nevada 12.2 252 81 46.0    group: 1.0\n",
            "New Hampshire 2.1 57 56 9.5    group: 2.0\n",
            "New Jersey 7.4 159 89 18.8    group: 3.0\n",
            "New Mexico 11.4 285 70 32.1    group: 1.0\n",
            "New York 11.1 254 86 26.1    group: 1.0\n",
            "North Carolina 13.0 337 45 16.1    group: 1.0\n",
            "North Dakota 0.8 45 44 7.3    group: 2.0\n",
            "Ohio 7.3 120 75 21.4    group: 0.0\n",
            "Oklahoma 6.6 151 68 20.0    group: 3.0\n",
            "Oregon 4.9 159 67 29.3    group: 3.0\n",
            "Pennsylvania 6.3 106 72 14.9    group: 0.0\n",
            "Rhode Island 3.4 174 87 8.3    group: 3.0\n",
            "South Carolina 14.4 279 48 22.5    group: 1.0\n",
            "South Dakota 3.8 86 45 12.8    group: 2.0\n",
            "Tennessee 13.2 188 59 26.9    group: 3.0\n",
            "Texas 12.7 201 80 25.5    group: 3.0\n",
            "Utah 3.2 120 80 22.9    group: 0.0\n",
            "Vermont 2.2 48 32 11.2    group: 2.0\n",
            "Virginia 8.5 156 63 20.7    group: 3.0\n",
            "Washington 4.0 145 73 26.2    group: 3.0\n",
            "West Virginia 5.7 81 39 9.3    group: 2.0\n",
            "Wisconsin 2.6 53 66 10.8    group: 2.0\n",
            "Wyoming 6.8 161 60 15.6    group: 3.0\n"
          ],
          "name": "stdout"
        }
      ]
    },
    {
      "cell_type": "code",
      "metadata": {
        "id": "LKgZHu7t2ESg",
        "outputId": "1f2effc9-5b9c-4ab8-cd7a-6593d47c842d",
        "colab": {
          "base_uri": "https://localhost:8080/"
        }
      },
      "source": [
        "#group_0_data=np.zeros((violent_crime.iloc[:,0].size,4))\n",
        "#group_1_data=np.zeros((violent_crime.iloc[:,0].size,4))\n",
        "#group_2_data=np.zeros((violent_crime.iloc[:,0].size,4))\n",
        "#group_3_data=np.zeros((violent_crime.iloc[:,0].size,4))\n",
        "\n",
        "group_0_data=[]\n",
        "group_1_data=[]\n",
        "group_2_data=[]\n",
        "group_3_data=[]\n",
        "\n",
        "\n",
        "for i in np.arange(0,violent_crime.iloc[:,0].size):\n",
        "  if groups[i]==0:\n",
        "    #Si lo pongo como violent_crime.iloc[i,:] no me copia los datos como yo quiero\n",
        "    group_0_data.append([violent_crime.iloc[i,0],violent_crime.iloc[i,1],violent_crime.iloc[i,2],violent_crime.iloc[i,3],violent_crime.iloc[i,4]])\n",
        "  if groups[i]==1:\n",
        "    group_1_data.append([violent_crime.iloc[i,0],violent_crime.iloc[i,1],violent_crime.iloc[i,2],violent_crime.iloc[i,3],violent_crime.iloc[i,4]])\n",
        "  if groups[i]==2:\n",
        "    group_2_data.append([violent_crime.iloc[i,0],violent_crime.iloc[i,1],violent_crime.iloc[i,2],violent_crime.iloc[i,3],violent_crime.iloc[i,4]])\n",
        "  if groups[i]==3:\n",
        "    group_3_data.append([violent_crime.iloc[i,0],violent_crime.iloc[i,1],violent_crime.iloc[i,2],violent_crime.iloc[i,3],violent_crime.iloc[i,4]])\n",
        "\n",
        "print(len(group_0_data)+len(group_1_data)+len(group_2_data)+len(group_3_data))\n",
        "print('')\n",
        "group_0_data=np.resize(group_0_data,(len(group_0_data),5))\n",
        "group_1_data=np.resize(group_1_data,(len(group_1_data),5))\n",
        "group_2_data=np.resize(group_2_data,(len(group_2_data),5))\n",
        "group_3_data=np.resize(group_3_data,(len(group_3_data),5))\n",
        "\n",
        "print(group_0_data[:,1])\n",
        "print(group_1_data[:,1])\n",
        "print(group_2_data[:,1])\n",
        "print(group_3_data[:,1])\n",
        "print('')\n",
        "\n",
        "print('Número mínimo y máximo de asesinatos de cada grupo de clasificación:')\n",
        "print('Grupo 0:',min(group_0_data[:,1]),max(group_0_data[:,1]))\n",
        "print('Grupo 1:',min(group_1_data[:,1]),max(group_1_data[:,1]))\n",
        "print('Grupo 2:',min(group_2_data[:,1]),max(group_2_data[:,1]))\n",
        "print('Grupo 3:',min(group_3_data[:,1]),max(group_3_data[:,1]))"
      ],
      "execution_count": 135,
      "outputs": [
        {
          "output_type": "stream",
          "text": [
            "50\n",
            "\n",
            "['3.3' '2.6' '7.2' '6.0' '9.7' '6.0' '4.3' '7.3' '6.3' '3.2']\n",
            "['13.2' '10.0' '8.1' '9.0' '5.9' '15.4' '10.4' '15.4' '11.3' '12.1' '16.1'\n",
            " '12.2' '11.4' '11.1' '13.0' '14.4']\n",
            "['5.3' '2.2' '2.1' '2.7' '2.1' '0.8' '3.8' '2.2' '5.7' '2.6']\n",
            "['8.8' '7.9' '17.4' '4.4' '9.0' '7.4' '6.6' '4.9' '3.4' '13.2' '12.7'\n",
            " '8.5' '4.0' '6.8']\n",
            "\n",
            "Número mínimo y máximo de asesinatos de cada grupo de clasificación:\n",
            "Grupo 0: 2.6 9.7\n",
            "Grupo 1: 10.0 9.0\n",
            "Grupo 2: 0.8 5.7\n",
            "Grupo 3: 12.7 9.0\n"
          ],
          "name": "stdout"
        }
      ]
    },
    {
      "cell_type": "markdown",
      "metadata": {
        "id": "qZo_-gVne6uA"
      },
      "source": [
        "No sé por que en el grupo 0 y 3 me calcula mal los mínimos y máximos, y en el 1 y 2 los calcula bien."
      ]
    },
    {
      "cell_type": "code",
      "metadata": {
        "id": "hywyAJ46xmEb",
        "outputId": "89fc64a6-31ca-4872-b4b6-0904be66d36b",
        "colab": {
          "base_uri": "https://localhost:8080/"
        }
      },
      "source": [
        "crimes_dataframe = pd.DataFrame(crimes)\n",
        "print(crimes_dataframe.columns)\n",
        "print()\n",
        "#crimes_dataframe.rename(columns = {'0':'UrbanPop', '1':'Murder','2':'Assault','3':'Rape'}, inplace = True)\n",
        "\n",
        "crimes_dataframe.columns = ['UrbanPop', 'Murder','Assault','Rape']\n",
        "\n",
        "print(crimes_dataframe)"
      ],
      "execution_count": 136,
      "outputs": [
        {
          "output_type": "stream",
          "text": [
            "RangeIndex(start=0, stop=4, step=1)\n",
            "\n",
            "    UrbanPop  Murder  Assault  Rape\n",
            "0       58.0    13.2    236.0  21.2\n",
            "1       48.0    10.0    263.0  44.5\n",
            "2       80.0     8.1    294.0  31.0\n",
            "3       50.0     8.8    190.0  19.5\n",
            "4       91.0     9.0    276.0  40.6\n",
            "5       78.0     7.9    204.0  38.7\n",
            "6       77.0     3.3    110.0  11.1\n",
            "7       72.0     5.9    238.0  15.8\n",
            "8       80.0    15.4    335.0  31.9\n",
            "9       60.0    17.4    211.0  25.8\n",
            "10      83.0     5.3     46.0  20.2\n",
            "11      54.0     2.6    120.0  14.2\n",
            "12      83.0    10.4    249.0  24.0\n",
            "13      65.0     7.2    113.0  21.0\n",
            "14      57.0     2.2     56.0  11.3\n",
            "15      66.0     6.0    115.0  18.0\n",
            "16      52.0     9.7    109.0  16.3\n",
            "17      66.0    15.4    249.0  22.2\n",
            "18      51.0     2.1     83.0   7.8\n",
            "19      67.0    11.3    300.0  27.8\n",
            "20      85.0     4.4    149.0  16.3\n",
            "21      74.0    12.1    255.0  35.1\n",
            "22      66.0     2.7     72.0  14.9\n",
            "23      44.0    16.1    259.0  17.1\n",
            "24      70.0     9.0    178.0  28.2\n",
            "25      53.0     6.0    109.0  16.4\n",
            "26      62.0     4.3    102.0  16.5\n",
            "27      81.0    12.2    252.0  46.0\n",
            "28      56.0     2.1     57.0   9.5\n",
            "29      89.0     7.4    159.0  18.8\n",
            "30      70.0    11.4    285.0  32.1\n",
            "31      86.0    11.1    254.0  26.1\n",
            "32      45.0    13.0    337.0  16.1\n",
            "33      44.0     0.8     45.0   7.3\n",
            "34      75.0     7.3    120.0  21.4\n",
            "35      68.0     6.6    151.0  20.0\n",
            "36      67.0     4.9    159.0  29.3\n",
            "37      72.0     6.3    106.0  14.9\n",
            "38      87.0     3.4    174.0   8.3\n",
            "39      48.0    14.4    279.0  22.5\n",
            "40      45.0     3.8     86.0  12.8\n",
            "41      59.0    13.2    188.0  26.9\n",
            "42      80.0    12.7    201.0  25.5\n",
            "43      80.0     3.2    120.0  22.9\n",
            "44      32.0     2.2     48.0  11.2\n",
            "45      63.0     8.5    156.0  20.7\n",
            "46      73.0     4.0    145.0  26.2\n",
            "47      39.0     5.7     81.0   9.3\n",
            "48      66.0     2.6     53.0  10.8\n",
            "49      60.0     6.8    161.0  15.6\n"
          ],
          "name": "stdout"
        }
      ]
    },
    {
      "cell_type": "code",
      "metadata": {
        "id": "wQOsS4xe9Hnk",
        "outputId": "eca6c310-6769-4f3a-d938-d5b675db546f",
        "colab": {
          "base_uri": "https://localhost:8080/"
        }
      },
      "source": [
        "crimes_dataframe['Crime_clusters'] = cluster_kmeans.labels_\n",
        "print(crimes_dataframe)"
      ],
      "execution_count": 137,
      "outputs": [
        {
          "output_type": "stream",
          "text": [
            "    UrbanPop  Murder  Assault  Rape  Crime_clusters\n",
            "0       58.0    13.2    236.0  21.2               1\n",
            "1       48.0    10.0    263.0  44.5               1\n",
            "2       80.0     8.1    294.0  31.0               1\n",
            "3       50.0     8.8    190.0  19.5               3\n",
            "4       91.0     9.0    276.0  40.6               1\n",
            "5       78.0     7.9    204.0  38.7               3\n",
            "6       77.0     3.3    110.0  11.1               0\n",
            "7       72.0     5.9    238.0  15.8               1\n",
            "8       80.0    15.4    335.0  31.9               1\n",
            "9       60.0    17.4    211.0  25.8               3\n",
            "10      83.0     5.3     46.0  20.2               2\n",
            "11      54.0     2.6    120.0  14.2               0\n",
            "12      83.0    10.4    249.0  24.0               1\n",
            "13      65.0     7.2    113.0  21.0               0\n",
            "14      57.0     2.2     56.0  11.3               2\n",
            "15      66.0     6.0    115.0  18.0               0\n",
            "16      52.0     9.7    109.0  16.3               0\n",
            "17      66.0    15.4    249.0  22.2               1\n",
            "18      51.0     2.1     83.0   7.8               2\n",
            "19      67.0    11.3    300.0  27.8               1\n",
            "20      85.0     4.4    149.0  16.3               3\n",
            "21      74.0    12.1    255.0  35.1               1\n",
            "22      66.0     2.7     72.0  14.9               2\n",
            "23      44.0    16.1    259.0  17.1               1\n",
            "24      70.0     9.0    178.0  28.2               3\n",
            "25      53.0     6.0    109.0  16.4               0\n",
            "26      62.0     4.3    102.0  16.5               0\n",
            "27      81.0    12.2    252.0  46.0               1\n",
            "28      56.0     2.1     57.0   9.5               2\n",
            "29      89.0     7.4    159.0  18.8               3\n",
            "30      70.0    11.4    285.0  32.1               1\n",
            "31      86.0    11.1    254.0  26.1               1\n",
            "32      45.0    13.0    337.0  16.1               1\n",
            "33      44.0     0.8     45.0   7.3               2\n",
            "34      75.0     7.3    120.0  21.4               0\n",
            "35      68.0     6.6    151.0  20.0               3\n",
            "36      67.0     4.9    159.0  29.3               3\n",
            "37      72.0     6.3    106.0  14.9               0\n",
            "38      87.0     3.4    174.0   8.3               3\n",
            "39      48.0    14.4    279.0  22.5               1\n",
            "40      45.0     3.8     86.0  12.8               2\n",
            "41      59.0    13.2    188.0  26.9               3\n",
            "42      80.0    12.7    201.0  25.5               3\n",
            "43      80.0     3.2    120.0  22.9               0\n",
            "44      32.0     2.2     48.0  11.2               2\n",
            "45      63.0     8.5    156.0  20.7               3\n",
            "46      73.0     4.0    145.0  26.2               3\n",
            "47      39.0     5.7     81.0   9.3               2\n",
            "48      66.0     2.6     53.0  10.8               2\n",
            "49      60.0     6.8    161.0  15.6               3\n"
          ],
          "name": "stdout"
        }
      ]
    },
    {
      "cell_type": "markdown",
      "metadata": {
        "id": "IyVmuz0p_mCD"
      },
      "source": [
        "**UrbanPop-Murder**"
      ]
    },
    {
      "cell_type": "code",
      "metadata": {
        "id": "Bvsw5fB4-NuY",
        "outputId": "42230322-d324-4989-bd3c-b624b5bd7442",
        "colab": {
          "base_uri": "https://localhost:8080/",
          "height": 300
        }
      },
      "source": [
        "centers=centroids\n",
        "\n",
        "plt.scatter(centers[:,0], centers[:,1], marker=\"x\", color='r')\n",
        "plt.scatter(crimes_dataframe.iloc[:,0],crimes_dataframe.iloc[:,1], c=[plt.cm.nipy_spectral(float(i) /4) for i in cluster_kmeans.labels_]);\n",
        "plt.colorbar() \n",
        "plt.xlabel('UrbanPop')\n",
        "plt.ylabel('Murder')"
      ],
      "execution_count": 138,
      "outputs": [
        {
          "output_type": "execute_result",
          "data": {
            "text/plain": [
              "Text(0, 0.5, 'Murder')"
            ]
          },
          "metadata": {
            "tags": []
          },
          "execution_count": 138
        },
        {
          "output_type": "display_data",
          "data": {
            "image/png": "[encoded data removed]",
            "text/plain": [
              "<Figure size 432x288 with 2 Axes>"
            ]
          },
          "metadata": {
            "tags": [],
            "needs_background": "light"
          }
        }
      ]
    },
    {
      "cell_type": "markdown",
      "metadata": {
        "id": "36Ft8Jb3_s6P"
      },
      "source": [
        "No es posible tener una separación marcada de los grupos."
      ]
    },
    {
      "cell_type": "markdown",
      "metadata": {
        "id": "vmTiDJcu_vBW"
      },
      "source": [
        "**UrbanPop-Assault**"
      ]
    },
    {
      "cell_type": "code",
      "metadata": {
        "id": "_9AQt-lL-Wcv",
        "outputId": "cf14f26f-6c4f-497e-9459-6d65549329e3",
        "colab": {
          "base_uri": "https://localhost:8080/",
          "height": 300
        }
      },
      "source": [
        "plt.scatter(centers[:,0], centers[:,2], marker=\"x\", color='r')\n",
        "plt.scatter(crimes_dataframe.iloc[:,0],crimes_dataframe.iloc[:,2], c=[plt.cm.nipy_spectral(float(i)/4) for i in cluster_kmeans.labels_]); \n",
        "plt.colorbar()\n",
        "plt.xlabel('UrbanPop')\n",
        "plt.ylabel('Assaults')"
      ],
      "execution_count": 139,
      "outputs": [
        {
          "output_type": "execute_result",
          "data": {
            "text/plain": [
              "Text(0, 0.5, 'Assaults')"
            ]
          },
          "metadata": {
            "tags": []
          },
          "execution_count": 139
        },
        {
          "output_type": "display_data",
          "data": {
            "image/png": "[encoded data removed]",
            "text/plain": [
              "<Figure size 432x288 with 2 Axes>"
            ]
          },
          "metadata": {
            "tags": [],
            "needs_background": "light"
          }
        }
      ]
    },
    {
      "cell_type": "code",
      "metadata": {
        "id": "l754Lo1C_jw_",
        "outputId": "0a4b7cdd-d230-4746-d451-6499fe427fef",
        "colab": {
          "base_uri": "https://localhost:8080/"
        }
      },
      "source": [
        "group_0_assault=[]\n",
        "group_1_assault=[]\n",
        "group_2_assault=[]\n",
        "group_3_assault=[]\n",
        "\n",
        "for i in np.arange(0,crimes_dataframe.Crime_clusters.size):\n",
        "  if crimes_dataframe.Crime_clusters[i]==0:\n",
        "    group_0_assault.append(crimes_dataframe.iloc[i,2])\n",
        "  if crimes_dataframe.Crime_clusters[i]==1:\n",
        "    group_1_assault.append(crimes_dataframe.iloc[i,2])\n",
        "  if crimes_dataframe.Crime_clusters[i]==2:\n",
        "    group_2_assault.append(crimes_dataframe.iloc[i,2])\n",
        "  if crimes_dataframe.Crime_clusters[i]==3:\n",
        "    group_3_assault.append(crimes_dataframe.iloc[i,2])\n",
        "\n",
        "\n",
        "print('Grupo 0:','Mínimo:',min( group_0_assault),'Máximo',max( group_0_assault))\n",
        "print('Grupo 1:','Mínimo:',min( group_1_assault),'Máximo',max( group_1_assault))\n",
        "print('Grupo 2:','Mínimo:',min( group_2_assault),'Máximo',max( group_2_assault))\n",
        "print('Grupo 3:','Mínimo:',min( group_3_assault),'Máximo',max( group_3_assault))\n",
        "\n",
        "minimos=[min( group_0_assault),min( group_1_assault),min( group_2_assault),min( group_3_assault)]\n",
        "maximos=[max( group_0_assault),max( group_1_assault),max( group_2_assault),max( group_3_assault)]\n",
        "\n",
        "print(sorted(minimos))\n",
        "print(sorted(maximos))\n",
        "\n",
        "minimos=sorted(minimos)\n",
        "maximos=sorted(maximos)\n",
        "\n",
        "divisiones=np.zeros(len(minimos)-1)\n",
        "\n",
        "for i in np.arange(0,len(minimos)-1):\n",
        "  divisiones[i]=(minimos[i+1]-maximos[i])/2\n",
        "  divisiones[i]=divisiones[i]+maximos[i]\n",
        "\n",
        "print(divisiones)\n"
      ],
      "execution_count": 140,
      "outputs": [
        {
          "output_type": "stream",
          "text": [
            "Grupo 0: Mínimo: 102.0 Máximo 120.0\n",
            "Grupo 1: Mínimo: 236.0 Máximo 337.0\n",
            "Grupo 2: Mínimo: 45.0 Máximo 86.0\n",
            "Grupo 3: Mínimo: 145.0 Máximo 211.0\n",
            "[45.0, 102.0, 145.0, 236.0]\n",
            "[86.0, 120.0, 211.0, 337.0]\n",
            "[ 94.  132.5 223.5]\n"
          ],
          "name": "stdout"
        }
      ]
    },
    {
      "cell_type": "code",
      "metadata": {
        "id": "hq2kWb9IbPch",
        "outputId": "5f34a967-651a-4eb1-f697-68b988e87ff3",
        "colab": {
          "base_uri": "https://localhost:8080/",
          "height": 329
        }
      },
      "source": [
        "# Step size of the mesh. Decrease to increase the quality of the VQ.\n",
        "h = 0.1     # point in the mesh [x_min, x_max]x[y_min, y_max].\n",
        "\n",
        "# Plot the decision boundary. For that, we will assign a color to each\n",
        "x_min, x_max = crimes_dataframe.iloc[:,0].min() - 2, crimes_dataframe.iloc[:,0].max() + 2\n",
        "y_min, y_max = crimes_dataframe.iloc[:,2].min() - 2, crimes_dataframe.iloc[:,2].max() + 2\n",
        "xx, yy = np.meshgrid(np.arange(x_min, x_max, h), np.arange(y_min, y_max, h))\n",
        "\n",
        "# Obtain labels for each point in mesh. Use last trained model.\n",
        "#z = cluster_kmeans.predict((np.c_[xx.ravel(), yy.ravel()]))\n",
        "\n",
        "# Put the result into a color plot\n",
        "#z = z.reshape(xx.shape)\n",
        "z=np.zeros(xx.shape)\n",
        "\n",
        "print(xx.shape[0])\n",
        "for i in np.arange(0,yy.shape[0]):\n",
        "  for j in np.arange(0,yy.shape[1]):\n",
        "    if yy[i,j]<divisiones[0]:\n",
        "      z[i,j]=3\n",
        "    if yy[i,j]>divisiones[0] and yy[i,j]<divisiones[1]:\n",
        "      z[i,j]=1\n",
        "    if yy[i,j]>divisiones[1] and yy[i,j]<divisiones[2]:\n",
        "      z[i,j]=2\n",
        "    if yy[i,j]>divisiones[2]:\n",
        "      z[i,j]=0\n",
        "\n",
        "\n",
        "plt.figure()\n",
        "plt.pcolormesh(xx, yy, z, cmap='magma',label=[0,1,2,3])\n",
        "plt.plot(crimes_dataframe.iloc[:,0],crimes_dataframe.iloc[:,2],'bo')\n",
        "#plt.plot(x_train[:,0],x_train[:,1],'go',label='Puntos de Train')\n",
        "plt.xlabel('% of people living in the city')\n",
        "plt.ylabel('Number of Assaults')\n",
        "#plt.legend(loc='upper left')\n",
        "plt.colorbar()\n",
        "plt.scatter(centers[:, 0], centers[:, 2],\n",
        "            marker='x', s=100, linewidths=1,\n",
        "            color='c', zorder=10)\n",
        "plt.title('Kmeans cluster classification, n_cluster=4')"
      ],
      "execution_count": 147,
      "outputs": [
        {
          "output_type": "stream",
          "text": [
            "2960\n"
          ],
          "name": "stdout"
        },
        {
          "output_type": "execute_result",
          "data": {
            "text/plain": [
              "Text(0.5, 1.0, 'Kmeans cluster classification, n_cluster=4')"
            ]
          },
          "metadata": {
            "tags": []
          },
          "execution_count": 147
        },
        {
          "output_type": "display_data",
          "data": {
            "image/png": "[encoded data removed]",
            "text/plain": [
              "<Figure size 432x288 with 2 Axes>"
            ]
          },
          "metadata": {
            "tags": [],
            "needs_background": "light"
          }
        }
      ]
    },
    {
      "cell_type": "markdown",
      "metadata": {
        "id": "WswFYcebEkJj"
      },
      "source": [
        "Se observa una buena clasificación de los grupos. Se pueden dividir los grupos por valores de asaltos."
      ]
    },
    {
      "cell_type": "markdown",
      "metadata": {
        "id": "NZgy33SZPmYh"
      },
      "source": [
        "**UrbanPop-Rape**"
      ]
    },
    {
      "cell_type": "code",
      "metadata": {
        "id": "JeWK74bz-hLc",
        "outputId": "78e470e3-f038-48e2-e696-2bab33960e24",
        "colab": {
          "base_uri": "https://localhost:8080/",
          "height": 300
        }
      },
      "source": [
        "plt.scatter(centers[:,1], centers[:,3], marker=\"x\", color='r')\n",
        "plt.scatter(crimes_dataframe.iloc[:,1],crimes_dataframe.iloc[:,3], c=[plt.cm.nipy_spectral(float(i) /4) for i in cluster_kmeans.labels_]); \n",
        "#plt.scatter(crimes_dataframe.iloc[:,1],crimes_dataframe.iloc[:,3], c=[plt.cm.nipy_spectral(float(1) /4)] )#for i in cluster_kmeans.labels_]);\n",
        "#plt.scatter(crimes_dataframe.iloc[:,1],crimes_dataframe.iloc[:,3], c=[plt.cm.nipy_spectral(float(2) /4)] )#for i in cluster_kmeans.labels_]);\n",
        "plt.colorbar()\n",
        "plt.xlabel('UrbanPop')\n",
        "plt.ylabel('Rape')\n"
      ],
      "execution_count": 153,
      "outputs": [
        {
          "output_type": "execute_result",
          "data": {
            "text/plain": [
              "Text(0, 0.5, 'Rape')"
            ]
          },
          "metadata": {
            "tags": []
          },
          "execution_count": 153
        },
        {
          "output_type": "display_data",
          "data": {
            "image/png": "[encoded data removed]",
            "text/plain": [
              "<Figure size 432x288 with 2 Axes>"
            ]
          },
          "metadata": {
            "tags": [],
            "needs_background": "light"
          }
        }
      ]
    },
    {
      "cell_type": "markdown",
      "metadata": {
        "id": "dEUTRFcjN7A5"
      },
      "source": [
        "No parece haber una clara diferenciación entre los grupos."
      ]
    },
    {
      "cell_type": "markdown",
      "metadata": {
        "id": "cPfXb6JCMbvc"
      },
      "source": [
        "**Murder-Assault**"
      ]
    },
    {
      "cell_type": "code",
      "metadata": {
        "id": "PborQNg1vzlD",
        "outputId": "199f25e4-9de6-4a38-f7b7-c9dd069f1b93",
        "colab": {
          "base_uri": "https://localhost:8080/",
          "height": 462
        }
      },
      "source": [
        "plt.figure(figsize=(7, 7))\n",
        "cluster_kmeans.labels_;\n",
        "centers = np.array(cluster_kmeans.cluster_centers_)\n",
        "plt.scatter(centers[:,1], centers[:,2], marker=\"x\", color='r')\n",
        "plt.scatter(crimes_dataframe.iloc[:,1],crimes_dataframe.iloc[:,2], c=[plt.cm.nipy_spectral(float(i) /4) for i in cluster_kmeans.labels_]); \n",
        "plt.xlabel('Murders')\n",
        "plt.ylabel('Assaults')"
      ],
      "execution_count": 154,
      "outputs": [
        {
          "output_type": "execute_result",
          "data": {
            "text/plain": [
              "Text(0, 0.5, 'Assaults')"
            ]
          },
          "metadata": {
            "tags": []
          },
          "execution_count": 154
        },
        {
          "output_type": "display_data",
          "data": {
            "image/png": "[encoded data removed]",
            "text/plain": [
              "<Figure size 504x504 with 1 Axes>"
            ]
          },
          "metadata": {
            "tags": [],
            "needs_background": "light"
          }
        }
      ]
    },
    {
      "cell_type": "markdown",
      "metadata": {
        "id": "vSabsSkKOD9A"
      },
      "source": [
        "Se nota una clara división de los grupos, en el parámetro Assaults, igual que en el gráfico realizado de UrbanPop-Assaults. Parece ser que el parámetro Assault es el principal atributo de la clasifciación"
      ]
    },
    {
      "cell_type": "markdown",
      "metadata": {
        "id": "Ol-oWI20o3Fe"
      },
      "source": [
        "#**------------------------------------------------------------------------------------------------------------------------------------------------------------------------------------------------------------------------------------------------------------------------------------------------------------**"
      ]
    },
    {
      "cell_type": "markdown",
      "metadata": {
        "id": "Z9f_JNjmpJcL"
      },
      "source": [
        "Quise realizar lo de marcar los estados en el mapa de los estados unidos, pero me salta error, y no encuentro solución."
      ]
    },
    {
      "cell_type": "code",
      "metadata": {
        "id": "qrNFkeuzQAbU",
        "outputId": "15405737-b2e2-455f-9750-02e5a8824a11",
        "colab": {
          "base_uri": "https://localhost:8080/"
        }
      },
      "source": [
        "!pip install plotly==4.9.0"
      ],
      "execution_count": 155,
      "outputs": [
        {
          "output_type": "stream",
          "text": [
            "Requirement already satisfied: plotly==4.9.0 in /usr/local/lib/python3.6/dist-packages (4.9.0)\n",
            "Requirement already satisfied: retrying>=1.3.3 in /usr/local/lib/python3.6/dist-packages (from plotly==4.9.0) (1.3.3)\n",
            "Requirement already satisfied: six in /usr/local/lib/python3.6/dist-packages (from plotly==4.9.0) (1.15.0)\n"
          ],
          "name": "stdout"
        }
      ]
    },
    {
      "cell_type": "code",
      "metadata": {
        "id": "nqrGKU_COemM",
        "outputId": "2be1855b-2e9a-4423-9550-aa21c1d88055",
        "colab": {
          "base_uri": "https://localhost:8080/",
          "height": 229
        }
      },
      "source": [
        "import requests\n",
        "import plotly.express as px\n",
        "\n",
        "\n",
        "repo_url = 'https://raw.githubusercontent.com/PublicaMundi/MappingAPI/master/data/geojson/us-states.json' #Archivo GeoJSON\n",
        "us_regions_geo = requests.get(repo_url).json()\n",
        "\n",
        "fig = px.choropleth(data_frame=crimes_dataframe, \n",
        "                    locations='States', # nombre de la columna del Dataframe\n",
        "                    geojson=us_regions_geo,   \n",
        "                    featureidkey='properties.name',  # ruta al campo del archivo GeoJSON con el que se hará la relación (nombre de los estados)\n",
        "                    color='Crime_clusters', #El color depende de las cantidades\n",
        "                    color_continuous_scale=\"Matter\", #greens\n",
        "                    #scope=\"north america\"\n",
        "                   )\n",
        "fig.update_geos(showcountries=True, showcoastlines=True, showland=True, fitbounds=\"locations\")\n",
        "\n",
        "fig.update_layout(\n",
        "    title_text = 'Crimenes violentos en EEUU divididos en clusters (KMeans)',\n",
        "    font=dict(\n",
        "        #family=\"Courier New, monospace\",\n",
        "        family=\"Ubuntu\",\n",
        "        size=18,\n",
        "        color=\"#7f7f7f\"\n",
        "    )\n",
        ")\n",
        "\n",
        "fig.show()"
      ],
      "execution_count": 159,
      "outputs": [
        {
          "output_type": "error",
          "ename": "TypeError",
          "evalue": "ignored",
          "traceback": [
            "\u001b[0;31m---------------------------------------------------------------------------\u001b[0m",
            "\u001b[0;31mTypeError\u001b[0m                                 Traceback (most recent call last)",
            "\u001b[0;32m<ipython-input-159-c322ac096d7c>\u001b[0m in \u001b[0;36m<module>\u001b[0;34m()\u001b[0m\n\u001b[1;32m     12\u001b[0m                     \u001b[0mfeatureidkey\u001b[0m\u001b[0;34m=\u001b[0m\u001b[0;34m'properties.name'\u001b[0m\u001b[0;34m,\u001b[0m  \u001b[0;31m# ruta al campo del archivo GeoJSON con el que se hará la relación (nombre de los estados)\u001b[0m\u001b[0;34m\u001b[0m\u001b[0;34m\u001b[0m\u001b[0m\n\u001b[1;32m     13\u001b[0m                     \u001b[0mcolor\u001b[0m\u001b[0;34m=\u001b[0m\u001b[0;34m'Crime_clusters'\u001b[0m\u001b[0;34m,\u001b[0m \u001b[0;31m#El color depende de las cantidades\u001b[0m\u001b[0;34m\u001b[0m\u001b[0;34m\u001b[0m\u001b[0m\n\u001b[0;32m---> 14\u001b[0;31m                     \u001b[0mcolor_continuous_scale\u001b[0m\u001b[0;34m=\u001b[0m\u001b[0;34m\"Matter\"\u001b[0m\u001b[0;34m,\u001b[0m \u001b[0;31m#greens\u001b[0m\u001b[0;34m\u001b[0m\u001b[0;34m\u001b[0m\u001b[0m\n\u001b[0m\u001b[1;32m     15\u001b[0m                     \u001b[0;31m#scope=\"north america\"\u001b[0m\u001b[0;34m\u001b[0m\u001b[0;34m\u001b[0m\u001b[0;34m\u001b[0m\u001b[0m\n\u001b[1;32m     16\u001b[0m                    )\n",
            "\u001b[0;31mTypeError\u001b[0m: choropleth() got an unexpected keyword argument 'geojson'"
          ]
        }
      ]
    },
    {
      "cell_type": "markdown",
      "metadata": {
        "id": "Nczyryd_OBpd"
      },
      "source": [
        "#**------------------------------------------------------------------------------------------------------------------------------------------------------------------------------------------------------------------------------------------------------------------------------------------------------------**"
      ]
    },
    {
      "cell_type": "markdown",
      "metadata": {
        "id": "TSLTuXuSiK2q"
      },
      "source": [
        "Pruebo hacer dividir los Estados según uno de los atributos, asalto, asesinato o violación, y el porcentaje de gente en las ciudades."
      ]
    },
    {
      "cell_type": "markdown",
      "metadata": {
        "id": "MrCf8Dx5-fg3"
      },
      "source": [
        "  crimes[i,0]=UrbanPop[i] \\\\\n",
        "  crimes[i,1]=Murder[i] \\\\\n",
        "  crimes[i,2]=Assault[i] \\\\\n",
        "  crimes[i,3]=Rape[i]"
      ]
    },
    {
      "cell_type": "markdown",
      "metadata": {
        "id": "oM1umNmgkgDb"
      },
      "source": [
        "**Asaltos**"
      ]
    },
    {
      "cell_type": "code",
      "metadata": {
        "id": "d4Nzj4GEiY2s",
        "outputId": "77631af8-8ebd-4e7e-b4a9-9e3c994b0bae",
        "colab": {
          "base_uri": "https://localhost:8080/"
        }
      },
      "source": [
        "crimes_assault=np.zeros((violent_crime.iloc[:,0].size,2))\n",
        "\n",
        "for i in np.arange(0,violent_crime.iloc[:,0].size):\n",
        "  #Normalizo los datos entre 0 y 1\n",
        "  crimes_assault[i,0]=violent_crime.UrbanPop[i]/violent_crime.UrbanPop.max()\n",
        "  crimes_assault[i,1]=violent_crime.Assault[i]/violent_crime.Assault.max()\n",
        "\n",
        "\n",
        "classification_kmeans_1 = cluster_kmeans.fit(crimes_assault)\n",
        "print(classification_kmeans_1)\n",
        "\n",
        "centroids = classification_kmeans.cluster_centers_\n",
        "\n",
        "print(centroids)"
      ],
      "execution_count": 160,
      "outputs": [
        {
          "output_type": "stream",
          "text": [
            "KMeans(algorithm='auto', copy_x=True, init='k-means++', max_iter=300,\n",
            "       n_clusters=4, n_init=10, n_jobs=None, precompute_distances='auto',\n",
            "       random_state=None, tol=0.0001, verbose=0)\n",
            "[[0.56593407 0.72811573]\n",
            " [0.81043956 0.40096439]\n",
            " [0.85207101 0.77425245]\n",
            " [0.57227388 0.23305181]]\n"
          ],
          "name": "stdout"
        }
      ]
    },
    {
      "cell_type": "code",
      "metadata": {
        "id": "KHcHQGJRpQ9B"
      },
      "source": [
        "groups_assault=np.zeros(violent_crime.iloc[:,0].size)\n",
        "for i in np.arange(0,violent_crime.iloc[:,0].size):\n",
        "  groups_assault[i]=cluster_kmeans.predict(np.c_[crimes_assault[i,0],crimes_assault[i,1]])"
      ],
      "execution_count": 161,
      "outputs": []
    },
    {
      "cell_type": "code",
      "metadata": {
        "id": "itrf1USWke2w",
        "outputId": "1899dcf7-94ac-493a-c4b1-0a04f6c6ba08",
        "colab": {
          "base_uri": "https://localhost:8080/",
          "height": 480
        }
      },
      "source": [
        "# Step size of the mesh. Decrease to increase the quality of the VQ.\n",
        "h = 0.001     # point in the mesh [x_min, x_max]x[y_min, y_max].\n",
        "\n",
        "# Plot the decision boundary. For that, we will assign a color to each\n",
        "x_min, x_max = crimes_assault[:, 0].min() - 0.2, crimes_assault[:, 0].max() + 0.2\n",
        "y_min, y_max = crimes_assault[:, 1].min() - 0.2, crimes_assault[:, 1].max() + 0.2\n",
        "xx, yy = np.meshgrid(np.arange(x_min, x_max, h), np.arange(y_min, y_max, h))\n",
        "\n",
        "# Obtain labels for each point in mesh. Use last trained model.\n",
        "z = cluster_kmeans.predict(np.c_[xx.ravel(), yy.ravel()])\n",
        "\n",
        "# Put the result into a color plot\n",
        "z = z.reshape(xx.shape)\n",
        "\n",
        "plt.figure()\n",
        "plt.pcolormesh(xx, yy, z, cmap='jet',label=[0,1,2,3])\n",
        "plt.plot(crimes_assault[:, 0],crimes_assault[:, 1],'bo')\n",
        "#plt.plot(x_train[:,0],x_train[:,1],'go',label='Puntos de Train')\n",
        "plt.xlabel('% of people living in the city')\n",
        "plt.ylabel('Number of Assaults')\n",
        "#plt.legend(loc='upper left')\n",
        "plt.colorbar()\n",
        "plt.scatter(centroids[:, 0], centroids[:, 1],\n",
        "            marker='x', s=169, linewidths=2,\n",
        "            color='k', zorder=10)\n",
        "plt.title('Kmeans cluster classification, n_cluster=4')\n",
        "\n",
        "\n",
        "\n",
        "group_0_assault=[]\n",
        "group_1_assault=[]\n",
        "group_2_assault=[]\n",
        "group_3_assault=[]\n",
        "\n",
        "for i in np.arange(0,violent_crime.iloc[:,0].size):\n",
        "  if groups_assault[i]==0:\n",
        "    #Si lo pongo como violent_crime.iloc[i,:] no me copia los datos como yo quiero\n",
        "    group_0_assault.append([violent_crime.iloc[i,0],violent_crime.iloc[i,1],groups_assault[i]])\n",
        "  if groups_assault[i]==1:\n",
        "    group_1_assault.append([violent_crime.iloc[i,0],violent_crime.iloc[i,1],groups_assault[i]])\n",
        "  if groups_assault[i]==2:\n",
        "    group_2_assault.append([violent_crime.iloc[i,0],violent_crime.iloc[i,1],groups_assault[i]])\n",
        "  if groups_assault[i]==3:\n",
        "    group_3_assault.append([violent_crime.iloc[i,0],violent_crime.iloc[i,1],groups_assault[i]])\n",
        "\n",
        "\n",
        "group_0_assault=np.resize(group_0_assault,(len(group_0_assault),3))\n",
        "group_1_assault=np.resize(group_1_assault,(len(group_1_assault),3))\n",
        "group_2_assault=np.resize(group_2_assault,(len(group_2_assault),3))\n",
        "group_3_assault=np.resize(group_3_assault,(len(group_3_assault),3))\n",
        "\n",
        "print('Grupo 0:',group_0_assault[:,0])\n",
        "print('Grupo 1:',group_1_assault[:,0])\n",
        "print('Grupo 2:',group_2_assault[:,0])\n",
        "print('Grupo 3',group_3_assault[:,0])\n"
      ],
      "execution_count": 163,
      "outputs": [
        {
          "output_type": "stream",
          "text": [
            "Grupo 0: ['Alabama' 'Alaska' 'Arkansas' 'Georgia' 'Mississippi' 'North Carolina'\n",
            " 'South Carolina' 'Tennessee']\n",
            "Grupo 1: ['Connecticut' 'Hawaii' 'Indiana' 'Kansas' 'Massachusetts' 'Missouri'\n",
            " 'New Jersey' 'Ohio' 'Oklahoma' 'Oregon' 'Pennsylvania' 'Rhode Island'\n",
            " 'Utah' 'Virginia' 'Washington' 'Wyoming']\n",
            "Grupo 2: ['Arizona' 'California' 'Colorado' 'Delaware' 'Florida' 'Illinois'\n",
            " 'Louisiana' 'Maryland' 'Michigan' 'Nevada' 'New Mexico' 'New York'\n",
            " 'Texas']\n",
            "Grupo 3 ['Idaho' 'Iowa' 'Kentucky' 'Maine' 'Minnesota' 'Montana' 'Nebraska'\n",
            " 'New Hampshire' 'North Dakota' 'South Dakota' 'Vermont' 'West Virginia'\n",
            " 'Wisconsin']\n"
          ],
          "name": "stdout"
        },
        {
          "output_type": "display_data",
          "data": {
            "image/png": "[encoded data removed]",
            "text/plain": [
              "<Figure size 432x288 with 2 Axes>"
            ]
          },
          "metadata": {
            "tags": [],
            "needs_background": "light"
          }
        }
      ]
    },
    {
      "cell_type": "markdown",
      "metadata": {
        "id": "5VTZn-fHo_x4"
      },
      "source": [
        "En temática de asaltos, los estados en el grupo 0(azul) corresponderían a los peores estados, poseen el menor número de gente en las ciudades y presentan de los mayores números de asaltos. El mejor grupo sería el grupo 1(celeste), que presenta un gran porcentaje de gente en ciudades y el número de asaltos no es tan grande. \\\\\n",
        "Los grupo 0 y 1 serían intermedios. El grupo 3(rojo) posee bajo número de asaltos, pero posee un bajo porcentaje de gente en las ciudades, mientras que el grupo 2(amarillo), presenta un gran número de asaltos, pero correspondiente a un gran porcentaje de la gente viviendo en ciudades."
      ]
    },
    {
      "cell_type": "markdown",
      "metadata": {
        "id": "z2pgNjbA9doF"
      },
      "source": [
        "**Murder**"
      ]
    },
    {
      "cell_type": "code",
      "metadata": {
        "id": "0RFAMhkKnV2B",
        "outputId": "0d52e31c-444d-4e37-bda5-eb2998626259",
        "colab": {
          "base_uri": "https://localhost:8080/",
          "height": 514
        }
      },
      "source": [
        "crimes_murder=np.zeros((violent_crime.iloc[:,0].size,2))\n",
        "\n",
        "for i in np.arange(0,violent_crime.iloc[:,0].size):\n",
        "  #Normalizo los datos entre 0 y 1\n",
        "  crimes_murder[i,0]=violent_crime.UrbanPop[i]/violent_crime.UrbanPop.max()\n",
        "  crimes_murder[i,1]=violent_crime.Murder[i]/violent_crime.Murder.max()\n",
        "\n",
        "\n",
        "classification_kmeans_2 = cluster_kmeans.fit(crimes_murder)\n",
        "\n",
        "centroids = classification_kmeans_2.cluster_centers_\n",
        "\n",
        "print(centroids)\n",
        "\n",
        "groups_murder=np.zeros(violent_crime.iloc[:,0].size)\n",
        "for i in np.arange(0,violent_crime.iloc[:,0].size):\n",
        "  groups_murder[i]=cluster_kmeans.predict(np.c_[crimes_murder[i,0],crimes_murder[i,1]])\n",
        "\n",
        "# Step size of the mesh. Decrease to increase the quality of the VQ.\n",
        "h = .002     # point in the mesh [x_min, x_max]x[y_min, y_max].\n",
        "\n",
        "# Plot the decision boundary. For that, we will assign a color to each\n",
        "x_min, x_max = crimes_murder[:, 0].min() - 0.1, crimes_murder[:, 0].max() + 0.1\n",
        "y_min, y_max = crimes_murder[:, 1].min() - 0.1, crimes_murder[:, 1].max() + 0.1\n",
        "xx, yy = np.meshgrid(np.arange(x_min, x_max, h), np.arange(y_min, y_max, h))\n",
        "\n",
        "# Obtain labels for each point in mesh. Use last trained model.\n",
        "z = cluster_kmeans.predict(np.c_[xx.ravel(), yy.ravel()])\n",
        "\n",
        "# Put the result into a color plot\n",
        "z = z.reshape(xx.shape)\n",
        "\n",
        "plt.figure()\n",
        "plt.pcolormesh(xx, yy, z, cmap='jet')\n",
        "plt.plot(crimes_murder[:, 0],crimes_murder[:, 1],'bo',label='Conjunto 0')\n",
        "#plt.plot(x_train[:,0],x_train[:,1],'go',label='Puntos de Train')\n",
        "plt.xlabel('% of people living in the city')\n",
        "\n",
        "plt.ylabel('Number of Assaults')\n",
        "plt.colorbar()\n",
        "plt.scatter(centroids[:, 0], centroids[:, 1],\n",
        "            marker='x', s=169, linewidths=2,\n",
        "            color='k', zorder=10)\n",
        "plt.title('Kmeans cluster classification, n_cluster=4')\n",
        "\n",
        "group_0_murder=[]\n",
        "group_1_murder=[]\n",
        "group_2_murder=[]\n",
        "group_3_murder=[]\n",
        "\n",
        "for i in np.arange(0,violent_crime.iloc[:,0].size):\n",
        "  if groups_murder[i]==0:\n",
        "    #Si lo pongo como violent_crime.iloc[i,:] no me copia los datos como yo quiero\n",
        "    group_0_murder.append([violent_crime.iloc[i,0],violent_crime.iloc[i,2],groups_murder[i]])\n",
        "  if groups_murder[i]==1:\n",
        "    group_1_murder.append([violent_crime.iloc[i,0],violent_crime.iloc[i,2],groups_murder[i]])\n",
        "  if groups_murder[i]==2:\n",
        "    group_2_murder.append([violent_crime.iloc[i,0],violent_crime.iloc[i,2],groups_murder[i]])\n",
        "  if groups_murder[i]==3:\n",
        "    group_3_murder.append([violent_crime.iloc[i,0],violent_crime.iloc[i,2],groups_murder[i]])\n",
        "\n",
        "\n",
        "group_0_murder=np.resize(group_0_murder,(len(group_0_murder),3))\n",
        "group_1_murder=np.resize(group_1_murder,(len(group_1_murder),3))\n",
        "group_2_murder=np.resize(group_2_murder,(len(group_2_murder),3))\n",
        "group_3_murder=np.resize(group_3_murder,(len(group_3_murder),3))\n",
        "\n",
        "print('Grupo 0:',group_0_murder[:,0])\n",
        "print('Grupo 1:',group_1_murder[:,0])\n",
        "print('Grupo 2:',group_2_murder[:,0])\n",
        "print('Grupo 3',group_3_murder[:,0])"
      ],
      "execution_count": 164,
      "outputs": [
        {
          "output_type": "stream",
          "text": [
            "[[0.57234432 0.17768199]\n",
            " [0.81550029 0.34936479]\n",
            " [0.58241758 0.75402299]\n",
            " [0.86935287 0.6743295 ]]\n",
            "Grupo 0: ['Idaho' 'Iowa' 'Maine' 'Minnesota' 'Montana' 'Nebraska' 'New Hampshire'\n",
            " 'North Dakota' 'South Dakota' 'Vermont' 'West Virginia' 'Wisconsin']\n",
            "Grupo 1: ['Arizona' 'Colorado' 'Connecticut' 'Delaware' 'Hawaii' 'Indiana' 'Kansas'\n",
            " 'Massachusetts' 'Missouri' 'New Jersey' 'Ohio' 'Oklahoma' 'Oregon'\n",
            " 'Pennsylvania' 'Rhode Island' 'Utah' 'Virginia' 'Washington' 'Wyoming']\n",
            "Grupo 2: ['Alabama' 'Alaska' 'Arkansas' 'Georgia' 'Kentucky' 'Louisiana'\n",
            " 'Mississippi' 'North Carolina' 'South Carolina' 'Tennessee']\n",
            "Grupo 3 ['California' 'Florida' 'Illinois' 'Maryland' 'Michigan' 'Nevada'\n",
            " 'New Mexico' 'New York' 'Texas']\n"
          ],
          "name": "stdout"
        },
        {
          "output_type": "display_data",
          "data": {
            "image/png": "[encoded data removed]",
            "text/plain": [
              "<Figure size 432x288 with 2 Axes>"
            ]
          },
          "metadata": {
            "tags": [],
            "needs_background": "light"
          }
        }
      ]
    },
    {
      "cell_type": "markdown",
      "metadata": {
        "id": "DwyzNQaC_3dD"
      },
      "source": [
        "En temática de asesinatos, los estados en el grupo 3(rojo) corresponderían a los peores estados, poseen el menor número de gente en las ciudades y presentan de los mayores números de asaltos. El mejor grupo sería el grupo 1(celeste), que presenta un gran porcentaje de gente en ciudades y el número de asesinatos no es tan grande. \\\\\n",
        "Los grupo 2 y 3 serían intermedios. El grupo 0(azul) posee bajo número de asaltos, pero posee un bajo porcentaje de gente en las ciudades, mientras que el grupo 2(amarillo), presenta un gran número de asaltos, pero correspondiente a un gran porcentaje de la gente viviendo en ciudades. \\\\\n",
        "\n",
        "La mayoría de los estados se encuentran en el grupo 0(azul), donde el mayor porcentaje de la gente vive en ciudades y los asesinatos no son muchos."
      ]
    },
    {
      "cell_type": "markdown",
      "metadata": {
        "id": "99CekWO2BPgQ"
      },
      "source": [
        "**Rape**"
      ]
    },
    {
      "cell_type": "code",
      "metadata": {
        "id": "IgZ35Cm3ArAC",
        "outputId": "6fcccde8-d042-4640-d354-10d9e79c7c9b",
        "colab": {
          "base_uri": "https://localhost:8080/",
          "height": 530
        }
      },
      "source": [
        "crimes_rape=np.zeros((violent_crime.iloc[:,0].size,2))\n",
        "\n",
        "for i in np.arange(0,violent_crime.iloc[:,0].size):\n",
        "  #Normalizo los datos entre 0 y 1\n",
        "  crimes_rape[i,0]=violent_crime.UrbanPop[i]/violent_crime.UrbanPop.max()\n",
        "  crimes_rape[i,1]=violent_crime.Rape[i]/violent_crime.Rape.max()\n",
        "\n",
        "\n",
        "classification_kmeans_3 = cluster_kmeans.fit(crimes_murder)\n",
        "\n",
        "centroids = classification_kmeans_3.cluster_centers_\n",
        "\n",
        "print(centroids)\n",
        "\n",
        "groups_rape=np.zeros(violent_crime.iloc[:,0].size)\n",
        "for i in np.arange(0,violent_crime.iloc[:,0].size):\n",
        "  groups_rape[i]=cluster_kmeans.predict(np.c_[crimes_rape[i,0],crimes_rape[i,1]])\n",
        "\n",
        "# Step size of the mesh. Decrease to increase the quality of the VQ.\n",
        "h = .002     # point in the mesh [x_min, x_max]x[y_min, y_max].\n",
        "\n",
        "# Plot the decision boundary. For that, we will assign a color to each\n",
        "x_min, x_max = crimes_rape[:, 0].min() - 0.1, crimes_rape[:, 0].max() + 0.1\n",
        "y_min, y_max = crimes_rape[:, 1].min() - 0.1, crimes_rape[:, 1].max() + 0.1\n",
        "xx, yy = np.meshgrid(np.arange(x_min, x_max, h), np.arange(y_min, y_max, h))\n",
        "\n",
        "# Obtain labels for each point in mesh. Use last trained model.\n",
        "z = cluster_kmeans.predict(np.c_[xx.ravel(), yy.ravel()])\n",
        "\n",
        "# Put the result into a color plot\n",
        "z = z.reshape(xx.shape)\n",
        "\n",
        "plt.figure()\n",
        "plt.pcolormesh(xx, yy, z, cmap='jet')\n",
        "plt.plot(crimes_rape[:, 0],crimes_rape[:, 1],'bo',label='Conjunto 0')\n",
        "#plt.plot(x_train[:,0],x_train[:,1],'go',label='Puntos de Train')\n",
        "plt.xlabel('% of people living in the city')\n",
        "plt.ylabel('Number of Assaults')\n",
        "plt.colorbar()\n",
        "plt.scatter(centroids[:, 0], centroids[:, 1],\n",
        "            marker='x', s=169, linewidths=2,\n",
        "            color='k', zorder=10)\n",
        "plt.title('Kmeans cluster classification, n_cluster=4')\n",
        "\n",
        "group_0_rape=[]\n",
        "group_1_rape=[]\n",
        "group_2_rape=[]\n",
        "group_3_rape=[]\n",
        "\n",
        "for i in np.arange(0,violent_crime.iloc[:,0].size):\n",
        "  if groups_rape[i]==0:\n",
        "    #Si lo pongo como violent_crime.iloc[i,:] no me copia los datos como yo quiero\n",
        "    group_0_rape.append([violent_crime.iloc[i,0],violent_crime.iloc[i,4],groups_rape[i]])\n",
        "  if groups_rape[i]==1:\n",
        "    group_1_rape.append([violent_crime.iloc[i,0],violent_crime.iloc[i,4],groups_rape[i]])\n",
        "  if groups_rape[i]==2:\n",
        "    group_2_rape.append([violent_crime.iloc[i,0],violent_crime.iloc[i,4],groups_rape[i]])\n",
        "  if groups_rape[i]==3:\n",
        "    group_3_rape.append([violent_crime.iloc[i,0],violent_crime.iloc[i,4],groups_rape[i]])\n",
        "\n",
        "\n",
        "group_0_rape=np.resize(group_0_rape,(len(group_0_rape),3))\n",
        "group_1_rape=np.resize(group_1_rape,(len(group_1_rape),3))\n",
        "group_2_rape=np.resize(group_2_rape,(len(group_2_rape),3))\n",
        "group_3_rape=np.resize(group_3_rape,(len(group_3_rape),3))\n",
        "\n",
        "print('Grupo 0:',group_0_rape[:,0])\n",
        "print('Grupo 1:',group_1_rape[:,0])\n",
        "print('Grupo 2:',group_2_rape[:,0])\n",
        "print('Grupo 3',group_3_rape[:,0])"
      ],
      "execution_count": 165,
      "outputs": [
        {
          "output_type": "stream",
          "text": [
            "[[0.57234432 0.17768199]\n",
            " [0.58241758 0.75402299]\n",
            " [0.81807082 0.34003831]\n",
            " [0.85934066 0.65862069]]\n",
            "Grupo 0: ['Arkansas' 'Idaho' 'Iowa' 'Kentucky' 'Maine' 'Mississippi' 'Montana'\n",
            " 'New Hampshire' 'North Carolina' 'North Dakota' 'South Dakota' 'Vermont'\n",
            " 'West Virginia']\n",
            "Grupo 1: ['Alaska' 'Georgia' 'South Carolina' 'Tennessee']\n",
            "Grupo 2: ['Alabama' 'Connecticut' 'Delaware' 'Hawaii' 'Indiana' 'Kansas'\n",
            " 'Louisiana' 'Massachusetts' 'Minnesota' 'Nebraska' 'New Jersey' 'Ohio'\n",
            " 'Oklahoma' 'Pennsylvania' 'Rhode Island' 'Virginia' 'Wisconsin' 'Wyoming']\n",
            "Grupo 3 ['Arizona' 'California' 'Colorado' 'Florida' 'Illinois' 'Maryland'\n",
            " 'Michigan' 'Missouri' 'Nevada' 'New Mexico' 'New York' 'Oregon' 'Texas'\n",
            " 'Utah' 'Washington']\n"
          ],
          "name": "stdout"
        },
        {
          "output_type": "display_data",
          "data": {
            "image/png": "[encoded data removed]",
            "text/plain": [
              "<Figure size 432x288 with 2 Axes>"
            ]
          },
          "metadata": {
            "tags": [],
            "needs_background": "light"
          }
        }
      ]
    },
    {
      "cell_type": "markdown",
      "metadata": {
        "id": "OmbWF17-No0D"
      },
      "source": [
        "En temática de violaciones, los estados en el grupo 1(celeste) corresponderían a los peores estados, poseen el menor número de gente en las ciudades y presentan de los mayores números de asaltos. El mejor grupo sería el grupo 0(azul), que presenta un gran porcentaje de gente en ciudades y el número de asesinatos no es tan grande. \\\\\n",
        "Los grupo 0 y 1 serían intermedios. El grupo 3(rojo) posee bajo número de asaltos, pero posee un bajo porcentaje de gente en las ciudades, mientras que el grupo 2(amarillo), presenta un gran número de asaltos, pero correspondiente a un gran porcentaje de la gente viviendo en ciudades. \\\\\n",
        "\n",
        "En este caso, son pocos los Estados que presentan un gran número de violaciones con respecto al porcentaje de gente que vive en la ciudad."
      ]
    },
    {
      "cell_type": "markdown",
      "metadata": {
        "id": "i3ZgEOonYdG7"
      },
      "source": [
        ""
      ]
    },
    {
      "cell_type": "markdown",
      "metadata": {
        "id": "0J3JKDBZZvEX"
      },
      "source": [
        "#**Mean Shift**"
      ]
    },
    {
      "cell_type": "code",
      "metadata": {
        "id": "L9Ab-XbtgIMw"
      },
      "source": [
        "from sklearn.cluster import MeanShift, estimate_bandwidth"
      ],
      "execution_count": null,
      "outputs": []
    },
    {
      "cell_type": "markdown",
      "metadata": {
        "id": "a9FGVycihmN3"
      },
      "source": [
        "  crimes[i,0]=violent_crime.UrbanPop[i] \\\\\n",
        "  crimes[i,1]=violent_crime.Murder[i] \\\\\n",
        "  crimes[i,2]=violent_crime.Assault[i] \\\\\n",
        "  crimes[i,3]=violent_crime.Rape[i]"
      ]
    },
    {
      "cell_type": "code",
      "metadata": {
        "id": "YOL5451xg4Hv",
        "outputId": "fcf29c8e-056e-4e31-882d-b04ce53eccfe",
        "colab": {
          "base_uri": "https://localhost:8080/"
        }
      },
      "source": [
        "bandwidth = estimate_bandwidth(crimes, quantile=0.3, n_samples=500)\n",
        "\n",
        "cluster_mean_shift = MeanShift(bandwidth=bandwidth, bin_seeding=True)\n",
        "\n",
        "classification_meanshift = cluster_mean_shift .fit(crimes)\n",
        "centroids_mean_shift = classification_meanshift.cluster_centers_\n",
        "\n",
        "print(centroids_mean_shift)\n"
      ],
      "execution_count": null,
      "outputs": [
        {
          "output_type": "stream",
          "text": [
            "[[ 64.85714286   5.37142857 120.28571429  17.35238095]\n",
            " [ 68.53333333  11.86666667 260.          28.78666667]\n",
            " [ 70.64285714   8.21428571 173.28571429  22.84285714]]\n"
          ],
          "name": "stdout"
        }
      ]
    },
    {
      "cell_type": "code",
      "metadata": {
        "id": "BuHRnMkkidjn",
        "outputId": "29d5c274-17b0-4597-9ab1-fbf3c888caa0",
        "colab": {
          "base_uri": "https://localhost:8080/"
        }
      },
      "source": [
        "groups_meanshift=np.zeros(violent_crime.iloc[:,0].size)\n",
        "for i in np.arange(0,violent_crime.iloc[:,0].size):\n",
        "  groups_meanshift[i]=cluster_mean_shift .predict(np.c_[crimes[i,0],crimes[i,1],crimes[i,2],crimes[i,3]])\n",
        "  print(violent_crime.iloc[i,0],groups_meanshift[i])\n",
        "\n",
        "print(groups_meanshift)"
      ],
      "execution_count": null,
      "outputs": [
        {
          "output_type": "stream",
          "text": [
            "Alabama 1.0\n",
            "Alaska 1.0\n",
            "Arizona 1.0\n",
            "Arkansas 2.0\n",
            "California 1.0\n",
            "Colorado 2.0\n",
            "Connecticut 0.0\n",
            "Delaware 1.0\n",
            "Florida 1.0\n",
            "Georgia 2.0\n",
            "Hawaii 0.0\n",
            "Idaho 0.0\n",
            "Illinois 1.0\n",
            "Indiana 0.0\n",
            "Iowa 0.0\n",
            "Kansas 0.0\n",
            "Kentucky 0.0\n",
            "Louisiana 1.0\n",
            "Maine 0.0\n",
            "Maryland 1.0\n",
            "Massachusetts 2.0\n",
            "Michigan 1.0\n",
            "Minnesota 0.0\n",
            "Mississippi 1.0\n",
            "Missouri 2.0\n",
            "Montana 0.0\n",
            "Nebraska 0.0\n",
            "Nevada 1.0\n",
            "New Hampshire 0.0\n",
            "New Jersey 2.0\n",
            "New Mexico 1.0\n",
            "New York 1.0\n",
            "North Carolina 1.0\n",
            "North Dakota 0.0\n",
            "Ohio 0.0\n",
            "Oklahoma 2.0\n",
            "Oregon 2.0\n",
            "Pennsylvania 0.0\n",
            "Rhode Island 2.0\n",
            "South Carolina 1.0\n",
            "South Dakota 0.0\n",
            "Tennessee 2.0\n",
            "Texas 2.0\n",
            "Utah 0.0\n",
            "Vermont 0.0\n",
            "Virginia 2.0\n",
            "Washington 0.0\n",
            "West Virginia 0.0\n",
            "Wisconsin 0.0\n",
            "Wyoming 2.0\n",
            "[1. 1. 1. 2. 1. 2. 0. 1. 1. 2. 0. 0. 1. 0. 0. 0. 0. 1. 0. 1. 2. 1. 0. 1.\n",
            " 2. 0. 0. 1. 0. 2. 1. 1. 1. 0. 0. 2. 2. 0. 2. 1. 0. 2. 2. 0. 0. 2. 0. 0.\n",
            " 0. 2.]\n"
          ],
          "name": "stdout"
        }
      ]
    },
    {
      "cell_type": "code",
      "metadata": {
        "id": "z4FwQJDzkE5z",
        "outputId": "8ecc585f-a90e-4223-8541-a8ba6f799f7f",
        "colab": {
          "base_uri": "https://localhost:8080/"
        }
      },
      "source": [
        "group_0_meanshift=[]\n",
        "group_1_meanshift=[]\n",
        "group_2_meanshift=[]\n",
        "\n",
        "\n",
        "for i in np.arange(0,violent_crime.iloc[:,0].size):\n",
        "  if groups_meanshift[i]==0:\n",
        "    #Si lo pongo como violent_crime.iloc[i,:] no me copia los datos como yo quiero\n",
        "    group_0_meanshift.append([violent_crime.iloc[i,0],violent_crime.iloc[i,1],violent_crime.iloc[i,2],violent_crime.iloc[i,3],violent_crime.iloc[i,4]])\n",
        "  if groups_meanshift[i]==1:\n",
        "    group_1_meanshift.append([violent_crime.iloc[i,0],violent_crime.iloc[i,1],violent_crime.iloc[i,2],violent_crime.iloc[i,3],violent_crime.iloc[i,4]])\n",
        "  if groups_meanshift[i]==2:\n",
        "    group_2_meanshift.append([violent_crime.iloc[i,0],violent_crime.iloc[i,1],violent_crime.iloc[i,2],violent_crime.iloc[i,3],violent_crime.iloc[i,4]])\n",
        "\n",
        "\n",
        "print(len(group_0_meanshift)+len(group_1_meanshift)+len(group_2_meanshift))\n",
        "print('')\n",
        "group_0_meanshift=np.resize(group_0_meanshift,(len(group_0_meanshift),5))\n",
        "group_1_meanshift=np.resize(group_1_meanshift,(len(group_1_meanshift),5))\n",
        "group_2_meanshift=np.resize(group_2_meanshift,(len(group_2_meanshift),5))\n",
        "\n",
        "print('GROUP 0:')\n",
        "print(group_0_meanshift[:,:])\n",
        "print('GROUP 1:')\n",
        "print(group_1_meanshift[:,:])\n",
        "print('GROUP 2:')\n",
        "print(group_2_meanshift[:,:])"
      ],
      "execution_count": null,
      "outputs": [
        {
          "output_type": "stream",
          "text": [
            "50\n",
            "\n",
            "GROUP 0:\n",
            "[['Connecticut' '3.3' '110' '77' '11.1']\n",
            " ['Hawaii' '5.3' '46' '83' '20.2']\n",
            " ['Idaho' '2.6' '120' '54' '14.2']\n",
            " ['Indiana' '7.2' '113' '65' '21.0']\n",
            " ['Iowa' '2.2' '56' '57' '11.3']\n",
            " ['Kansas' '6.0' '115' '66' '18.0']\n",
            " ['Kentucky' '9.7' '109' '52' '16.3']\n",
            " ['Maine' '2.1' '83' '51' '7.8']\n",
            " ['Minnesota' '2.7' '72' '66' '14.9']\n",
            " ['Montana' '6.0' '109' '53' '16.4']\n",
            " ['Nebraska' '4.3' '102' '62' '16.5']\n",
            " ['New Hampshire' '2.1' '57' '56' '9.5']\n",
            " ['North Dakota' '0.8' '45' '44' '7.3']\n",
            " ['Ohio' '7.3' '120' '75' '21.4']\n",
            " ['Pennsylvania' '6.3' '106' '72' '14.9']\n",
            " ['South Dakota' '3.8' '86' '45' '12.8']\n",
            " ['Utah' '3.2' '120' '80' '22.9']\n",
            " ['Vermont' '2.2' '48' '32' '11.2']\n",
            " ['Washington' '4.0' '145' '73' '26.2']\n",
            " ['West Virginia' '5.7' '81' '39' '9.3']\n",
            " ['Wisconsin' '2.6' '53' '66' '10.8']]\n",
            "GROUP 1:\n",
            "[['Alabama' '13.2' '236' '58' '21.2']\n",
            " ['Alaska' '10.0' '263' '48' '44.5']\n",
            " ['Arizona' '8.1' '294' '80' '31.0']\n",
            " ['California' '9.0' '276' '91' '40.6']\n",
            " ['Delaware' '5.9' '238' '72' '15.8']\n",
            " ['Florida' '15.4' '335' '80' '31.9']\n",
            " ['Illinois' '10.4' '249' '83' '24.0']\n",
            " ['Louisiana' '15.4' '249' '66' '22.2']\n",
            " ['Maryland' '11.3' '300' '67' '27.8']\n",
            " ['Michigan' '12.1' '255' '74' '35.1']\n",
            " ['Mississippi' '16.1' '259' '44' '17.1']\n",
            " ['Nevada' '12.2' '252' '81' '46.0']\n",
            " ['New Mexico' '11.4' '285' '70' '32.1']\n",
            " ['New York' '11.1' '254' '86' '26.1']\n",
            " ['North Carolina' '13.0' '337' '45' '16.1']\n",
            " ['South Carolina' '14.4' '279' '48' '22.5']]\n",
            "GROUP 2:\n",
            "[['Arkansas' '8.8' '190' '50' '19.5']\n",
            " ['Colorado' '7.9' '204' '78' '38.7']\n",
            " ['Georgia' '17.4' '211' '60' '25.8']\n",
            " ['Massachusetts' '4.4' '149' '85' '16.3']\n",
            " ['Missouri' '9.0' '178' '70' '28.2']\n",
            " ['New Jersey' '7.4' '159' '89' '18.8']\n",
            " ['Oklahoma' '6.6' '151' '68' '20.0']\n",
            " ['Oregon' '4.9' '159' '67' '29.3']\n",
            " ['Rhode Island' '3.4' '174' '87' '8.3']\n",
            " ['Tennessee' '13.2' '188' '59' '26.9']\n",
            " ['Texas' '12.7' '201' '80' '25.5']\n",
            " ['Virginia' '8.5' '156' '63' '20.7']\n",
            " ['Wyoming' '6.8' '161' '60' '15.6']]\n"
          ],
          "name": "stdout"
        }
      ]
    },
    {
      "cell_type": "code",
      "metadata": {
        "id": "TltMu_9alKF2",
        "outputId": "245f71be-7dbf-42d8-d29e-b6bb57934484",
        "colab": {
          "base_uri": "https://localhost:8080/"
        }
      },
      "source": [
        "print('Mínimo y Máximo de Murder de cada grupo')\n",
        "print('Grupo 0:(',np.amin(np.array(group_0_meanshift[:,1]).astype(np.float)),',',np.amax(np.array(group_0_meanshift[:,1]).astype(np.float)),')--------------','Grupo 1:(',np.amin(np.array(group_1_meanshift[:,1]).astype(np.float)),',',np.amax(np.array(group_1_meanshift[:,1]).astype(np.float)),')---------------','Grupo 2:(',np.amin(np.array(group_2_meanshift[:,1]).astype(np.float)),',',np.amax(np.array(group_2_meanshift[:,1]).astype(np.float)),')')\n",
        "print('Valor del centroide de cada grupo')\n",
        "print('Grupo 0:(',centroids_mean_shift[0,1],')-------','Grupo 1:(',centroids_mean_shift[1,1],')-------','Grupo 2:(',centroids_mean_shift[2,1],')')\n",
        "\n",
        "print('')\n",
        "\n",
        "print('Mínimo y Máximo de Assault de cada grupo')\n",
        "print('Grupo 0:(',np.amin(np.array(group_0_meanshift[:,2]).astype(np.float)),',',np.amax(np.array(group_0_meanshift[:,2]).astype(np.float)),')------------','Grupo 1:(',np.amin(np.array(group_1_meanshift[:,2]).astype(np.float)),',',np.amax(np.array(group_1_meanshift[:,2]).astype(np.float)),')-------','Grupo 2:(',np.amin(np.array(group_2_meanshift[:,2]).astype(np.float)),',',np.amax(np.array(group_2_meanshift[:,2]).astype(np.float)),')')\n",
        "print('Valor del centroide de cada grupo')\n",
        "print('Grupo 0:(',centroids_mean_shift[0,2],')-------','Grupo 1:(',centroids_mean_shift[1,2],')-----------','Grupo 2:(',centroids_mean_shift[2,2],')')\n",
        "\n",
        "print('')\n",
        "\n",
        "print('Mínimo y Máximo de UrbanPop de cada grupo')\n",
        "print('Grupo 0:(',np.amin(np.array(group_0_meanshift[:,3]).astype(np.float)),',',np.amax(np.array(group_0_meanshift[:,3]).astype(np.float)),')-------------','Grupo 1:(',np.amin(np.array(group_1_meanshift[:,3]).astype(np.float)),',',np.amax(np.array(group_1_meanshift[:,3]).astype(np.float)),')---------','Grupo 2:(',np.amin(np.array(group_2_meanshift[:,3]).astype(np.float)),',',np.amax(np.array(group_2_meanshift[:,3]).astype(np.float)),')')\n",
        "print('Valor del centroide de cada grupo')\n",
        "print('Grupo 0:(',centroids_mean_shift[0,0],')-------','Grupo 1:(',centroids_mean_shift[1,0],')-------','Grupo 2:(',centroids_mean_shift[2,0],')')\n",
        "\n",
        "print('')\n",
        "\n",
        "print('Mínimo y Máximo de Rape de cada grupo')\n",
        "print('Grupo 0:(',np.amin(np.array(group_0_meanshift[:,4]).astype(np.float)),',',np.amax(np.array(group_0_meanshift[:,4]).astype(np.float)),')-------------','Grupo 1:(',np.amin(np.array(group_1_meanshift[:,4]).astype(np.float)),',',np.amax(np.array(group_1_meanshift[:,4]).astype(np.float)),')---------','Grupo 2:(',np.amin(np.array(group_2_meanshift[:,4]).astype(np.float)),',',np.amax(np.array(group_2_meanshift[:,4]).astype(np.float)),')')\n",
        "print('Valor del centroide de cada grupo')\n",
        "print('Grupo 0:(',centroids_mean_shift[0,3],')-------','Grupo 1:(',centroids_mean_shift[1,3],')-------','Grupo 2:(',centroids_mean_shift[2,3],')')"
      ],
      "execution_count": null,
      "outputs": [
        {
          "output_type": "stream",
          "text": [
            "Mínimo y Máximo de Murder de cada grupo\n",
            "Grupo 0:( 0.8 , 9.7 )-------------- Grupo 1:( 5.9 , 16.1 )--------------- Grupo 2:( 3.4 , 17.4 )\n",
            "Valor del centroide de cada grupo\n",
            "Grupo 0:( 5.371428571428571 )------- Grupo 1:( 11.866666666666667 )------- Grupo 2:( 8.214285714285715 )\n",
            "\n",
            "Mínimo y Máximo de Assault de cada grupo\n",
            "Grupo 0:( 45.0 , 145.0 )------------ Grupo 1:( 236.0 , 337.0 )------- Grupo 2:( 149.0 , 211.0 )\n",
            "Valor del centroide de cada grupo\n",
            "Grupo 0:( 120.28571428571429 )------- Grupo 1:( 260.0 )----------- Grupo 2:( 173.28571428571428 )\n",
            "\n",
            "Mínimo y Máximo de UrbanPop de cada grupo\n",
            "Grupo 0:( 32.0 , 83.0 )------------- Grupo 1:( 44.0 , 91.0 )--------- Grupo 2:( 50.0 , 89.0 )\n",
            "Valor del centroide de cada grupo\n",
            "Grupo 0:( 64.85714285714286 )------- Grupo 1:( 68.53333333333333 )------- Grupo 2:( 70.64285714285714 )\n",
            "\n",
            "Mínimo y Máximo de Rape de cada grupo\n",
            "Grupo 0:( 7.3 , 26.2 )------------- Grupo 1:( 15.8 , 46.0 )--------- Grupo 2:( 8.3 , 38.7 )\n",
            "Valor del centroide de cada grupo\n",
            "Grupo 0:( 17.352380952380955 )------- Grupo 1:( 28.786666666666676 )------- Grupo 2:( 22.84285714285715 )\n"
          ],
          "name": "stdout"
        }
      ]
    },
    {
      "cell_type": "markdown",
      "metadata": {
        "id": "kkpNRIeM2j4T"
      },
      "source": [
        "Al parecer la clasificación se basa principalmente en el parámetro Assault, es el único en el que los dominos de los grupos no tienen intersecciones. \\\\\n",
        "\n",
        "Pruebo ver que pasa si normalizo los datos."
      ]
    },
    {
      "cell_type": "markdown",
      "metadata": {
        "id": "KKTTWPDU0-Or"
      },
      "source": [
        "Clasifico los valores normalizados"
      ]
    },
    {
      "cell_type": "code",
      "metadata": {
        "id": "6m8IlByp09j8",
        "outputId": "4c236663-56c9-4727-eb0d-6c0db0af53a7",
        "colab": {
          "base_uri": "https://localhost:8080/"
        }
      },
      "source": [
        "crimes_norm=np.zeros((violent_crime.iloc[:,0].size,4))\n",
        "\n",
        "for i in np.arange(0,violent_crime.iloc[:,0].size):\n",
        "  crimes_norm[i,0]=violent_crime.UrbanPop[i]/np.amax(np.array(violent_crime.UrbanPop).astype(np.float))\n",
        "  crimes_norm[i,1]=violent_crime.Murder[i]/np.amax(np.array(violent_crime.Murder).astype(np.float))\n",
        "  crimes_norm[i,2]=violent_crime.Assault[i]/np.amax(np.array(violent_crime.Assault).astype(np.float))\n",
        "  crimes_norm[i,3]=violent_crime.Rape[i]/np.amax(np.array(violent_crime.Rape).astype(np.float))\n",
        "\n",
        "bandwidth_norm = estimate_bandwidth(crimes_norm, quantile=0.3, n_samples=500)\n",
        "\n",
        "cluster_mean_shift_norm = MeanShift(bandwidth=bandwidth_norm, bin_seeding=True)\n",
        "\n",
        "classification_meanshift_norm = cluster_mean_shift_norm .fit(crimes_norm)\n",
        "centroids_mean_shift_norm = classification_meanshift_norm.cluster_centers_\n",
        "\n",
        "print(centroids_mean_shift_norm)\n",
        "\n"
      ],
      "execution_count": null,
      "outputs": [
        {
          "output_type": "stream",
          "text": [
            "[[0.72110648 0.30142687 0.35997135 0.36581709]\n",
            " [0.79573368 0.6903313  0.74114156 0.64654731]]\n"
          ],
          "name": "stdout"
        }
      ]
    },
    {
      "cell_type": "code",
      "metadata": {
        "id": "81IEsHNe1yZd",
        "outputId": "dfe3890e-0fba-4914-ab3e-5e258342a688",
        "colab": {
          "base_uri": "https://localhost:8080/"
        }
      },
      "source": [
        "groups_meanshift_norm=np.zeros(violent_crime.iloc[:,0].size)\n",
        "for i in np.arange(0,violent_crime.iloc[:,0].size):\n",
        "  groups_meanshift_norm[i]=cluster_mean_shift_norm .predict(np.c_[crimes_norm[i,0],crimes_norm[i,1],crimes_norm[i,2],crimes_norm[i,3]])\n",
        "  print(violent_crime.iloc[i,0],groups_meanshift_norm[i])\n",
        "\n",
        "print(groups_meanshift_norm)"
      ],
      "execution_count": null,
      "outputs": [
        {
          "output_type": "stream",
          "text": [
            "Alabama 1.0\n",
            "Alaska 1.0\n",
            "Arizona 1.0\n",
            "Arkansas 0.0\n",
            "California 1.0\n",
            "Colorado 1.0\n",
            "Connecticut 0.0\n",
            "Delaware 0.0\n",
            "Florida 1.0\n",
            "Georgia 1.0\n",
            "Hawaii 0.0\n",
            "Idaho 0.0\n",
            "Illinois 1.0\n",
            "Indiana 0.0\n",
            "Iowa 0.0\n",
            "Kansas 0.0\n",
            "Kentucky 0.0\n",
            "Louisiana 1.0\n",
            "Maine 0.0\n",
            "Maryland 1.0\n",
            "Massachusetts 0.0\n",
            "Michigan 1.0\n",
            "Minnesota 0.0\n",
            "Mississippi 1.0\n",
            "Missouri 1.0\n",
            "Montana 0.0\n",
            "Nebraska 0.0\n",
            "Nevada 1.0\n",
            "New Hampshire 0.0\n",
            "New Jersey 0.0\n",
            "New Mexico 1.0\n",
            "New York 1.0\n",
            "North Carolina 1.0\n",
            "North Dakota 0.0\n",
            "Ohio 0.0\n",
            "Oklahoma 0.0\n",
            "Oregon 0.0\n",
            "Pennsylvania 0.0\n",
            "Rhode Island 0.0\n",
            "South Carolina 1.0\n",
            "South Dakota 0.0\n",
            "Tennessee 1.0\n",
            "Texas 1.0\n",
            "Utah 0.0\n",
            "Vermont 0.0\n",
            "Virginia 0.0\n",
            "Washington 0.0\n",
            "West Virginia 0.0\n",
            "Wisconsin 0.0\n",
            "Wyoming 0.0\n",
            "[1. 1. 1. 0. 1. 1. 0. 0. 1. 1. 0. 0. 1. 0. 0. 0. 0. 1. 0. 1. 0. 1. 0. 1.\n",
            " 1. 0. 0. 1. 0. 0. 1. 1. 1. 0. 0. 0. 0. 0. 0. 1. 0. 1. 1. 0. 0. 0. 0. 0.\n",
            " 0. 0.]\n"
          ],
          "name": "stdout"
        }
      ]
    },
    {
      "cell_type": "markdown",
      "metadata": {
        "id": "KzXKDQkY2f5t"
      },
      "source": [
        "Con los datos normalizados me clasifica en 2 grupos unicamente"
      ]
    },
    {
      "cell_type": "code",
      "metadata": {
        "id": "2WqOiKlv2cvz",
        "outputId": "c113e704-f38c-4728-8506-eed21edb5c21",
        "colab": {
          "base_uri": "https://localhost:8080/"
        }
      },
      "source": [
        "group_0_meanshift_norm=[]\n",
        "group_1_meanshift_norm=[]\n",
        "group_2_meanshift_norm=[]\n",
        "\n",
        "\n",
        "for i in np.arange(0,violent_crime.iloc[:,0].size):\n",
        "  if groups_meanshift_norm[i]==0:\n",
        "    #Si lo pongo como violent_crime.iloc[i,:] no me copia los datos como yo quiero\n",
        "    group_0_meanshift_norm.append([violent_crime.iloc[i,0],violent_crime.iloc[i,1],violent_crime.iloc[i,2],violent_crime.iloc[i,3],violent_crime.iloc[i,4]])\n",
        "  if groups_meanshift_norm[i]==1:\n",
        "    group_1_meanshift_norm.append([violent_crime.iloc[i,0],violent_crime.iloc[i,1],violent_crime.iloc[i,2],violent_crime.iloc[i,3],violent_crime.iloc[i,4]])\n",
        "\n",
        "\n",
        "\n",
        "print(len(group_0_meanshift_norm)+len(group_1_meanshift_norm))\n",
        "print('')\n",
        "group_0_meanshift_norm=np.resize(group_0_meanshift_norm,(len(group_0_meanshift),5))\n",
        "group_1_meanshift_norm=np.resize(group_1_meanshift_norm,(len(group_1_meanshift),5))\n",
        "\n",
        "\n",
        "print('GROUP 0:')\n",
        "print(group_0_meanshift_norm[:,:])\n",
        "print('GROUP 1:')\n",
        "print(group_1_meanshift_norm[:,:])\n"
      ],
      "execution_count": null,
      "outputs": [
        {
          "output_type": "stream",
          "text": [
            "50\n",
            "\n",
            "GROUP 0:\n",
            "[['Arkansas' '8.8' '190' '50' '19.5']\n",
            " ['Connecticut' '3.3' '110' '77' '11.1']\n",
            " ['Delaware' '5.9' '238' '72' '15.8']\n",
            " ['Hawaii' '5.3' '46' '83' '20.2']\n",
            " ['Idaho' '2.6' '120' '54' '14.2']\n",
            " ['Indiana' '7.2' '113' '65' '21.0']\n",
            " ['Iowa' '2.2' '56' '57' '11.3']\n",
            " ['Kansas' '6.0' '115' '66' '18.0']\n",
            " ['Kentucky' '9.7' '109' '52' '16.3']\n",
            " ['Maine' '2.1' '83' '51' '7.8']\n",
            " ['Massachusetts' '4.4' '149' '85' '16.3']\n",
            " ['Minnesota' '2.7' '72' '66' '14.9']\n",
            " ['Montana' '6.0' '109' '53' '16.4']\n",
            " ['Nebraska' '4.3' '102' '62' '16.5']\n",
            " ['New Hampshire' '2.1' '57' '56' '9.5']\n",
            " ['New Jersey' '7.4' '159' '89' '18.8']\n",
            " ['North Dakota' '0.8' '45' '44' '7.3']\n",
            " ['Ohio' '7.3' '120' '75' '21.4']\n",
            " ['Oklahoma' '6.6' '151' '68' '20.0']\n",
            " ['Oregon' '4.9' '159' '67' '29.3']\n",
            " ['Pennsylvania' '6.3' '106' '72' '14.9']]\n",
            "GROUP 1:\n",
            "[['Alabama' '13.2' '236' '58' '21.2']\n",
            " ['Alaska' '10.0' '263' '48' '44.5']\n",
            " ['Arizona' '8.1' '294' '80' '31.0']\n",
            " ['California' '9.0' '276' '91' '40.6']\n",
            " ['Colorado' '7.9' '204' '78' '38.7']\n",
            " ['Florida' '15.4' '335' '80' '31.9']\n",
            " ['Georgia' '17.4' '211' '60' '25.8']\n",
            " ['Illinois' '10.4' '249' '83' '24.0']\n",
            " ['Louisiana' '15.4' '249' '66' '22.2']\n",
            " ['Maryland' '11.3' '300' '67' '27.8']\n",
            " ['Michigan' '12.1' '255' '74' '35.1']\n",
            " ['Mississippi' '16.1' '259' '44' '17.1']\n",
            " ['Missouri' '9.0' '178' '70' '28.2']\n",
            " ['Nevada' '12.2' '252' '81' '46.0']\n",
            " ['New Mexico' '11.4' '285' '70' '32.1']\n",
            " ['New York' '11.1' '254' '86' '26.1']]\n"
          ],
          "name": "stdout"
        }
      ]
    },
    {
      "cell_type": "code",
      "metadata": {
        "id": "5j99EkWo-roz",
        "outputId": "830d78b0-0ae7-4277-a632-61f8dd7c92d1",
        "colab": {
          "base_uri": "https://localhost:8080/"
        }
      },
      "source": [
        "print(violent_crime.columns)"
      ],
      "execution_count": null,
      "outputs": [
        {
          "output_type": "stream",
          "text": [
            "Index(['Unnamed: 0', 'Murder', 'Assault', 'UrbanPop', 'Rape'], dtype='object')\n"
          ],
          "name": "stdout"
        }
      ]
    },
    {
      "cell_type": "code",
      "metadata": {
        "id": "2DBis9J53QdQ",
        "outputId": "1dd2f9a3-4434-412f-d89e-919b0f48ff58",
        "colab": {
          "base_uri": "https://localhost:8080/"
        }
      },
      "source": [
        "print('Mínimo y Máximo de Murder de cada grupo')\n",
        "print('Grupo 0:(',np.amin(np.array(group_0_meanshift_norm[:,1]).astype(np.float))/np.amax(np.array(violent_crime.Murder).astype(np.float)),',',np.amax(np.array(group_0_meanshift_norm[:,1]).astype(np.float))/np.amax(np.array(violent_crime.Murder).astype(np.float)),')--------------','Grupo 1:(',np.amin(np.array(group_1_meanshift_norm[:,1]).astype(np.float))/np.amax(np.array(violent_crime.Murder).astype(np.float)),',',np.amax(np.array(group_1_meanshift_norm[:,1]).astype(np.float))/np.amax(np.array(violent_crime.Murder).astype(np.float)),')')\n",
        "print('Valor del centroide de cada grupo')\n",
        "print('Grupo 0:(',centroids_mean_shift_norm[0,1],')-------','Grupo 1:(',centroids_mean_shift_norm[1,1],')')\n",
        "\n",
        "print('')\n",
        "\n",
        "print('Mínimo y Máximo de Assault de cada grupo')\n",
        "print('Grupo 0:(',np.amin(np.array(group_0_meanshift_norm[:,2]).astype(np.float))/np.amax(np.array(violent_crime.Assault).astype(np.float)),',',np.amax(np.array(group_0_meanshift_norm[:,2]).astype(np.float))/np.amax(np.array(violent_crime.Assault)),')------------','Grupo 1:(',np.amin(np.array(group_1_meanshift_norm[:,2]).astype(np.float))/np.amax(np.array(violent_crime.Assault)),',',np.amax(np.array(group_1_meanshift_norm[:,2]).astype(np.float))/np.amax(np.array(violent_crime.Assault)),')')\n",
        "print('Valor del centroide de cada grupo')\n",
        "print('Grupo 0:(',centroids_mean_shift_norm[0,2],')-------','Grupo 1:(',centroids_mean_shift_norm[1,2],')')\n",
        "\n",
        "print('')\n",
        "\n",
        "print('Mínimo y Máximo de UrbanPop de cada grupo')\n",
        "print('Grupo 0:(',np.amin(np.array(group_0_meanshift_norm[:,3]).astype(np.float))/np.amax(np.array(violent_crime.UrbanPop).astype(np.float)),',',np.amax(np.array(group_0_meanshift_norm[:,3]).astype(np.float))/np.amax(np.array(violent_crime.UrbanPop).astype(np.float)),')-------------','Grupo 1:(',np.amin(np.array(group_1_meanshift_norm[:,3]).astype(np.float))/np.amax(np.array(violent_crime.UrbanPop).astype(np.float)),',',np.amax(np.array(group_1_meanshift_norm[:,3]).astype(np.float))/np.amax(np.array(violent_crime.UrbanPop).astype(np.float)),')')\n",
        "print('Valor del centroide de cada grupo')\n",
        "print('Grupo 0:(',centroids_mean_shift_norm[0,0],')-------','Grupo 1:(',centroids_mean_shift_norm[1,0],')')\n",
        "\n",
        "print('')\n",
        "\n",
        "print('Mínimo y Máximo de Rape de cada grupo')\n",
        "print('Grupo 0:(',np.amin(np.array(group_0_meanshift_norm[:,4]).astype(np.float))/np.amax(np.array(violent_crime.Rape).astype(np.float)),',',np.amax(np.array(group_0_meanshift_norm[:,4]).astype(np.float))/np.amax(np.array(violent_crime.Rape).astype(np.float)),')-------------','Grupo 1:(',np.amin(np.array(group_1_meanshift_norm[:,4]).astype(np.float))/np.amax(np.array(violent_crime.Rape).astype(np.float)),',',np.amax(np.array(group_1_meanshift_norm[:,4]).astype(np.float))/np.amax(np.array(violent_crime.Rape).astype(np.float)),')')\n",
        "print('Valor del centroide de cada grupo')\n",
        "print('Grupo 0:(',centroids_mean_shift_norm[0,3],')-------','Grupo 1:(',centroids_mean_shift_norm[1,3],')')"
      ],
      "execution_count": null,
      "outputs": [
        {
          "output_type": "stream",
          "text": [
            "Mínimo y Máximo de Murder de cada grupo\n",
            "Grupo 0:( 0.04597701149425288 , 0.5574712643678161 )-------------- Grupo 1:( 0.4540229885057472 , 1.0 )\n",
            "Valor del centroide de cada grupo\n",
            "Grupo 0:( 0.30142687277051133 )------- Grupo 1:( 0.6903313049357673 )\n",
            "\n",
            "Mínimo y Máximo de Assault de cada grupo\n",
            "Grupo 0:( 0.13353115727002968 , 0.7062314540059347 )------------ Grupo 1:( 0.5281899109792285 , 0.9940652818991098 )\n",
            "Valor del centroide de cada grupo\n",
            "Grupo 0:( 0.35997134963675437 )------- Grupo 1:( 0.7411415604817595 )\n",
            "\n",
            "Mínimo y Máximo de UrbanPop de cada grupo\n",
            "Grupo 0:( 0.4835164835164835 , 0.978021978021978 )------------- Grupo 1:( 0.4835164835164835 , 1.0 )\n",
            "Valor del centroide de cada grupo\n",
            "Grupo 0:( 0.7211064797271697 )------- Grupo 1:( 0.7957336780866194 )\n",
            "\n",
            "Mínimo y Máximo de Rape de cada grupo\n",
            "Grupo 0:( 0.15869565217391304 , 0.6369565217391304 )------------- Grupo 1:( 0.3717391304347826 , 1.0 )\n",
            "Valor del centroide de cada grupo\n",
            "Grupo 0:( 0.3658170914542728 )------- Grupo 1:( 0.6465473145780052 )\n"
          ],
          "name": "stdout"
        }
      ]
    },
    {
      "cell_type": "markdown",
      "metadata": {
        "id": "OLHUZLdTAqvV"
      },
      "source": [
        "En cada atributo, los grupos poseen sobrelapamiento de valores, con lo cuál no hay un atributo individual que permita clasificar. \\\\\n",
        "En rasgos generales, el grupo 0 corresponde a los estados mas seguros para vivir, ya que los valores que presenta en los atributos Murder, Assault y Rape poseen valores menores que los del grupo 1 en la gran mayoría de los casos. Además presentan valores de distribución de la variable UrbanPop muy similares, con lo que en base a este atributo no se podría decir a que grupo pertenecería un Estado."
      ]
    }
  ]
}