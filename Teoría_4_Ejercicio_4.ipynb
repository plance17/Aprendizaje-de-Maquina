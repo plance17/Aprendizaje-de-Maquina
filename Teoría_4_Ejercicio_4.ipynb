{
  "nbformat": 4,
  "nbformat_minor": 0,
  "metadata": {
    "colab": {
      "name": "Teoría_4--Ejercicio_4.ipynb",
      "provenance": [],
      "authorship_tag": "ABX9TyPawRHaVFmrCWOO7DOigKym",
      "include_colab_link": true
    },
    "kernelspec": {
      "name": "python3",
      "display_name": "Python 3"
    }
  },
  "cells": [
    {
      "cell_type": "markdown",
      "metadata": {
        "id": "view-in-github",
        "colab_type": "text"
      },
      "source": [
        "<a href=\"https://colab.research.google.com/github/plance17/Aprendizaje-de-Maquina/blob/master/Teor%C3%ADa_4_Ejercicio_4.ipynb\" target=\"_parent\"><img src=\"https://colab.research.google.com/assets/colab-badge.svg\" alt=\"Open In Colab\"/></a>"
      ]
    },
    {
      "cell_type": "code",
      "metadata": {
        "id": "UC1duB4QCdiG"
      },
      "source": [
        "import matplotlib.pyplot as plt\n",
        "from matplotlib.colors import ListedColormap\n",
        "import numpy as np\n",
        "import scipy\n",
        "import math\n",
        "import pandas as pd \n",
        "from scipy import linalg, optimize\n",
        "from sympy.solvers import solve\n",
        "from sympy import Symbol\n",
        "\n",
        "from sklearn import neighbors\n",
        "from sklearn import metrics\n",
        "from sklearn import svm\n",
        "import sklearn\n",
        "\n",
        "import array as arr\n",
        "# realizar solicitudes web desde una URL\n",
        "import requests\n",
        "\n",
        "import urllib.request \n",
        "\n",
        "# xlrd nos ayuda a extraer datos de hojas de cálculo de Excel (.xls y .xlsx)\n",
        "# https://xlrd.readthedocs.io/en/latest/\n",
        "from xlrd import open_workbook"
      ],
      "execution_count": null,
      "outputs": []
    },
    {
      "cell_type": "code",
      "metadata": {
        "id": "cBAoQ7NlCoLN",
        "outputId": "476556ee-7776-4fb6-d696-e5bea4988a37",
        "colab": {
          "base_uri": "https://localhost:8080/",
          "height": 232
        }
      },
      "source": [
        "cancer_tissues = pd.read_csv(\"https://raw.githubusercontent.com/emmanueliarussi/DataScienceCapstone/master/3_MidtermProjects/ProjectBCD/data/data.csv\")\n",
        "cancer_tissues.head()"
      ],
      "execution_count": null,
      "outputs": [
        {
          "output_type": "execute_result",
          "data": {
            "text/html": [
              "<div>\n",
              "<style scoped>\n",
              "    .dataframe tbody tr th:only-of-type {\n",
              "        vertical-align: middle;\n",
              "    }\n",
              "\n",
              "    .dataframe tbody tr th {\n",
              "        vertical-align: top;\n",
              "    }\n",
              "\n",
              "    .dataframe thead th {\n",
              "        text-align: right;\n",
              "    }\n",
              "</style>\n",
              "<table border=\"1\" class=\"dataframe\">\n",
              "  <thead>\n",
              "    <tr style=\"text-align: right;\">\n",
              "      <th></th>\n",
              "      <th>id</th>\n",
              "      <th>diagnosis</th>\n",
              "      <th>radius_mean</th>\n",
              "      <th>texture_mean</th>\n",
              "      <th>perimeter_mean</th>\n",
              "      <th>area_mean</th>\n",
              "      <th>smoothness_mean</th>\n",
              "      <th>compactness_mean</th>\n",
              "      <th>concavity_mean</th>\n",
              "      <th>concave points_mean</th>\n",
              "      <th>symmetry_mean</th>\n",
              "      <th>fractal_dimension_mean</th>\n",
              "      <th>radius_se</th>\n",
              "      <th>texture_se</th>\n",
              "      <th>perimeter_se</th>\n",
              "      <th>area_se</th>\n",
              "      <th>smoothness_se</th>\n",
              "      <th>compactness_se</th>\n",
              "      <th>concavity_se</th>\n",
              "      <th>concave points_se</th>\n",
              "      <th>symmetry_se</th>\n",
              "      <th>fractal_dimension_se</th>\n",
              "      <th>radius_worst</th>\n",
              "      <th>texture_worst</th>\n",
              "      <th>perimeter_worst</th>\n",
              "      <th>area_worst</th>\n",
              "      <th>smoothness_worst</th>\n",
              "      <th>compactness_worst</th>\n",
              "      <th>concavity_worst</th>\n",
              "      <th>concave points_worst</th>\n",
              "      <th>symmetry_worst</th>\n",
              "      <th>fractal_dimension_worst</th>\n",
              "      <th>Unnamed: 32</th>\n",
              "    </tr>\n",
              "  </thead>\n",
              "  <tbody>\n",
              "    <tr>\n",
              "      <th>0</th>\n",
              "      <td>842302</td>\n",
              "      <td>M</td>\n",
              "      <td>17.99</td>\n",
              "      <td>10.38</td>\n",
              "      <td>122.80</td>\n",
              "      <td>1001.0</td>\n",
              "      <td>0.11840</td>\n",
              "      <td>0.27760</td>\n",
              "      <td>0.3001</td>\n",
              "      <td>0.14710</td>\n",
              "      <td>0.2419</td>\n",
              "      <td>0.07871</td>\n",
              "      <td>1.0950</td>\n",
              "      <td>0.9053</td>\n",
              "      <td>8.589</td>\n",
              "      <td>153.40</td>\n",
              "      <td>0.006399</td>\n",
              "      <td>0.04904</td>\n",
              "      <td>0.05373</td>\n",
              "      <td>0.01587</td>\n",
              "      <td>0.03003</td>\n",
              "      <td>0.006193</td>\n",
              "      <td>25.38</td>\n",
              "      <td>17.33</td>\n",
              "      <td>184.60</td>\n",
              "      <td>2019.0</td>\n",
              "      <td>0.1622</td>\n",
              "      <td>0.6656</td>\n",
              "      <td>0.7119</td>\n",
              "      <td>0.2654</td>\n",
              "      <td>0.4601</td>\n",
              "      <td>0.11890</td>\n",
              "      <td>NaN</td>\n",
              "    </tr>\n",
              "    <tr>\n",
              "      <th>1</th>\n",
              "      <td>842517</td>\n",
              "      <td>M</td>\n",
              "      <td>20.57</td>\n",
              "      <td>17.77</td>\n",
              "      <td>132.90</td>\n",
              "      <td>1326.0</td>\n",
              "      <td>0.08474</td>\n",
              "      <td>0.07864</td>\n",
              "      <td>0.0869</td>\n",
              "      <td>0.07017</td>\n",
              "      <td>0.1812</td>\n",
              "      <td>0.05667</td>\n",
              "      <td>0.5435</td>\n",
              "      <td>0.7339</td>\n",
              "      <td>3.398</td>\n",
              "      <td>74.08</td>\n",
              "      <td>0.005225</td>\n",
              "      <td>0.01308</td>\n",
              "      <td>0.01860</td>\n",
              "      <td>0.01340</td>\n",
              "      <td>0.01389</td>\n",
              "      <td>0.003532</td>\n",
              "      <td>24.99</td>\n",
              "      <td>23.41</td>\n",
              "      <td>158.80</td>\n",
              "      <td>1956.0</td>\n",
              "      <td>0.1238</td>\n",
              "      <td>0.1866</td>\n",
              "      <td>0.2416</td>\n",
              "      <td>0.1860</td>\n",
              "      <td>0.2750</td>\n",
              "      <td>0.08902</td>\n",
              "      <td>NaN</td>\n",
              "    </tr>\n",
              "    <tr>\n",
              "      <th>2</th>\n",
              "      <td>84300903</td>\n",
              "      <td>M</td>\n",
              "      <td>19.69</td>\n",
              "      <td>21.25</td>\n",
              "      <td>130.00</td>\n",
              "      <td>1203.0</td>\n",
              "      <td>0.10960</td>\n",
              "      <td>0.15990</td>\n",
              "      <td>0.1974</td>\n",
              "      <td>0.12790</td>\n",
              "      <td>0.2069</td>\n",
              "      <td>0.05999</td>\n",
              "      <td>0.7456</td>\n",
              "      <td>0.7869</td>\n",
              "      <td>4.585</td>\n",
              "      <td>94.03</td>\n",
              "      <td>0.006150</td>\n",
              "      <td>0.04006</td>\n",
              "      <td>0.03832</td>\n",
              "      <td>0.02058</td>\n",
              "      <td>0.02250</td>\n",
              "      <td>0.004571</td>\n",
              "      <td>23.57</td>\n",
              "      <td>25.53</td>\n",
              "      <td>152.50</td>\n",
              "      <td>1709.0</td>\n",
              "      <td>0.1444</td>\n",
              "      <td>0.4245</td>\n",
              "      <td>0.4504</td>\n",
              "      <td>0.2430</td>\n",
              "      <td>0.3613</td>\n",
              "      <td>0.08758</td>\n",
              "      <td>NaN</td>\n",
              "    </tr>\n",
              "    <tr>\n",
              "      <th>3</th>\n",
              "      <td>84348301</td>\n",
              "      <td>M</td>\n",
              "      <td>11.42</td>\n",
              "      <td>20.38</td>\n",
              "      <td>77.58</td>\n",
              "      <td>386.1</td>\n",
              "      <td>0.14250</td>\n",
              "      <td>0.28390</td>\n",
              "      <td>0.2414</td>\n",
              "      <td>0.10520</td>\n",
              "      <td>0.2597</td>\n",
              "      <td>0.09744</td>\n",
              "      <td>0.4956</td>\n",
              "      <td>1.1560</td>\n",
              "      <td>3.445</td>\n",
              "      <td>27.23</td>\n",
              "      <td>0.009110</td>\n",
              "      <td>0.07458</td>\n",
              "      <td>0.05661</td>\n",
              "      <td>0.01867</td>\n",
              "      <td>0.05963</td>\n",
              "      <td>0.009208</td>\n",
              "      <td>14.91</td>\n",
              "      <td>26.50</td>\n",
              "      <td>98.87</td>\n",
              "      <td>567.7</td>\n",
              "      <td>0.2098</td>\n",
              "      <td>0.8663</td>\n",
              "      <td>0.6869</td>\n",
              "      <td>0.2575</td>\n",
              "      <td>0.6638</td>\n",
              "      <td>0.17300</td>\n",
              "      <td>NaN</td>\n",
              "    </tr>\n",
              "    <tr>\n",
              "      <th>4</th>\n",
              "      <td>84358402</td>\n",
              "      <td>M</td>\n",
              "      <td>20.29</td>\n",
              "      <td>14.34</td>\n",
              "      <td>135.10</td>\n",
              "      <td>1297.0</td>\n",
              "      <td>0.10030</td>\n",
              "      <td>0.13280</td>\n",
              "      <td>0.1980</td>\n",
              "      <td>0.10430</td>\n",
              "      <td>0.1809</td>\n",
              "      <td>0.05883</td>\n",
              "      <td>0.7572</td>\n",
              "      <td>0.7813</td>\n",
              "      <td>5.438</td>\n",
              "      <td>94.44</td>\n",
              "      <td>0.011490</td>\n",
              "      <td>0.02461</td>\n",
              "      <td>0.05688</td>\n",
              "      <td>0.01885</td>\n",
              "      <td>0.01756</td>\n",
              "      <td>0.005115</td>\n",
              "      <td>22.54</td>\n",
              "      <td>16.67</td>\n",
              "      <td>152.20</td>\n",
              "      <td>1575.0</td>\n",
              "      <td>0.1374</td>\n",
              "      <td>0.2050</td>\n",
              "      <td>0.4000</td>\n",
              "      <td>0.1625</td>\n",
              "      <td>0.2364</td>\n",
              "      <td>0.07678</td>\n",
              "      <td>NaN</td>\n",
              "    </tr>\n",
              "  </tbody>\n",
              "</table>\n",
              "</div>"
            ],
            "text/plain": [
              "         id diagnosis  ...  fractal_dimension_worst  Unnamed: 32\n",
              "0    842302         M  ...                  0.11890          NaN\n",
              "1    842517         M  ...                  0.08902          NaN\n",
              "2  84300903         M  ...                  0.08758          NaN\n",
              "3  84348301         M  ...                  0.17300          NaN\n",
              "4  84358402         M  ...                  0.07678          NaN\n",
              "\n",
              "[5 rows x 33 columns]"
            ]
          },
          "metadata": {
            "tags": []
          },
          "execution_count": 2
        }
      ]
    },
    {
      "cell_type": "code",
      "metadata": {
        "id": "zZl87XqNDOAF",
        "outputId": "d25391b4-db5d-45aa-90ed-1d222d764436",
        "colab": {
          "base_uri": "https://localhost:8080/",
          "height": 202
        }
      },
      "source": [
        "print(cancer_tissues.columns)\n",
        "print(cancer_tissues.columns.size)"
      ],
      "execution_count": null,
      "outputs": [
        {
          "output_type": "stream",
          "text": [
            "Index(['id', 'diagnosis', 'radius_mean', 'texture_mean', 'perimeter_mean',\n",
            "       'area_mean', 'smoothness_mean', 'compactness_mean', 'concavity_mean',\n",
            "       'concave points_mean', 'symmetry_mean', 'fractal_dimension_mean',\n",
            "       'radius_se', 'texture_se', 'perimeter_se', 'area_se', 'smoothness_se',\n",
            "       'compactness_se', 'concavity_se', 'concave points_se', 'symmetry_se',\n",
            "       'fractal_dimension_se', 'radius_worst', 'texture_worst',\n",
            "       'perimeter_worst', 'area_worst', 'smoothness_worst',\n",
            "       'compactness_worst', 'concavity_worst', 'concave points_worst',\n",
            "       'symmetry_worst', 'fractal_dimension_worst', 'Unnamed: 32'],\n",
            "      dtype='object')\n",
            "33\n"
          ],
          "name": "stdout"
        }
      ]
    },
    {
      "cell_type": "markdown",
      "metadata": {
        "id": "HHZxCyVnEUWm"
      },
      "source": [
        "Creo una matriz donde los cánceres malignos se representan con 0 y los cánceres benignos con 1."
      ]
    },
    {
      "cell_type": "code",
      "metadata": {
        "id": "v2W8QV6bDjx1",
        "outputId": "832bc007-d804-4cfb-a603-38f150800d5b",
        "colab": {
          "base_uri": "https://localhost:8080/",
          "height": 437
        }
      },
      "source": [
        "cancer_type=np.zeros(cancer_tissues.diagnosis.size)\n",
        "for i in np.arange(0,cancer_tissues.diagnosis.size):\n",
        "  if cancer_tissues.diagnosis[i]=='M':\n",
        "    cancer_type[i]=0\n",
        "  if cancer_tissues.diagnosis[i]=='B':\n",
        "    cancer_type[i]=1\n",
        "\n",
        "print(cancer_type)\n",
        "print(cancer_type.size)"
      ],
      "execution_count": null,
      "outputs": [
        {
          "output_type": "stream",
          "text": [
            "[0. 0. 0. 0. 0. 0. 0. 0. 0. 0. 0. 0. 0. 0. 0. 0. 0. 0. 0. 1. 1. 1. 0. 0.\n",
            " 0. 0. 0. 0. 0. 0. 0. 0. 0. 0. 0. 0. 0. 1. 0. 0. 0. 0. 0. 0. 0. 0. 1. 0.\n",
            " 1. 1. 1. 1. 1. 0. 0. 1. 0. 0. 1. 1. 1. 1. 0. 1. 0. 0. 1. 1. 1. 1. 0. 1.\n",
            " 0. 0. 1. 0. 1. 0. 0. 1. 1. 1. 0. 0. 1. 0. 0. 0. 1. 1. 1. 0. 1. 1. 0. 0.\n",
            " 1. 1. 1. 0. 0. 1. 1. 1. 1. 0. 1. 1. 0. 1. 1. 1. 1. 1. 1. 1. 1. 0. 0. 0.\n",
            " 1. 0. 0. 1. 1. 1. 0. 0. 1. 0. 1. 0. 0. 1. 0. 0. 1. 1. 0. 1. 1. 0. 1. 1.\n",
            " 1. 1. 0. 1. 1. 1. 1. 1. 1. 1. 1. 1. 0. 1. 1. 1. 1. 0. 0. 1. 0. 1. 1. 0.\n",
            " 0. 1. 1. 0. 0. 1. 1. 1. 1. 0. 1. 1. 0. 0. 0. 1. 0. 1. 0. 1. 1. 1. 0. 1.\n",
            " 1. 0. 0. 1. 0. 0. 0. 0. 1. 0. 0. 0. 1. 0. 1. 0. 1. 1. 0. 1. 0. 0. 0. 0.\n",
            " 1. 1. 0. 0. 1. 1. 1. 0. 1. 1. 1. 1. 1. 0. 0. 1. 1. 0. 1. 1. 0. 0. 1. 0.\n",
            " 1. 1. 1. 1. 0. 1. 1. 1. 1. 1. 0. 1. 0. 0. 0. 0. 0. 0. 0. 0. 0. 0. 0. 0.\n",
            " 0. 0. 1. 1. 1. 1. 1. 1. 0. 1. 0. 1. 1. 0. 1. 1. 0. 1. 0. 0. 1. 1. 1. 1.\n",
            " 1. 1. 1. 1. 1. 1. 1. 1. 1. 0. 1. 1. 0. 1. 0. 1. 1. 1. 1. 1. 1. 1. 1. 1.\n",
            " 1. 1. 1. 1. 1. 0. 1. 1. 1. 0. 1. 0. 1. 1. 1. 1. 0. 0. 0. 1. 1. 1. 1. 0.\n",
            " 1. 0. 1. 0. 1. 1. 1. 0. 1. 1. 1. 1. 1. 1. 1. 0. 0. 0. 1. 1. 1. 1. 1. 1.\n",
            " 1. 1. 1. 1. 1. 0. 0. 1. 0. 0. 0. 1. 0. 0. 1. 1. 1. 1. 1. 0. 1. 1. 1. 1.\n",
            " 1. 0. 1. 1. 1. 0. 1. 1. 0. 0. 1. 1. 1. 1. 1. 1. 0. 1. 1. 1. 1. 1. 1. 1.\n",
            " 0. 1. 1. 1. 1. 1. 0. 1. 1. 0. 1. 1. 1. 1. 1. 1. 1. 1. 1. 1. 1. 1. 0. 1.\n",
            " 0. 0. 1. 0. 1. 1. 1. 1. 1. 0. 1. 1. 0. 1. 0. 1. 1. 0. 1. 0. 1. 1. 1. 1.\n",
            " 1. 1. 1. 1. 0. 0. 1. 1. 1. 1. 1. 1. 0. 1. 1. 1. 1. 1. 1. 1. 1. 1. 1. 0.\n",
            " 1. 1. 1. 1. 1. 1. 1. 0. 1. 0. 1. 1. 0. 1. 1. 1. 1. 1. 0. 0. 1. 0. 1. 0.\n",
            " 1. 1. 1. 1. 1. 0. 1. 1. 0. 1. 0. 1. 0. 0. 1. 1. 1. 0. 1. 1. 1. 1. 1. 1.\n",
            " 1. 1. 1. 1. 1. 0. 1. 0. 0. 1. 1. 1. 1. 1. 1. 1. 1. 1. 1. 1. 1. 1. 1. 1.\n",
            " 1. 1. 1. 1. 1. 1. 1. 1. 1. 1. 0. 0. 0. 0. 0. 0. 1.]\n",
            "569\n"
          ],
          "name": "stdout"
        }
      ]
    },
    {
      "cell_type": "code",
      "metadata": {
        "id": "r217VbktGav0"
      },
      "source": [
        "#Tomo un 80% del dataset como entrenamiento, y un 20% para testear\n",
        "x_train, x_test, y_train, y_test = sklearn.model_selection.train_test_split(cancer_tissues.iloc[:,2:31], cancer_type, test_size=0.2, random_state=1)"
      ],
      "execution_count": null,
      "outputs": []
    },
    {
      "cell_type": "code",
      "metadata": {
        "id": "OW3uq8mzHN8J",
        "outputId": "a4eb6f1a-029e-4ffd-ddcc-0b754c2bd75f",
        "colab": {
          "base_uri": "https://localhost:8080/",
          "height": 84
        }
      },
      "source": [
        "# Clasifico utilizando Support Vector Machine\n",
        "classifier = svm.SVC(gamma=0.001)\n",
        "# Entreno el clasificador\n",
        "classifier.fit(x_train, y_train)"
      ],
      "execution_count": null,
      "outputs": [
        {
          "output_type": "execute_result",
          "data": {
            "text/plain": [
              "SVC(C=1.0, break_ties=False, cache_size=200, class_weight=None, coef0=0.0,\n",
              "    decision_function_shape='ovr', degree=3, gamma=0.001, kernel='rbf',\n",
              "    max_iter=-1, probability=False, random_state=None, shrinking=True,\n",
              "    tol=0.001, verbose=False)"
            ]
          },
          "metadata": {
            "tags": []
          },
          "execution_count": 41
        }
      ]
    },
    {
      "cell_type": "code",
      "metadata": {
        "id": "SRdJxUvnHep8"
      },
      "source": [
        "# Ahora testeo \n",
        "y_predicted = classifier.predict(x_test)"
      ],
      "execution_count": null,
      "outputs": []
    },
    {
      "cell_type": "code",
      "metadata": {
        "id": "KiN1Ru1nHla7",
        "outputId": "2a42e3e5-03f5-4bf6-a24b-acc3b345699e",
        "colab": {
          "base_uri": "https://localhost:8080/",
          "height": 442
        }
      },
      "source": [
        "disp = metrics.plot_confusion_matrix(classifier, x_test, y_test, cmap='inferno')\n",
        "disp.figure_.suptitle(\"Confusion Matrix\")\n",
        "print(\"Confusion matrix:\\n%s\" % disp.confusion_matrix)\n",
        "\n",
        "#True Positive Rate\n",
        "sensibilidad=disp.confusion_matrix[0,0]/(disp.confusion_matrix[0,0]+disp.confusion_matrix[1,0])\n",
        "\n",
        "#Positive Predicted Value\n",
        "presicion=disp.confusion_matrix[0,0]/(disp.confusion_matrix[0,0]+disp.confusion_matrix[0,1])\n",
        "\n",
        "#Accuracy\n",
        "exactitud=(disp.confusion_matrix[0,0]+disp.confusion_matrix[1,1])/(disp.confusion_matrix[0,0]+disp.confusion_matrix[1,1]+disp.confusion_matrix[0,1]+disp.confusion_matrix[1,0])\n",
        "\n",
        "#False Positive Rate\n",
        "fall_out=disp.confusion_matrix[0,1]/(disp.confusion_matrix[0,1]+disp.confusion_matrix[1,1])\n",
        "print('')\n",
        "print('Sensibilidad:', sensibilidad)\n",
        "print('Presicion:', presicion)\n",
        "print('Exactitud:', exactitud)\n",
        "print('Fall_out:', fall_out)"
      ],
      "execution_count": null,
      "outputs": [
        {
          "output_type": "stream",
          "text": [
            "Confusion matrix:\n",
            "[[40  2]\n",
            " [ 3 69]]\n",
            "\n",
            "Sensibilidad: 0.9302325581395349\n",
            "Presicion: 0.9523809523809523\n",
            "Exactitud: 0.956140350877193\n",
            "Fall_out: 0.028169014084507043\n"
          ],
          "name": "stdout"
        },
        {
          "output_type": "display_data",
          "data": {
            "image/png": "[encoded data removed]",
            "text/plain": [
              "<Figure size 432x288 with 2 Axes>"
            ]
          },
          "metadata": {
            "tags": [],
            "needs_background": "light"
          }
        }
      ]
    },
    {
      "cell_type": "markdown",
      "metadata": {
        "id": "fV5v6EDGWrnF"
      },
      "source": [
        "El programa ubica los datos que corresponden a cánceres malignos en la fila superior de la matriz de confusión. Los cánceres malignos serían considerados como positivos."
      ]
    },
    {
      "cell_type": "code",
      "metadata": {
        "id": "9vs0CTGle4o6"
      },
      "source": [
        "El clasificador con las condiciones dadas es muy bueno."
      ],
      "execution_count": null,
      "outputs": []
    },
    {
      "cell_type": "markdown",
      "metadata": {
        "id": "O84jJN3UKmxE"
      },
      "source": [
        "**Varío el gamma para ver como cambian las predicciones**"
      ]
    },
    {
      "cell_type": "code",
      "metadata": {
        "id": "9FE83V0uKXqA",
        "outputId": "374c75e6-0e8b-4556-b032-5cfe2e6d1924",
        "colab": {
          "base_uri": "https://localhost:8080/",
          "height": 476
        }
      },
      "source": [
        "#Tomo un 80% del dataset como entrenamiento, y un 20% para testear\n",
        "x_train, x_test, y_train, y_test = sklearn.model_selection.train_test_split(cancer_tissues.iloc[:,2:31], cancer_type, test_size=0.2, random_state=1)\n",
        "\n",
        "classifier = svm.SVC(gamma=0.01)\n",
        "classifier.fit(x_train, y_train)\n",
        "\n",
        "y_predicted = classifier.predict(x_test)\n",
        "\n",
        "disp = metrics.plot_confusion_matrix(classifier, x_test, y_test, cmap='inferno')\n",
        "disp.figure_.suptitle(\"Confusion Matrix\")\n",
        "print(\"Confusion matrix:\\n%s\" % disp.confusion_matrix)\n",
        "\n",
        "#True Positive Rate\n",
        "sensibilidad=disp.confusion_matrix[0,0]/(disp.confusion_matrix[0,0]+disp.confusion_matrix[1,0])\n",
        "\n",
        "#Positive Predicted Value\n",
        "presicion=disp.confusion_matrix[0,0]/(disp.confusion_matrix[0,0]+disp.confusion_matrix[0,1])\n",
        "\n",
        "#Accuracy\n",
        "exactitud=(disp.confusion_matrix[0,0]+disp.confusion_matrix[1,1])/(disp.confusion_matrix[0,0]+disp.confusion_matrix[1,1]+disp.confusion_matrix[0,1]+disp.confusion_matrix[1,0])\n",
        "\n",
        "#False Positive Rate\n",
        "fall_out=disp.confusion_matrix[0,1]/(disp.confusion_matrix[0,1]+disp.confusion_matrix[1,1])\n",
        "print('')\n",
        "print('Sensibilidad:', sensibilidad)\n",
        "print('Presicion:', presicion)\n",
        "print('Exactitud:', exactitud)\n",
        "print('Fall_out:', fall_out)"
      ],
      "execution_count": null,
      "outputs": [
        {
          "output_type": "stream",
          "text": [
            "Confusion matrix:\n",
            "[[ 0 42]\n",
            " [ 0 72]]\n",
            "\n",
            "Sensibilidad: nan\n",
            "Presicion: 0.0\n",
            "Exactitud: 0.631578947368421\n",
            "Fall_out: 0.3684210526315789\n"
          ],
          "name": "stdout"
        },
        {
          "output_type": "stream",
          "text": [
            "/usr/local/lib/python3.6/dist-packages/ipykernel_launcher.py:14: RuntimeWarning: invalid value encountered in long_scalars\n",
            "  \n"
          ],
          "name": "stderr"
        },
        {
          "output_type": "display_data",
          "data": {
            "image/png": "[encoded data removed]",
            "text/plain": [
              "<Figure size 432x288 with 2 Axes>"
            ]
          },
          "metadata": {
            "tags": [],
            "needs_background": "light"
          }
        }
      ]
    },
    {
      "cell_type": "code",
      "metadata": {
        "id": "GtMfvFthKtMK",
        "outputId": "48655fd1-fe59-485b-9e04-07f30d80f8b1",
        "colab": {
          "base_uri": "https://localhost:8080/",
          "height": 476
        }
      },
      "source": [
        "#Tomo un 80% del dataset como entrenamiento, y un 20% para testear\n",
        "x_train, x_test, y_train, y_test = sklearn.model_selection.train_test_split(cancer_tissues.iloc[:,2:31], cancer_type, test_size=0.2, random_state=1)\n",
        "\n",
        "classifier = svm.SVC(gamma=0.1)\n",
        "classifier.fit(x_train, y_train)\n",
        "\n",
        "y_predicted = classifier.predict(x_test)\n",
        "\n",
        "disp = metrics.plot_confusion_matrix(classifier, x_test, y_test, cmap='inferno')\n",
        "disp.figure_.suptitle(\"Confusion Matrix\")\n",
        "print(\"Confusion matrix:\\n%s\" % disp.confusion_matrix)\n",
        "\n",
        "#True Positive Rate\n",
        "sensibilidad=disp.confusion_matrix[0,0]/(disp.confusion_matrix[0,0]+disp.confusion_matrix[1,0])\n",
        "\n",
        "#Positive Predicted Value\n",
        "presicion=disp.confusion_matrix[0,0]/(disp.confusion_matrix[0,0]+disp.confusion_matrix[0,1])\n",
        "\n",
        "#Accuracy\n",
        "exactitud=(disp.confusion_matrix[0,0]+disp.confusion_matrix[1,1])/(disp.confusion_matrix[0,0]+disp.confusion_matrix[1,1]+disp.confusion_matrix[0,1]+disp.confusion_matrix[1,0])\n",
        "\n",
        "#False Positive Rate\n",
        "fall_out=disp.confusion_matrix[0,1]/(disp.confusion_matrix[0,1]+disp.confusion_matrix[1,1])\n",
        "print('')\n",
        "print('Sensibilidad:', sensibilidad)\n",
        "print('Presicion:', presicion)\n",
        "print('Exactitud:', exactitud)\n",
        "print('Fall_out:', fall_out)"
      ],
      "execution_count": null,
      "outputs": [
        {
          "output_type": "stream",
          "text": [
            "Confusion matrix:\n",
            "[[ 0 42]\n",
            " [ 0 72]]\n",
            "\n",
            "Sensibilidad: nan\n",
            "Presicion: 0.0\n",
            "Exactitud: 0.631578947368421\n",
            "Fall_out: 0.3684210526315789\n"
          ],
          "name": "stdout"
        },
        {
          "output_type": "stream",
          "text": [
            "/usr/local/lib/python3.6/dist-packages/ipykernel_launcher.py:14: RuntimeWarning: invalid value encountered in long_scalars\n",
            "  \n"
          ],
          "name": "stderr"
        },
        {
          "output_type": "display_data",
          "data": {
            "image/png": "[encoded data removed]",
            "text/plain": [
              "<Figure size 432x288 with 2 Axes>"
            ]
          },
          "metadata": {
            "tags": [],
            "needs_background": "light"
          }
        }
      ]
    },
    {
      "cell_type": "code",
      "metadata": {
        "id": "Bi8-V_baK60a",
        "outputId": "6bef3919-06f1-4b5e-8183-3463a221a49d",
        "colab": {
          "base_uri": "https://localhost:8080/",
          "height": 476
        }
      },
      "source": [
        "#Tomo un 80% del dataset como entrenamiento, y un 20% para testear\n",
        "x_train, x_test, y_train, y_test = sklearn.model_selection.train_test_split(cancer_tissues.iloc[:,2:31], cancer_type, test_size=0.2, random_state=1)\n",
        "\n",
        "classifier = svm.SVC(gamma=1)\n",
        "classifier.fit(x_train, y_train)\n",
        "\n",
        "y_predicted = classifier.predict(x_test)\n",
        "\n",
        "disp = metrics.plot_confusion_matrix(classifier, x_test, y_test, cmap='inferno')\n",
        "disp.figure_.suptitle(\"Confusion Matrix\")\n",
        "print(\"Confusion matrix:\\n%s\" % disp.confusion_matrix)\n",
        "\n",
        "#True Positive Rate\n",
        "sensibilidad=disp.confusion_matrix[0,0]/(disp.confusion_matrix[0,0]+disp.confusion_matrix[1,0])\n",
        "\n",
        "#Positive Predicted Value\n",
        "presicion=disp.confusion_matrix[0,0]/(disp.confusion_matrix[0,0]+disp.confusion_matrix[0,1])\n",
        "\n",
        "#Accuracy\n",
        "exactitud=(disp.confusion_matrix[0,0]+disp.confusion_matrix[1,1])/(disp.confusion_matrix[0,0]+disp.confusion_matrix[1,1]+disp.confusion_matrix[0,1]+disp.confusion_matrix[1,0])\n",
        "\n",
        "#False Positive Rate\n",
        "fall_out=disp.confusion_matrix[0,1]/(disp.confusion_matrix[0,1]+disp.confusion_matrix[1,1])\n",
        "print('')\n",
        "print('Sensibilidad:', sensibilidad)\n",
        "print('Presicion:', presicion)\n",
        "print('Exactitud:', exactitud)\n",
        "print('Fall_out:', fall_out)"
      ],
      "execution_count": null,
      "outputs": [
        {
          "output_type": "stream",
          "text": [
            "Confusion matrix:\n",
            "[[ 0 42]\n",
            " [ 0 72]]\n",
            "\n",
            "Sensibilidad: nan\n",
            "Presicion: 0.0\n",
            "Exactitud: 0.631578947368421\n",
            "Fall_out: 0.3684210526315789\n"
          ],
          "name": "stdout"
        },
        {
          "output_type": "stream",
          "text": [
            "/usr/local/lib/python3.6/dist-packages/ipykernel_launcher.py:14: RuntimeWarning: invalid value encountered in long_scalars\n",
            "  \n"
          ],
          "name": "stderr"
        },
        {
          "output_type": "display_data",
          "data": {
            "image/png": "[encoded data removed]",
            "text/plain": [
              "<Figure size 432x288 with 2 Axes>"
            ]
          },
          "metadata": {
            "tags": [],
            "needs_background": "light"
          }
        }
      ]
    },
    {
      "cell_type": "code",
      "metadata": {
        "id": "0qOI8UfOLIym",
        "outputId": "9397f06a-1493-49ba-bf6a-3b34966bf72f",
        "colab": {
          "base_uri": "https://localhost:8080/",
          "height": 442
        }
      },
      "source": [
        "#Tomo un 80% del dataset como entrenamiento, y un 20% para testear\n",
        "x_train, x_test, y_train, y_test = sklearn.model_selection.train_test_split(cancer_tissues.iloc[:,2:31], cancer_type, test_size=0.2, random_state=1)\n",
        "\n",
        "classifier = svm.SVC(gamma=0.0001)\n",
        "classifier.fit(x_train, y_train)\n",
        "\n",
        "y_predicted = classifier.predict(x_test)\n",
        "\n",
        "disp = metrics.plot_confusion_matrix(classifier, x_test, y_test, cmap='inferno')\n",
        "disp.figure_.suptitle(\"Confusion Matrix\")\n",
        "print(\"Confusion matrix:\\n%s\" % disp.confusion_matrix)\n",
        "\n",
        "#True Positive Rate\n",
        "sensibilidad=disp.confusion_matrix[0,0]/(disp.confusion_matrix[0,0]+disp.confusion_matrix[1,0])\n",
        "\n",
        "#Positive Predicted Value\n",
        "presicion=disp.confusion_matrix[0,0]/(disp.confusion_matrix[0,0]+disp.confusion_matrix[0,1])\n",
        "\n",
        "#Accuracy\n",
        "exactitud=(disp.confusion_matrix[0,0]+disp.confusion_matrix[1,1])/(disp.confusion_matrix[0,0]+disp.confusion_matrix[1,1]+disp.confusion_matrix[0,1]+disp.confusion_matrix[1,0])\n",
        "\n",
        "#False Positive Rate\n",
        "fall_out=disp.confusion_matrix[0,1]/(disp.confusion_matrix[0,1]+disp.confusion_matrix[1,1])\n",
        "print('')\n",
        "print('Sensibilidad:', sensibilidad)\n",
        "print('Presicion:', presicion)\n",
        "print('Exactitud:', exactitud)\n",
        "print('Fall_out:', fall_out)"
      ],
      "execution_count": null,
      "outputs": [
        {
          "output_type": "stream",
          "text": [
            "Confusion matrix:\n",
            "[[36  6]\n",
            " [ 1 71]]\n",
            "\n",
            "Sensibilidad: 0.972972972972973\n",
            "Presicion: 0.8571428571428571\n",
            "Exactitud: 0.9385964912280702\n",
            "Fall_out: 0.07792207792207792\n"
          ],
          "name": "stdout"
        },
        {
          "output_type": "display_data",
          "data": {
            "image/png": "[encoded data removed]",
            "text/plain": [
              "<Figure size 432x288 with 2 Axes>"
            ]
          },
          "metadata": {
            "tags": [],
            "needs_background": "light"
          }
        }
      ]
    },
    {
      "cell_type": "code",
      "metadata": {
        "id": "hGHlDh8cLPjg",
        "outputId": "8d288b39-76a1-4a36-883f-17497e0a11d3",
        "colab": {
          "base_uri": "https://localhost:8080/",
          "height": 442
        }
      },
      "source": [
        "#Tomo un 80% del dataset como entrenamiento, y un 20% para testear\n",
        "x_train, x_test, y_train, y_test = sklearn.model_selection.train_test_split(cancer_tissues.iloc[:,2:31], cancer_type, test_size=0.2, random_state=1)\n",
        "\n",
        "classifier = svm.SVC(gamma=0.00001)\n",
        "classifier.fit(x_train, y_train)\n",
        "\n",
        "y_predicted = classifier.predict(x_test)\n",
        "\n",
        "disp = metrics.plot_confusion_matrix(classifier, x_test, y_test, cmap='inferno')\n",
        "disp.figure_.suptitle(\"Confusion Matrix\")\n",
        "print(\"Confusion matrix:\\n%s\" % disp.confusion_matrix)\n",
        "\n",
        "#True Positive Rate\n",
        "sensibilidad=disp.confusion_matrix[0,0]/(disp.confusion_matrix[0,0]+disp.confusion_matrix[1,0])\n",
        "\n",
        "#Positive Predicted Value\n",
        "presicion=disp.confusion_matrix[0,0]/(disp.confusion_matrix[0,0]+disp.confusion_matrix[0,1])\n",
        "\n",
        "#Accuracy\n",
        "exactitud=(disp.confusion_matrix[0,0]+disp.confusion_matrix[1,1])/(disp.confusion_matrix[0,0]+disp.confusion_matrix[1,1]+disp.confusion_matrix[0,1]+disp.confusion_matrix[1,0])\n",
        "\n",
        "#False Positive Rate\n",
        "fall_out=disp.confusion_matrix[0,1]/(disp.confusion_matrix[0,1]+disp.confusion_matrix[1,1])\n",
        "print('')\n",
        "print('Sensibilidad:', sensibilidad)\n",
        "print('Presicion:', presicion)\n",
        "print('Exactitud:', exactitud)\n",
        "print('Fall_out:', fall_out)"
      ],
      "execution_count": null,
      "outputs": [
        {
          "output_type": "stream",
          "text": [
            "Confusion matrix:\n",
            "[[32 10]\n",
            " [ 2 70]]\n",
            "\n",
            "Sensibilidad: 0.9411764705882353\n",
            "Presicion: 0.7619047619047619\n",
            "Exactitud: 0.8947368421052632\n",
            "Fall_out: 0.125\n"
          ],
          "name": "stdout"
        },
        {
          "output_type": "display_data",
          "data": {
            "image/png": "[encoded data removed]",
            "text/plain": [
              "<Figure size 432x288 with 2 Axes>"
            ]
          },
          "metadata": {
            "tags": [],
            "needs_background": "light"
          }
        }
      ]
    },
    {
      "cell_type": "code",
      "metadata": {
        "id": "yZ6hIx53LTAN",
        "outputId": "e925a947-aa50-4df3-989d-d91955e80009",
        "colab": {
          "base_uri": "https://localhost:8080/",
          "height": 442
        }
      },
      "source": [
        "#Tomo un 80% del dataset como entrenamiento, y un 20% para testear\n",
        "x_train, x_test, y_train, y_test = sklearn.model_selection.train_test_split(cancer_tissues.iloc[:,2:31], cancer_type, test_size=0.2, random_state=1)\n",
        "\n",
        "classifier = svm.SVC(gamma=0.000001)\n",
        "classifier.fit(x_train, y_train)\n",
        "\n",
        "y_predicted = classifier.predict(x_test)\n",
        "\n",
        "disp = metrics.plot_confusion_matrix(classifier, x_test, y_test, cmap='inferno')\n",
        "disp.figure_.suptitle(\"Confusion Matrix\")\n",
        "print(\"Confusion matrix:\\n%s\" % disp.confusion_matrix)\n",
        "\n",
        "#True Positive Rate\n",
        "sensibilidad=disp.confusion_matrix[0,0]/(disp.confusion_matrix[0,0]+disp.confusion_matrix[1,0])\n",
        "\n",
        "#Positive Predicted Value\n",
        "presicion=disp.confusion_matrix[0,0]/(disp.confusion_matrix[0,0]+disp.confusion_matrix[0,1])\n",
        "\n",
        "#Accuracy\n",
        "exactitud=(disp.confusion_matrix[0,0]+disp.confusion_matrix[1,1])/(disp.confusion_matrix[0,0]+disp.confusion_matrix[1,1]+disp.confusion_matrix[0,1]+disp.confusion_matrix[1,0])\n",
        "\n",
        "#False Positive Rate\n",
        "fall_out=disp.confusion_matrix[0,1]/(disp.confusion_matrix[0,1]+disp.confusion_matrix[1,1])\n",
        "print('')\n",
        "print('Sensibilidad:', sensibilidad)\n",
        "print('Presicion:', presicion)\n",
        "print('Exactitud:', exactitud)\n",
        "print('Fall_out:', fall_out)"
      ],
      "execution_count": null,
      "outputs": [
        {
          "output_type": "stream",
          "text": [
            "Confusion matrix:\n",
            "[[31 11]\n",
            " [ 0 72]]\n",
            "\n",
            "Sensibilidad: 1.0\n",
            "Presicion: 0.7380952380952381\n",
            "Exactitud: 0.9035087719298246\n",
            "Fall_out: 0.13253012048192772\n"
          ],
          "name": "stdout"
        },
        {
          "output_type": "display_data",
          "data": {
            "image/png": "[encoded data removed]",
            "text/plain": [
              "<Figure size 432x288 with 2 Axes>"
            ]
          },
          "metadata": {
            "tags": [],
            "needs_background": "light"
          }
        }
      ]
    },
    {
      "cell_type": "markdown",
      "metadata": {
        "id": "mIJbAShELSgd"
      },
      "source": [
        "Valores óptimos para gamma parecen ser entre 0.001 y 0.0001. Es cuando se obtienen mejores resultados.\n",
        "\n",
        "Con valores mayores a 0.001 me clasifica todos los cánceres como benignos, es un clasificador espantoso."
      ]
    },
    {
      "cell_type": "markdown",
      "metadata": {
        "id": "x04uD2UAMHki"
      },
      "source": [
        "**Mantengo gamma y varío el tamaño del dataset de entrenamiento y testeo**"
      ]
    },
    {
      "cell_type": "code",
      "metadata": {
        "id": "IJX8Plk1MNMf",
        "outputId": "937a4464-9da1-41fa-e240-2e33804db1aa",
        "colab": {
          "base_uri": "https://localhost:8080/",
          "height": 442
        }
      },
      "source": [
        "#Tomo un 70% del dataset como entrenamiento, y un 30% para testear\n",
        "x_train, x_test, y_train, y_test = sklearn.model_selection.train_test_split(cancer_tissues.iloc[:,2:31], cancer_type, test_size=0.3, random_state=1)\n",
        "\n",
        "classifier = svm.SVC(gamma=0.001)\n",
        "classifier.fit(x_train, y_train)\n",
        "\n",
        "y_predicted = classifier.predict(x_test)\n",
        "\n",
        "disp = metrics.plot_confusion_matrix(classifier, x_test, y_test, cmap='inferno')\n",
        "disp.figure_.suptitle(\"Confusion Matrix\")\n",
        "print(\"Confusion matrix:\\n%s\" % disp.confusion_matrix)\n",
        "\n",
        "#True Positive Rate\n",
        "sensibilidad=disp.confusion_matrix[0,0]/(disp.confusion_matrix[0,0]+disp.confusion_matrix[1,0])\n",
        "\n",
        "#Positive Predicted Value\n",
        "presicion=disp.confusion_matrix[0,0]/(disp.confusion_matrix[0,0]+disp.confusion_matrix[0,1])\n",
        "\n",
        "#Accuracy\n",
        "exactitud=(disp.confusion_matrix[0,0]+disp.confusion_matrix[1,1])/(disp.confusion_matrix[0,0]+disp.confusion_matrix[1,1]+disp.confusion_matrix[0,1]+disp.confusion_matrix[1,0])\n",
        "\n",
        "#False Positive Rate\n",
        "fall_out=disp.confusion_matrix[0,1]/(disp.confusion_matrix[0,1]+disp.confusion_matrix[1,1])\n",
        "print('')\n",
        "print('Sensibilidad:', sensibilidad)\n",
        "print('Presicion:', presicion)\n",
        "print('Exactitud:', exactitud)\n",
        "print('Fall_out:', fall_out)"
      ],
      "execution_count": null,
      "outputs": [
        {
          "output_type": "stream",
          "text": [
            "Confusion matrix:\n",
            "[[ 60   3]\n",
            " [  6 102]]\n",
            "\n",
            "Sensibilidad: 0.9090909090909091\n",
            "Presicion: 0.9523809523809523\n",
            "Exactitud: 0.9473684210526315\n",
            "Fall_out: 0.02857142857142857\n"
          ],
          "name": "stdout"
        },
        {
          "output_type": "display_data",
          "data": {
            "image/png": "[encoded data removed]",
            "text/plain": [
              "<Figure size 432x288 with 2 Axes>"
            ]
          },
          "metadata": {
            "tags": [],
            "needs_background": "light"
          }
        }
      ]
    },
    {
      "cell_type": "code",
      "metadata": {
        "id": "ijGynol5MU2z",
        "outputId": "22c0dba9-5fb1-49c0-caac-ace9e16a375d",
        "colab": {
          "base_uri": "https://localhost:8080/",
          "height": 442
        }
      },
      "source": [
        "#Tomo un 60% del dataset como entrenamiento, y un 40% para testear\n",
        "x_train, x_test, y_train, y_test = sklearn.model_selection.train_test_split(cancer_tissues.iloc[:,2:31], cancer_type, test_size=0.4, random_state=1)\n",
        "\n",
        "classifier = svm.SVC(gamma=0.001)\n",
        "classifier.fit(x_train, y_train)\n",
        "\n",
        "y_predicted = classifier.predict(x_test)\n",
        "\n",
        "disp = metrics.plot_confusion_matrix(classifier, x_test, y_test, cmap='inferno')\n",
        "disp.figure_.suptitle(\"Confusion Matrix\")\n",
        "print(\"Confusion matrix:\\n%s\" % disp.confusion_matrix)\n",
        "\n",
        "#True Positive Rate\n",
        "sensibilidad=disp.confusion_matrix[0,0]/(disp.confusion_matrix[0,0]+disp.confusion_matrix[1,0])\n",
        "\n",
        "#Positive Predicted Value\n",
        "presicion=disp.confusion_matrix[0,0]/(disp.confusion_matrix[0,0]+disp.confusion_matrix[0,1])\n",
        "\n",
        "#Accuracy\n",
        "exactitud=(disp.confusion_matrix[0,0]+disp.confusion_matrix[1,1])/(disp.confusion_matrix[0,0]+disp.confusion_matrix[1,1]+disp.confusion_matrix[0,1]+disp.confusion_matrix[1,0])\n",
        "\n",
        "#False Positive Rate\n",
        "fall_out=disp.confusion_matrix[0,1]/(disp.confusion_matrix[0,1]+disp.confusion_matrix[1,1])\n",
        "print('')\n",
        "print('Sensibilidad:', sensibilidad)\n",
        "print('Presicion:', presicion)\n",
        "print('Exactitud:', exactitud)\n",
        "print('Fall_out:', fall_out)"
      ],
      "execution_count": null,
      "outputs": [
        {
          "output_type": "stream",
          "text": [
            "Confusion matrix:\n",
            "[[ 74   6]\n",
            " [ 13 135]]\n",
            "\n",
            "Sensibilidad: 0.8505747126436781\n",
            "Presicion: 0.925\n",
            "Exactitud: 0.9166666666666666\n",
            "Fall_out: 0.0425531914893617\n"
          ],
          "name": "stdout"
        },
        {
          "output_type": "display_data",
          "data": {
            "image/png": "[encoded data removed]",
            "text/plain": [
              "<Figure size 432x288 with 2 Axes>"
            ]
          },
          "metadata": {
            "tags": [],
            "needs_background": "light"
          }
        }
      ]
    },
    {
      "cell_type": "markdown",
      "metadata": {
        "id": "zTyersb2NNF1"
      },
      "source": [
        "Al caso de 60% del dtaset como entrenamiento y 40% como testeo le varío el gamma a 0.0001"
      ]
    },
    {
      "cell_type": "code",
      "metadata": {
        "id": "eg-BjaU7NXms",
        "outputId": "14911392-41c1-45ca-f792-d1bd85906f4a",
        "colab": {
          "base_uri": "https://localhost:8080/",
          "height": 442
        }
      },
      "source": [
        "#Tomo un 60% del dataset como entrenamiento, y un 40% para testear\n",
        "x_train, x_test, y_train, y_test = sklearn.model_selection.train_test_split(cancer_tissues.iloc[:,2:31], cancer_type, test_size=0.4, random_state=1)\n",
        "\n",
        "classifier = svm.SVC(gamma=0.0001)\n",
        "classifier.fit(x_train, y_train)\n",
        "\n",
        "y_predicted = classifier.predict(x_test)\n",
        "\n",
        "disp = metrics.plot_confusion_matrix(classifier, x_test, y_test, cmap='inferno')\n",
        "disp.figure_.suptitle(\"Confusion Matrix\")\n",
        "print(\"Confusion matrix:\\n%s\" % disp.confusion_matrix)\n",
        "\n",
        "#True Positive Rate\n",
        "sensibilidad=disp.confusion_matrix[0,0]/(disp.confusion_matrix[0,0]+disp.confusion_matrix[1,0])\n",
        "\n",
        "#Positive Predicted Value\n",
        "presicion=disp.confusion_matrix[0,0]/(disp.confusion_matrix[0,0]+disp.confusion_matrix[0,1])\n",
        "\n",
        "#Accuracy\n",
        "exactitud=(disp.confusion_matrix[0,0]+disp.confusion_matrix[1,1])/(disp.confusion_matrix[0,0]+disp.confusion_matrix[1,1]+disp.confusion_matrix[0,1]+disp.confusion_matrix[1,0])\n",
        "\n",
        "#False Positive Rate\n",
        "fall_out=disp.confusion_matrix[0,1]/(disp.confusion_matrix[0,1]+disp.confusion_matrix[1,1])\n",
        "print('')\n",
        "print('Sensibilidad:', sensibilidad)\n",
        "print('Presicion:', presicion)\n",
        "print('Exactitud:', exactitud)\n",
        "print('Fall_out:', fall_out)"
      ],
      "execution_count": null,
      "outputs": [
        {
          "output_type": "stream",
          "text": [
            "Confusion matrix:\n",
            "[[ 73   7]\n",
            " [  7 141]]\n",
            "\n",
            "Sensibilidad: 0.9125\n",
            "Presicion: 0.9125\n",
            "Exactitud: 0.9385964912280702\n",
            "Fall_out: 0.0472972972972973\n"
          ],
          "name": "stdout"
        },
        {
          "output_type": "display_data",
          "data": {
            "image/png": "[encoded data removed]",
            "text/plain": [
              "<Figure size 432x288 with 2 Axes>"
            ]
          },
          "metadata": {
            "tags": [],
            "needs_background": "light"
          }
        }
      ]
    },
    {
      "cell_type": "code",
      "metadata": {
        "id": "9l_SEzH0N2w-",
        "outputId": "164de97b-da10-47fc-d49a-2ca7429f632c",
        "colab": {
          "base_uri": "https://localhost:8080/",
          "height": 442
        }
      },
      "source": [
        "#Tomo un 50% del dataset como entrenamiento, y un 50% para testear\n",
        "x_train, x_test, y_train, y_test = sklearn.model_selection.train_test_split(cancer_tissues.iloc[:,2:31], cancer_type, test_size=0.4, random_state=1)\n",
        "\n",
        "classifier = svm.SVC(gamma=0.0005)\n",
        "classifier.fit(x_train, y_train)\n",
        "\n",
        "y_predicted = classifier.predict(x_test)\n",
        "\n",
        "disp = metrics.plot_confusion_matrix(classifier, x_test, y_test, cmap='inferno')\n",
        "disp.figure_.suptitle(\"Confusion Matrix\")\n",
        "print(\"Confusion matrix:\\n%s\" % disp.confusion_matrix)\n",
        "\n",
        "#True Positive Rate\n",
        "sensibilidad=disp.confusion_matrix[0,0]/(disp.confusion_matrix[0,0]+disp.confusion_matrix[1,0])\n",
        "\n",
        "#Positive Predicted Value\n",
        "presicion=disp.confusion_matrix[0,0]/(disp.confusion_matrix[0,0]+disp.confusion_matrix[0,1])\n",
        "\n",
        "#Accuracy\n",
        "exactitud=(disp.confusion_matrix[0,0]+disp.confusion_matrix[1,1])/(disp.confusion_matrix[0,0]+disp.confusion_matrix[1,1]+disp.confusion_matrix[0,1]+disp.confusion_matrix[1,0])\n",
        "\n",
        "#False Positive Rate\n",
        "fall_out=disp.confusion_matrix[0,1]/(disp.confusion_matrix[0,1]+disp.confusion_matrix[1,1])\n",
        "print('')\n",
        "print('Sensibilidad:', sensibilidad)\n",
        "print('Presicion:', presicion)\n",
        "print('Exactitud:', exactitud)\n",
        "print('Fall_out:', fall_out)"
      ],
      "execution_count": null,
      "outputs": [
        {
          "output_type": "stream",
          "text": [
            "Confusion matrix:\n",
            "[[ 74   6]\n",
            " [ 11 137]]\n",
            "\n",
            "Sensibilidad: 0.8705882352941177\n",
            "Presicion: 0.925\n",
            "Exactitud: 0.9254385964912281\n",
            "Fall_out: 0.04195804195804196\n"
          ],
          "name": "stdout"
        },
        {
          "output_type": "display_data",
          "data": {
            "image/png": "[encoded data removed]",
            "text/plain": [
              "<Figure size 432x288 with 2 Axes>"
            ]
          },
          "metadata": {
            "tags": [],
            "needs_background": "light"
          }
        }
      ]
    },
    {
      "cell_type": "code",
      "metadata": {
        "id": "VQAzp1vCMg2G",
        "outputId": "c657fdc8-a4fb-4c07-f6d9-2e4fc5e383a6",
        "colab": {
          "base_uri": "https://localhost:8080/",
          "height": 442
        }
      },
      "source": [
        "#Tomo un 50% del dataset como entrenamiento, y un 50% para testear\n",
        "x_train, x_test, y_train, y_test = sklearn.model_selection.train_test_split(cancer_tissues.iloc[:,2:31], cancer_type, test_size=0.5, random_state=1)\n",
        "\n",
        "classifier = svm.SVC(gamma=0.001)\n",
        "classifier.fit(x_train, y_train)\n",
        "\n",
        "y_predicted = classifier.predict(x_test)\n",
        "\n",
        "disp = metrics.plot_confusion_matrix(classifier, x_test, y_test, cmap='inferno')\n",
        "disp.figure_.suptitle(\"Confusion Matrix\")\n",
        "print(\"Confusion matrix:\\n%s\" % disp.confusion_matrix)\n",
        "\n",
        "#True Positive Rate\n",
        "sensibilidad=disp.confusion_matrix[0,0]/(disp.confusion_matrix[0,0]+disp.confusion_matrix[1,0])\n",
        "\n",
        "#Positive Predicted Value\n",
        "presicion=disp.confusion_matrix[0,0]/(disp.confusion_matrix[0,0]+disp.confusion_matrix[0,1])\n",
        "\n",
        "#Accuracy\n",
        "exactitud=(disp.confusion_matrix[0,0]+disp.confusion_matrix[1,1])/(disp.confusion_matrix[0,0]+disp.confusion_matrix[1,1]+disp.confusion_matrix[0,1]+disp.confusion_matrix[1,0])\n",
        "\n",
        "#False Positive Rate\n",
        "fall_out=disp.confusion_matrix[0,1]/(disp.confusion_matrix[0,1]+disp.confusion_matrix[1,1])\n",
        "print('')\n",
        "print('Sensibilidad:', sensibilidad)\n",
        "print('Presicion:', presicion)\n",
        "print('Exactitud:', exactitud)\n",
        "print('Fall_out:', fall_out)"
      ],
      "execution_count": null,
      "outputs": [
        {
          "output_type": "stream",
          "text": [
            "Confusion matrix:\n",
            "[[ 91  12]\n",
            " [ 21 161]]\n",
            "\n",
            "Sensibilidad: 0.8125\n",
            "Presicion: 0.883495145631068\n",
            "Exactitud: 0.8842105263157894\n",
            "Fall_out: 0.06936416184971098\n"
          ],
          "name": "stdout"
        },
        {
          "output_type": "display_data",
          "data": {
            "image/png": "[encoded data removed]",
            "text/plain": [
              "<Figure size 432x288 with 2 Axes>"
            ]
          },
          "metadata": {
            "tags": [],
            "needs_background": "light"
          }
        }
      ]
    },
    {
      "cell_type": "markdown",
      "metadata": {
        "id": "Uy844tz6MvR3"
      },
      "source": [
        "A este último caso, le varío el gamma, para ver si mejora un poco."
      ]
    },
    {
      "cell_type": "code",
      "metadata": {
        "id": "OXt8b9HBMzpa",
        "outputId": "803aa8c1-cf33-4630-daeb-f7c9f7abe348",
        "colab": {
          "base_uri": "https://localhost:8080/",
          "height": 442
        }
      },
      "source": [
        "#Tomo un 50% del dataset como entrenamiento, y un 50% para testear\n",
        "x_train, x_test, y_train, y_test = sklearn.model_selection.train_test_split(cancer_tissues.iloc[:,2:31], cancer_type, test_size=0.5, random_state=1)\n",
        "\n",
        "classifier = svm.SVC(gamma=0.0001)\n",
        "classifier.fit(x_train, y_train)\n",
        "\n",
        "y_predicted = classifier.predict(x_test)\n",
        "\n",
        "disp = metrics.plot_confusion_matrix(classifier, x_test, y_test, cmap='inferno')\n",
        "disp.figure_.suptitle(\"Confusion Matrix\")\n",
        "print(\"Confusion matrix:\\n%s\" % disp.confusion_matrix)\n",
        "\n",
        "#True Positive Rate\n",
        "sensibilidad=disp.confusion_matrix[0,0]/(disp.confusion_matrix[0,0]+disp.confusion_matrix[1,0])\n",
        "\n",
        "#Positive Predicted Value\n",
        "presicion=disp.confusion_matrix[0,0]/(disp.confusion_matrix[0,0]+disp.confusion_matrix[0,1])\n",
        "\n",
        "#Accuracy\n",
        "exactitud=(disp.confusion_matrix[0,0]+disp.confusion_matrix[1,1])/(disp.confusion_matrix[0,0]+disp.confusion_matrix[1,1]+disp.confusion_matrix[0,1]+disp.confusion_matrix[1,0])\n",
        "\n",
        "#False Positive Rate\n",
        "fall_out=disp.confusion_matrix[0,1]/(disp.confusion_matrix[0,1]+disp.confusion_matrix[1,1])\n",
        "print('')\n",
        "print('Sensibilidad:', sensibilidad)\n",
        "print('Presicion:', presicion)\n",
        "print('Exactitud:', exactitud)\n",
        "print('Fall_out:', fall_out)"
      ],
      "execution_count": null,
      "outputs": [
        {
          "output_type": "stream",
          "text": [
            "Confusion matrix:\n",
            "[[ 88  15]\n",
            " [  6 176]]\n",
            "\n",
            "Sensibilidad: 0.9361702127659575\n",
            "Presicion: 0.8543689320388349\n",
            "Exactitud: 0.9263157894736842\n",
            "Fall_out: 0.07853403141361257\n"
          ],
          "name": "stdout"
        },
        {
          "output_type": "display_data",
          "data": {
            "image/png": "[encoded data removed]",
            "text/plain": [
              "<Figure size 432x288 with 2 Axes>"
            ]
          },
          "metadata": {
            "tags": [],
            "needs_background": "light"
          }
        }
      ]
    },
    {
      "cell_type": "markdown",
      "metadata": {
        "id": "xqHFLIVwM4vp"
      },
      "source": [
        "Para las últimas pruebas, donde se cambió gamma de 0.001 a 0.0001 para los casos de clasificación con un dataset de entrenamiento del 60% del dataset total sensibilidad y la exactitud se ven mejorada, y la precision dismuniye un poco. Pareciera que el parámetro mas óptimo de gamma sería 0.0001.\n",
        "\n",
        "Y probado para el caso de dataset de entrenamiento del 60%, un valor intermedi oentre 0.001 y 0.0001 parece obtener buenos resultados de presición, exactitud y sensibilidad."
      ]
    },
    {
      "cell_type": "code",
      "metadata": {
        "id": "AKe0a7Kpfmrp",
        "outputId": "cc95b8a6-fef3-48d5-af9d-926d6258566c",
        "colab": {
          "base_uri": "https://localhost:8080/",
          "height": 442
        }
      },
      "source": [
        "#Tomo un 80% del dataset como entrenamiento, y un 20% para testear\n",
        "x_train, x_test, y_train, y_test = sklearn.model_selection.train_test_split(cancer_tissues.iloc[:,2:31], cancer_type, test_size=0.2, random_state=1)\n",
        "\n",
        "classifier = svm.SVC(gamma=0.0001)\n",
        "classifier.fit(x_train, y_train)\n",
        "\n",
        "y_predicted = classifier.predict(x_test)\n",
        "\n",
        "disp = metrics.plot_confusion_matrix(classifier, x_test, y_test, cmap='inferno')\n",
        "disp.figure_.suptitle(\"Confusion Matrix\")\n",
        "print(\"Confusion matrix:\\n%s\" % disp.confusion_matrix)\n",
        "\n",
        "#True Positive Rate\n",
        "sensibilidad=disp.confusion_matrix[0,0]/(disp.confusion_matrix[0,0]+disp.confusion_matrix[1,0])\n",
        "\n",
        "#Positive Predicted Value\n",
        "presicion=disp.confusion_matrix[0,0]/(disp.confusion_matrix[0,0]+disp.confusion_matrix[0,1])\n",
        "\n",
        "#Accuracy\n",
        "exactitud=(disp.confusion_matrix[0,0]+disp.confusion_matrix[1,1])/(disp.confusion_matrix[0,0]+disp.confusion_matrix[1,1]+disp.confusion_matrix[0,1]+disp.confusion_matrix[1,0])\n",
        "\n",
        "#False Positive Rate\n",
        "fall_out=disp.confusion_matrix[0,1]/(disp.confusion_matrix[0,1]+disp.confusion_matrix[1,1])\n",
        "print('')\n",
        "print('Sensibilidad:', sensibilidad)\n",
        "print('Presicion:', presicion)\n",
        "print('Exactitud:', exactitud)\n",
        "print('Fall_out:', fall_out)"
      ],
      "execution_count": 61,
      "outputs": [
        {
          "output_type": "stream",
          "text": [
            "Confusion matrix:\n",
            "[[36  6]\n",
            " [ 1 71]]\n",
            "\n",
            "Sensibilidad: 0.972972972972973\n",
            "Presicion: 0.8571428571428571\n",
            "Exactitud: 0.9385964912280702\n",
            "Fall_out: 0.07792207792207792\n"
          ],
          "name": "stdout"
        },
        {
          "output_type": "display_data",
          "data": {
            "image/png": "[encoded data removed]",
            "text/plain": [
              "<Figure size 432x288 with 2 Axes>"
            ]
          },
          "metadata": {
            "tags": [],
            "needs_background": "light"
          }
        }
      ]
    },
    {
      "cell_type": "markdown",
      "metadata": {
        "id": "ltHu7zWWgR4M"
      },
      "source": [
        "Para el caso de un dataset de entrenamiento que es el 80% del dataset completo, la variación de sigma parece no afectar considerablemente con las predicciones."
      ]
    }
  ]
}