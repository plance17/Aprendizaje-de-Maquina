{
  "nbformat": 4,
  "nbformat_minor": 0,
  "metadata": {
    "colab": {
      "name": "Untitled0.ipynb",
      "provenance": [],
      "authorship_tag": "ABX9TyPiaENrEdIAjHnfghN5rYB6",
      "include_colab_link": true
    },
    "kernelspec": {
      "name": "python3",
      "display_name": "Python 3"
    }
  },
  "cells": [
    {
      "cell_type": "markdown",
      "metadata": {
        "id": "view-in-github",
        "colab_type": "text"
      },
      "source": [
        "<a href=\"https://colab.research.google.com/github/plance17/Aprendizaje-de-Maquina/blob/master/Teor%C3%ADa3-Ejercicio1.ipynb\" target=\"_parent\"><img src=\"https://colab.research.google.com/assets/colab-badge.svg\" alt=\"Open In Colab\"/></a>"
      ]
    },
    {
      "cell_type": "code",
      "metadata": {
        "id": "sSDztEMn0gIS"
      },
      "source": [
        "import matplotlib.pyplot as plt\n",
        "import numpy as np\n",
        "import scipy\n",
        "import math\n",
        "import pandas as pd \n",
        "from scipy import linalg, optimize\n",
        "from sympy.solvers import solve\n",
        "from sympy import Symbol\n",
        "\n",
        "from sklearn import neighbors\n",
        "import sklearn\n",
        "from sklearn import preprocessing\n",
        "from sklearn import utils\n",
        "import array as arr\n",
        "# realizar solicitudes web desde una URL\n",
        "import requests\n",
        "\n",
        "import urllib.request \n",
        "\n",
        "# xlrd nos ayuda a extraer datos de hojas de cálculo de Excel (.xls y .xlsx)\n",
        "# https://xlrd.readthedocs.io/en/latest/\n",
        "from xlrd import open_workbook"
      ],
      "execution_count": 135,
      "outputs": []
    },
    {
      "cell_type": "code",
      "metadata": {
        "id": "bFKlANG00mio",
        "outputId": "722dfee6-017d-4cb4-d03d-477156351ec9",
        "colab": {
          "base_uri": "https://localhost:8080/",
          "height": 265
        }
      },
      "source": [
        "mu_a=10.0\n",
        "sigma_a=0.5\n",
        "\n",
        "a=np.random.normal(mu_a,sigma_a,size=100)\n",
        "data_a=np.zeros(a.size)\n",
        "\n",
        "for i in np.arange(0,a.size):\n",
        "  data_a[i]=1/(sigma_a * np.sqrt(2 * np.pi)) *np.exp( - (a[i] - mu_a)**2 / (2 * sigma_a**2))\n",
        "\n",
        "a_ajuste = np.linspace(7.5,12.5)\n",
        "ajuste_gaussiano_a = 1/(sigma_a*np.sqrt(2*np.pi))*np.exp(-(a_ajuste-mu_a)**2/(2*sigma_a**2))\n",
        "\n",
        "mu_b=8.5\n",
        "sigma_b=0.75\n",
        "\n",
        "b=np.random.normal(mu_b,sigma_b,size=100)\n",
        "data_b=np.zeros(b.size)\n",
        "\n",
        "for i in np.arange(0,a.size):\n",
        "  data_b[i]=1/(sigma_b * np.sqrt(2 * np.pi)) *np.exp( - (b[i] - mu_b)**2 / (2 * sigma_b**2))\n",
        "\n",
        "b_ajuste = np.linspace(6.5,12.5)\n",
        "ajuste_gaussiano_b = 1/(sigma_b*np.sqrt(2*np.pi))*np.exp(-(b_ajuste-mu_b)**2/(2*sigma_b**2))\n",
        "umbral=9\n",
        "\n",
        "'''\n",
        "plt.plot(a,data_a,'bo')\n",
        "plt.plot(a_ajuste,ajuste_gaussiano_a,'blue')\n",
        "plt.plot(b,data_b,'ro')\n",
        "plt.plot(b_ajuste,ajuste_gaussiano_b,'red')\n",
        "plt.show()\n",
        "'''\n",
        "\n",
        "mu_c=8.2\n",
        "sigma_c=0.6\n",
        "\n",
        "c=np.random.normal(mu_c,sigma_c,size=100)\n",
        "data_c=np.zeros(c.size)\n",
        "\n",
        "for i in np.arange(0,c.size):\n",
        "  data_c[i]=1/(sigma_c * np.sqrt(2 * np.pi)) *np.exp( - (c[i] - mu_c)**2 / (2 * sigma_c**2))\n",
        "\n",
        "c_ajuste = np.linspace(6.5,12.5)\n",
        "ajuste_gaussiano_c = 1/(sigma_c*np.sqrt(2*np.pi))*np.exp(-(c_ajuste-mu_c)**2/(2*sigma_c**2))\n",
        "\n",
        "mu_d=8.0\n",
        "sigma_d=1.0\n",
        "\n",
        "d=np.random.normal(mu_d,sigma_d,size=100)\n",
        "data_d=np.zeros(d.size)\n",
        "\n",
        "for i in np.arange(0,d.size):\n",
        "  data_d[i]=1/(sigma_d * np.sqrt(2 * np.pi)) *np.exp( - (d[i] - mu_d)**2 / (2 * sigma_d**2))\n",
        "\n",
        "d_ajuste = np.linspace(4.5,12.5)\n",
        "ajuste_gaussiano_d = 1/(sigma_d*np.sqrt(2*np.pi))*np.exp(-(d_ajuste-mu_d)**2/(2*sigma_d**2))\n",
        "umbral=9\n",
        "\n",
        "plt.plot(a,b,'ro')\n",
        "plt.plot(c,d,'bo')\n",
        "plt.show()\n"
      ],
      "execution_count": 117,
      "outputs": [
        {
          "output_type": "display_data",
          "data": {
            "image/png": "[encoded data removed]",
            "text/plain": [
              "<Figure size 432x288 with 1 Axes>"
            ]
          },
          "metadata": {
            "tags": [],
            "needs_background": "light"
          }
        }
      ]
    },
    {
      "cell_type": "code",
      "metadata": {
        "id": "ZXTD1cBPGKoB",
        "outputId": "85a6cd66-3d3c-4d02-9779-26ee03baa946",
        "colab": {
          "base_uri": "https://localhost:8080/",
          "height": 513
        }
      },
      "source": [
        "plt.plot(a,data_a,'bo')\n",
        "plt.plot(a_ajuste,ajuste_gaussiano_a,'blue',label='data a')\n",
        "plt.plot(c,data_c,'ro')\n",
        "plt.plot(c_ajuste,ajuste_gaussiano_c,'red',label='data c')\n",
        "plt.legend(loc='upper right')\n",
        "plt.show()\n",
        "\n",
        "plt.plot(b,data_b,'bo')\n",
        "plt.plot(b_ajuste,ajuste_gaussiano_b,'blue',label='data b')\n",
        "plt.plot(d,data_d,'ro')\n",
        "plt.plot(d_ajuste,ajuste_gaussiano_d,'red',label='data d')\n",
        "plt.legend(loc='upper right')\n",
        "plt.show()"
      ],
      "execution_count": 118,
      "outputs": [
        {
          "output_type": "display_data",
          "data": {
            "image/png": "[encoded data removed]",
            "text/plain": [
              "<Figure size 432x288 with 1 Axes>"
            ]
          },
          "metadata": {
            "tags": [],
            "needs_background": "light"
          }
        },
        {
          "output_type": "display_data",
          "data": {
            "image/png": "[encoded data removed]",
            "text/plain": [
              "<Figure size 432x288 with 1 Axes>"
            ]
          },
          "metadata": {
            "tags": [],
            "needs_background": "light"
          }
        }
      ]
    },
    {
      "cell_type": "code",
      "metadata": {
        "id": "DqwW-nrwFCHA",
        "outputId": "b7307909-9c7d-4c8d-cdfd-37aa85307cc0",
        "colab": {
          "base_uri": "https://localhost:8080/",
          "height": 34
        }
      },
      "source": [
        "mean_a=np.mean(a)\n",
        "mean_b=np.mean(b)\n",
        "mean_c=np.mean(c)\n",
        "mean_d=np.mean(d)\n",
        "\n",
        "print(mean_a,mean_b,mean_c,mean_d)"
      ],
      "execution_count": 119,
      "outputs": [
        {
          "output_type": "stream",
          "text": [
            "9.961902845178265 8.559386828581237 8.171176723628783 7.995753601281637\n"
          ],
          "name": "stdout"
        }
      ]
    },
    {
      "cell_type": "code",
      "metadata": {
        "id": "ZjWt88tLmkZ6",
        "outputId": "fb2fe04c-29ce-45d9-a0db-f98505f60861",
        "colab": {
          "base_uri": "https://localhost:8080/",
          "height": 50
        }
      },
      "source": [
        "#Matriz de covarianza\n",
        "def distribution_a(x):\n",
        "  return 1/(sigma_a*np.sqrt(2*np.pi))*np.exp(-(x-mu_a)**2/(2*sigma_a**2))\n",
        "def distribution_b(x):\n",
        "  return 1/(sigma_b*np.sqrt(2*np.pi))*np.exp(-(x-mu_b)**2/(2*sigma_b**2))\n",
        "def distribution_c(x):\n",
        "  return 1/(sigma_c*np.sqrt(2*np.pi))*np.exp(-(x-mu_c)**2/(2*sigma_c**2))\n",
        "def distribution_d(x):\n",
        "  return 1/(sigma_d*np.sqrt(2*np.pi))*np.exp(-(x-mu_d)**2/(2*sigma_d**2))\n",
        "\n",
        "E_ab=np.zeros((2,2))\n",
        "\n",
        "for i in np.arange(0,a.size):\n",
        "  E_ab[0,0]=E_ab[0,0]+(a[i]-mean_a)**2  #Componente xx de la matriz de covarianza\n",
        "  E_ab[0,1]=E_ab[0,1]+(a[i]-mean_a)*(b[i]-mean_b)   #Componente xy de la matriz de covarianza\n",
        "  E_ab[(1,0)]=E_ab[(1,0)]+(b[i]-mean_b)*(a[i]-mean_a)   #Componente yx de la matriz de covarianza\n",
        "  E_ab[(1,1)]=E_ab[(1,1)]+(b[i]-mean_b)**2  #Componente yy de la matriz de covarianza\n",
        "\n",
        "E_ab=E_ab/a.size\n",
        "\n",
        "print(E_ab)"
      ],
      "execution_count": 120,
      "outputs": [
        {
          "output_type": "stream",
          "text": [
            "[[0.29665575 0.03122308]\n",
            " [0.03122308 0.54582668]]\n"
          ],
          "name": "stdout"
        }
      ]
    },
    {
      "cell_type": "code",
      "metadata": {
        "id": "9SnMfjyIezIx",
        "outputId": "84e4b56e-f5f7-4682-a48c-4e11607a9786",
        "colab": {
          "base_uri": "https://localhost:8080/",
          "height": 1000
        }
      },
      "source": [
        "#print(a)\n",
        "a=a.reshape(-1,1)\n",
        "b=b.reshape(-1,1)\n",
        "\n",
        "\n",
        "x=np.empty([a.size,2])\n",
        "y=np.empty((a.size,2))\n",
        "print(x)\n",
        "print(a[5])\n",
        "for i in np.arange(0,a.size):\n",
        "  x[i]=[a[i], b[i]]\n",
        "  y[i]=[c[i], d[i]]\n",
        "\n",
        "#x=pd.DataFrame(data=x)\n",
        "#y=pd.DataFrame(data=y)\n",
        "print(x)\n",
        "\n",
        "x_train, x_test, y_train, y_test=sklearn.model_selection.train_test_split(x,y, test_size=0.4,random_state=1)\n",
        "\n",
        "#print(x_train)\n",
        "knn = neighbors.KNeighborsClassifier(n_neighbors=1)\n",
        "knn.fit(x_train,y_train)"
      ],
      "execution_count": 141,
      "outputs": [
        {
          "output_type": "stream",
          "text": [
            "[[4.25262617e-316 5.09227532e-317]\n",
            " [8.09773594e-321             nan]\n",
            " [9.33934626e+000 0.00000000e+000]\n",
            " [1.61410559e+132 3.13435284e+233]\n",
            " [7.28079528e+223 4.97164617e-091]\n",
            " [1.31307088e-071 2.95154176e-075]\n",
            " [2.45579835e+198 9.89803615e+164]\n",
            " [1.56791286e+218 2.12040317e+257]\n",
            " [6.60925411e-062 1.42137841e-076]\n",
            " [1.76540643e+137 1.43573466e-023]\n",
            " [6.01347002e-154 9.89803615e+164]\n",
            " [1.42137836e-076 8.82141826e+199]\n",
            " [9.89803615e+164 9.16281387e-072]\n",
            " [5.92942534e-114 9.45956265e-076]\n",
            " [1.61410559e+132 9.16281387e-072]\n",
            " [1.42137876e-076 1.11416848e+218]\n",
            " [1.61410559e+132 9.89803615e+164]\n",
            " [1.55736886e+136 9.02193423e+217]\n",
            " [9.45956265e-076 2.95160759e-075]\n",
            " [2.13412571e+257 6.60925411e-062]\n",
            " [9.16281386e-072 1.42137876e-076]\n",
            " [1.11416848e+218 9.45956265e-076]\n",
            " [1.61410559e+132 2.95164085e-075]\n",
            " [2.13412571e+257 1.69724950e+137]\n",
            " [1.61410559e+132 6.01390857e-154]\n",
            " [1.42137844e-076 2.11161419e+257]\n",
            " [6.60925411e-062 2.95165188e-075]\n",
            " [5.96971510e+135 9.02193423e+217]\n",
            " [1.61410559e+132 9.16281386e-072]\n",
            " [6.98380170e+199 1.61410559e+132]\n",
            " [9.16281386e-072 2.13507660e+257]\n",
            " [1.69724950e+137 1.35301660e-023]\n",
            " [1.42137843e-076 2.95164082e-075]\n",
            " [9.29602248e+242 1.42137872e-076]\n",
            " [2.95164082e-075 3.06370797e-057]\n",
            " [9.89803615e+164 9.16281387e-072]\n",
            " [2.01821865e-075 9.45956265e-076]\n",
            " [1.61410559e+132 2.11513336e+257]\n",
            " [1.69724950e+137 9.02193423e+217]\n",
            " [1.61410559e+132 9.89803615e+164]\n",
            " [1.10576075e+136 9.02193423e+217]\n",
            " [9.45956265e-076 2.95162456e-075]\n",
            " [2.13412571e+257 6.60925411e-062]\n",
            " [9.16281386e-072 1.42137876e-076]\n",
            " [1.11416848e+218 1.61410559e+132]\n",
            " [9.89803615e+164 2.13413011e+257]\n",
            " [1.69724950e+137 1.35301660e-023]\n",
            " [9.16281387e-072 1.42137876e-076]\n",
            " [1.76540643e+137 1.35301660e-023]\n",
            " [2.25066400e-153 9.89803615e+164]\n",
            " [6.12573363e-154 1.61410559e+132]\n",
            " [9.16281387e-072 1.42137876e-076]\n",
            " [1.11416848e+218 1.61410559e+132]\n",
            " [9.89803615e+164 1.42137874e-076]\n",
            " [2.95164082e-075 3.06370797e-057]\n",
            " [9.89803615e+164 9.16281387e-072]\n",
            " [8.30024951e-013 9.45956265e-076]\n",
            " [1.61410559e+132 2.12891669e+257]\n",
            " [1.69724950e+137 9.02193423e+217]\n",
            " [1.61410559e+132 9.89803615e+164]\n",
            " [7.97387952e+136 9.02193423e+217]\n",
            " [9.45956265e-076 9.89803615e+164]\n",
            " [9.16281387e-072 1.11288151e+142]\n",
            " [9.45956265e-076 1.61410559e+132]\n",
            " [2.11513336e+257 1.74160576e-152]\n",
            " [9.45956265e-076 9.89803615e+164]\n",
            " [9.16281387e-072 2.59112919e+132]\n",
            " [9.45956265e-076 1.61410559e+132]\n",
            " [9.16281387e-072 1.42137876e-076]\n",
            " [1.11416848e+218 1.61410559e+132]\n",
            " [9.89803615e+164 8.55535050e+136]\n",
            " [9.02193423e+217 9.45956265e-076]\n",
            " [1.42137876e-076 2.95164082e-075]\n",
            " [3.06370797e-057 1.61410559e+132]\n",
            " [9.89803615e+164 2.95164329e-075]\n",
            " [2.13412571e+257 6.61020367e-062]\n",
            " [4.56335201e-072 1.61410559e+132]\n",
            " [2.95147834e-075 2.95695660e+137]\n",
            " [9.02193423e+217 9.45956265e-076]\n",
            " [2.95160337e-075 2.13412571e+257]\n",
            " [6.98207947e+199 9.45956265e-076]\n",
            " [1.61410559e+132 2.12950321e+257]\n",
            " [1.69724950e+137 1.35301660e-023]\n",
            " [1.42137851e-076 2.95164082e-075]\n",
            " [3.06370797e-057 9.89803615e+164]\n",
            " [9.16281387e-072 2.95162024e-075]\n",
            " [2.13412571e+257 6.60925411e-062]\n",
            " [9.16281387e-072 1.42137876e-076]\n",
            " [2.13302234e+257 1.69724950e+137]\n",
            " [1.35301660e-023 1.42137867e-076]\n",
            " [2.95164082e-075 3.06370797e-057]\n",
            " [9.89803615e+164 1.42137836e-076]\n",
            " [2.13155603e+257 1.69724950e+137]\n",
            " [1.35301660e-023 1.42137866e-076]\n",
            " [2.95164082e-075 1.47847830e+137]\n",
            " [9.02193423e+217 9.45956265e-076]\n",
            " [2.95160759e-075 2.13412571e+257]\n",
            " [6.60925411e-062 9.16281387e-072]\n",
            " [1.42137876e-076 1.11416848e+218]\n",
            " [9.45956265e-076 1.61410559e+132]]\n",
            "[9.67657068]\n",
            "[[ 8.86958822  8.13103509]\n",
            " [ 9.79334335  8.87879479]\n",
            " [10.04599575  7.84958115]\n",
            " [ 9.976364    7.39964035]\n",
            " [ 9.45338649  9.13986396]\n",
            " [ 9.67657068  7.9950737 ]\n",
            " [ 8.70206023  7.9573922 ]\n",
            " [10.40051789  7.62708104]\n",
            " [ 9.93454107  8.51683294]\n",
            " [ 9.72799189  9.74099598]\n",
            " [ 9.96094904  8.24319991]\n",
            " [ 9.77065728  8.51499892]\n",
            " [ 9.26396099  8.35684644]\n",
            " [ 9.5356644   8.84715659]\n",
            " [ 9.89425839  8.25099152]\n",
            " [ 9.98263524  8.86790216]\n",
            " [10.01926704  9.71576849]\n",
            " [10.31276726  8.0307211 ]\n",
            " [ 9.99169351  8.6304267 ]\n",
            " [ 9.18963684  8.56697987]\n",
            " [ 9.83793221  8.71509665]\n",
            " [ 9.24986566  7.99536137]\n",
            " [10.82195495  8.17627232]\n",
            " [10.41354113  9.08158043]\n",
            " [11.61209634  9.34484048]\n",
            " [10.51856245  8.54466671]\n",
            " [10.81890395  7.52519543]\n",
            " [10.28959086  7.95038882]\n",
            " [10.32570891  7.48134028]\n",
            " [ 9.38539681  9.19668066]\n",
            " [ 9.97321336  8.37620159]\n",
            " [ 9.54485919 10.06949618]\n",
            " [ 9.10900145  9.35223278]\n",
            " [ 9.75899514  9.11502731]\n",
            " [10.69731209  7.73143001]\n",
            " [10.86456105  8.30527041]\n",
            " [ 9.97911324  7.90322526]\n",
            " [ 9.59154355  8.17839558]\n",
            " [10.22823055  9.01169205]\n",
            " [10.47698515  7.52577516]\n",
            " [10.01151432  8.66813969]\n",
            " [11.23582633  9.04618129]\n",
            " [ 9.12930804  8.14904834]\n",
            " [ 9.30182741  7.88285248]\n",
            " [ 9.63326945  9.40546757]\n",
            " [11.08189335  8.42773298]\n",
            " [ 9.22843552  8.13318333]\n",
            " [10.32629086  9.32086598]\n",
            " [10.25799061  7.38167053]\n",
            " [ 9.3489768   8.24984134]\n",
            " [ 8.9420727   8.78958831]\n",
            " [ 8.79750845  8.96844725]\n",
            " [ 9.28003134  8.57256327]\n",
            " [10.2115433   8.96010289]\n",
            " [ 9.9134427   8.58228223]\n",
            " [ 9.79379181  9.87001006]\n",
            " [ 9.63402525  8.26776213]\n",
            " [ 9.81160369  8.66462915]\n",
            " [10.52284909  8.38355054]\n",
            " [10.71484892  8.29996478]\n",
            " [ 9.92795984  8.43166029]\n",
            " [ 9.60454814  8.69903878]\n",
            " [10.00960477  8.75902598]\n",
            " [ 9.52086184  8.08894673]\n",
            " [ 9.79607059  8.43612331]\n",
            " [ 9.74160625  8.61553105]\n",
            " [10.19446684  7.90845225]\n",
            " [10.13362173  7.62402251]\n",
            " [10.3035194   9.10199368]\n",
            " [10.58963083  9.47387901]\n",
            " [10.37058935  9.18717411]\n",
            " [10.13910716  9.5926636 ]\n",
            " [ 9.36567857  9.51527876]\n",
            " [10.54951768  7.72414216]\n",
            " [10.49247774  8.98100924]\n",
            " [10.66874038  8.86897729]\n",
            " [10.00355358  6.7411379 ]\n",
            " [10.04091464  8.57097321]\n",
            " [10.24068985  9.70791666]\n",
            " [10.55297186 11.24828613]\n",
            " [ 9.84458937  8.15702782]\n",
            " [ 9.23862703  8.11649463]\n",
            " [ 9.89901207  8.78394692]\n",
            " [10.41002725  7.3437767 ]\n",
            " [ 9.58585525  8.91882211]\n",
            " [10.23657939  7.80901361]\n",
            " [ 9.40204091  8.29074267]\n",
            " [10.67598116  9.57070645]\n",
            " [10.09968042  9.63517912]\n",
            " [ 9.47341736  7.80735712]\n",
            " [ 9.64348591  8.21581613]\n",
            " [10.53536386  8.58969786]\n",
            " [ 9.51442432  8.49387726]\n",
            " [10.37265136  9.03884234]\n",
            " [10.4834665   7.96126829]\n",
            " [10.49247391 10.26954691]\n",
            " [ 9.62380123  7.52415349]\n",
            " [10.12591366  9.70080327]\n",
            " [ 9.72603552  8.09251016]\n",
            " [ 9.38445941  7.47753083]]\n"
          ],
          "name": "stdout"
        },
        {
          "output_type": "error",
          "ename": "ValueError",
          "evalue": "ignored",
          "traceback": [
            "\u001b[0;31m---------------------------------------------------------------------------\u001b[0m",
            "\u001b[0;31mValueError\u001b[0m                                Traceback (most recent call last)",
            "\u001b[0;32m<ipython-input-141-84787cd3c240>\u001b[0m in \u001b[0;36m<module>\u001b[0;34m()\u001b[0m\n\u001b[1;32m     20\u001b[0m \u001b[0;31m#print(x_train)\u001b[0m\u001b[0;34m\u001b[0m\u001b[0;34m\u001b[0m\u001b[0;34m\u001b[0m\u001b[0m\n\u001b[1;32m     21\u001b[0m \u001b[0mknn\u001b[0m \u001b[0;34m=\u001b[0m \u001b[0mneighbors\u001b[0m\u001b[0;34m.\u001b[0m\u001b[0mKNeighborsClassifier\u001b[0m\u001b[0;34m(\u001b[0m\u001b[0mn_neighbors\u001b[0m\u001b[0;34m=\u001b[0m\u001b[0;36m1\u001b[0m\u001b[0;34m)\u001b[0m\u001b[0;34m\u001b[0m\u001b[0;34m\u001b[0m\u001b[0m\n\u001b[0;32m---> 22\u001b[0;31m \u001b[0mknn\u001b[0m\u001b[0;34m.\u001b[0m\u001b[0mfit\u001b[0m\u001b[0;34m(\u001b[0m\u001b[0mx_train\u001b[0m\u001b[0;34m,\u001b[0m\u001b[0my_train\u001b[0m\u001b[0;34m)\u001b[0m\u001b[0;34m\u001b[0m\u001b[0;34m\u001b[0m\u001b[0m\n\u001b[0m",
            "\u001b[0;32m/usr/local/lib/python3.6/dist-packages/sklearn/neighbors/_base.py\u001b[0m in \u001b[0;36mfit\u001b[0;34m(self, X, y)\u001b[0m\n\u001b[1;32m   1138\u001b[0m             \u001b[0mself\u001b[0m\u001b[0;34m.\u001b[0m\u001b[0moutputs_2d_\u001b[0m \u001b[0;34m=\u001b[0m \u001b[0;32mTrue\u001b[0m\u001b[0;34m\u001b[0m\u001b[0;34m\u001b[0m\u001b[0m\n\u001b[1;32m   1139\u001b[0m \u001b[0;34m\u001b[0m\u001b[0m\n\u001b[0;32m-> 1140\u001b[0;31m         \u001b[0mcheck_classification_targets\u001b[0m\u001b[0;34m(\u001b[0m\u001b[0my\u001b[0m\u001b[0;34m)\u001b[0m\u001b[0;34m\u001b[0m\u001b[0;34m\u001b[0m\u001b[0m\n\u001b[0m\u001b[1;32m   1141\u001b[0m         \u001b[0mself\u001b[0m\u001b[0;34m.\u001b[0m\u001b[0mclasses_\u001b[0m \u001b[0;34m=\u001b[0m \u001b[0;34m[\u001b[0m\u001b[0;34m]\u001b[0m\u001b[0;34m\u001b[0m\u001b[0;34m\u001b[0m\u001b[0m\n\u001b[1;32m   1142\u001b[0m         \u001b[0mself\u001b[0m\u001b[0;34m.\u001b[0m\u001b[0m_y\u001b[0m \u001b[0;34m=\u001b[0m \u001b[0mnp\u001b[0m\u001b[0;34m.\u001b[0m\u001b[0mempty\u001b[0m\u001b[0;34m(\u001b[0m\u001b[0my\u001b[0m\u001b[0;34m.\u001b[0m\u001b[0mshape\u001b[0m\u001b[0;34m,\u001b[0m \u001b[0mdtype\u001b[0m\u001b[0;34m=\u001b[0m\u001b[0mnp\u001b[0m\u001b[0;34m.\u001b[0m\u001b[0mint\u001b[0m\u001b[0;34m)\u001b[0m\u001b[0;34m\u001b[0m\u001b[0;34m\u001b[0m\u001b[0m\n",
            "\u001b[0;32m/usr/local/lib/python3.6/dist-packages/sklearn/utils/multiclass.py\u001b[0m in \u001b[0;36mcheck_classification_targets\u001b[0;34m(y)\u001b[0m\n\u001b[1;32m    167\u001b[0m     if y_type not in ['binary', 'multiclass', 'multiclass-multioutput',\n\u001b[1;32m    168\u001b[0m                       'multilabel-indicator', 'multilabel-sequences']:\n\u001b[0;32m--> 169\u001b[0;31m         \u001b[0;32mraise\u001b[0m \u001b[0mValueError\u001b[0m\u001b[0;34m(\u001b[0m\u001b[0;34m\"Unknown label type: %r\"\u001b[0m \u001b[0;34m%\u001b[0m \u001b[0my_type\u001b[0m\u001b[0;34m)\u001b[0m\u001b[0;34m\u001b[0m\u001b[0;34m\u001b[0m\u001b[0m\n\u001b[0m\u001b[1;32m    170\u001b[0m \u001b[0;34m\u001b[0m\u001b[0m\n\u001b[1;32m    171\u001b[0m \u001b[0;34m\u001b[0m\u001b[0m\n",
            "\u001b[0;31mValueError\u001b[0m: Unknown label type: 'continuous-multioutput'"
          ]
        }
      ]
    },
    {
      "cell_type": "code",
      "metadata": {
        "id": "UceCB_UIlRri",
        "outputId": "8b478cb6-972b-45f5-be13-a09c4b2a388a",
        "colab": {
          "base_uri": "https://localhost:8080/",
          "height": 266
        }
      },
      "source": [
        "'''\n",
        "x=np.concatenate((a,b))\n",
        "y=np.concatenate((c,d))\n",
        "print(x)\n",
        "'''\n",
        "x=[]*2\n",
        "#x=np.arange(200).reshape((a.size, 2))\n",
        "y=[]*2\n",
        "for i in np.arange(0,a.size):\n",
        "  x.append([a[i],b[i]])\n",
        "\n",
        "print(x)\n",
        "\n",
        "f=[]\n",
        "g=[]\n",
        "for i in np.arange(0,a.size):\n",
        "  f[i]=x[i,0],x[i,1]\n",
        "  g[i]=y[i,0],y[i,1]\n",
        "\n",
        "\n",
        "#x=np.vstack((a, b))\n",
        "#x=np.vstack((c, d))\n",
        "#print(x)\n",
        "print('')\n",
        "x_train, x_test, y_train, y_test=sklearn.model_selection.train_test_split(f,g, test_size=0.4,random_state=1)\n",
        "\n",
        "#print(x_train)\n",
        "\n",
        "knn = neighbors.KNeighborsClassifier(n_neighbors=1)\n",
        "knn.fit(x_train,y_train)"
      ],
      "execution_count": 131,
      "outputs": [
        {
          "output_type": "stream",
          "text": [
            "[[array([8.86958822]), array([8.13103509])], [array([9.79334335]), array([8.87879479])], [array([10.04599575]), array([7.84958115])], [array([9.976364]), array([7.39964035])], [array([9.45338649]), array([9.13986396])], [array([9.67657068]), array([7.9950737])], [array([8.70206023]), array([7.9573922])], [array([10.40051789]), array([7.62708104])], [array([9.93454107]), array([8.51683294])], [array([9.72799189]), array([9.74099598])], [array([9.96094904]), array([8.24319991])], [array([9.77065728]), array([8.51499892])], [array([9.26396099]), array([8.35684644])], [array([9.5356644]), array([8.84715659])], [array([9.89425839]), array([8.25099152])], [array([9.98263524]), array([8.86790216])], [array([10.01926704]), array([9.71576849])], [array([10.31276726]), array([8.0307211])], [array([9.99169351]), array([8.6304267])], [array([9.18963684]), array([8.56697987])], [array([9.83793221]), array([8.71509665])], [array([9.24986566]), array([7.99536137])], [array([10.82195495]), array([8.17627232])], [array([10.41354113]), array([9.08158043])], [array([11.61209634]), array([9.34484048])], [array([10.51856245]), array([8.54466671])], [array([10.81890395]), array([7.52519543])], [array([10.28959086]), array([7.95038882])], [array([10.32570891]), array([7.48134028])], [array([9.38539681]), array([9.19668066])], [array([9.97321336]), array([8.37620159])], [array([9.54485919]), array([10.06949618])], [array([9.10900145]), array([9.35223278])], [array([9.75899514]), array([9.11502731])], [array([10.69731209]), array([7.73143001])], [array([10.86456105]), array([8.30527041])], [array([9.97911324]), array([7.90322526])], [array([9.59154355]), array([8.17839558])], [array([10.22823055]), array([9.01169205])], [array([10.47698515]), array([7.52577516])], [array([10.01151432]), array([8.66813969])], [array([11.23582633]), array([9.04618129])], [array([9.12930804]), array([8.14904834])], [array([9.30182741]), array([7.88285248])], [array([9.63326945]), array([9.40546757])], [array([11.08189335]), array([8.42773298])], [array([9.22843552]), array([8.13318333])], [array([10.32629086]), array([9.32086598])], [array([10.25799061]), array([7.38167053])], [array([9.3489768]), array([8.24984134])], [array([8.9420727]), array([8.78958831])], [array([8.79750845]), array([8.96844725])], [array([9.28003134]), array([8.57256327])], [array([10.2115433]), array([8.96010289])], [array([9.9134427]), array([8.58228223])], [array([9.79379181]), array([9.87001006])], [array([9.63402525]), array([8.26776213])], [array([9.81160369]), array([8.66462915])], [array([10.52284909]), array([8.38355054])], [array([10.71484892]), array([8.29996478])], [array([9.92795984]), array([8.43166029])], [array([9.60454814]), array([8.69903878])], [array([10.00960477]), array([8.75902598])], [array([9.52086184]), array([8.08894673])], [array([9.79607059]), array([8.43612331])], [array([9.74160625]), array([8.61553105])], [array([10.19446684]), array([7.90845225])], [array([10.13362173]), array([7.62402251])], [array([10.3035194]), array([9.10199368])], [array([10.58963083]), array([9.47387901])], [array([10.37058935]), array([9.18717411])], [array([10.13910716]), array([9.5926636])], [array([9.36567857]), array([9.51527876])], [array([10.54951768]), array([7.72414216])], [array([10.49247774]), array([8.98100924])], [array([10.66874038]), array([8.86897729])], [array([10.00355358]), array([6.7411379])], [array([10.04091464]), array([8.57097321])], [array([10.24068985]), array([9.70791666])], [array([10.55297186]), array([11.24828613])], [array([9.84458937]), array([8.15702782])], [array([9.23862703]), array([8.11649463])], [array([9.89901207]), array([8.78394692])], [array([10.41002725]), array([7.3437767])], [array([9.58585525]), array([8.91882211])], [array([10.23657939]), array([7.80901361])], [array([9.40204091]), array([8.29074267])], [array([10.67598116]), array([9.57070645])], [array([10.09968042]), array([9.63517912])], [array([9.47341736]), array([7.80735712])], [array([9.64348591]), array([8.21581613])], [array([10.53536386]), array([8.58969786])], [array([9.51442432]), array([8.49387726])], [array([10.37265136]), array([9.03884234])], [array([10.4834665]), array([7.96126829])], [array([10.49247391]), array([10.26954691])], [array([9.62380123]), array([7.52415349])], [array([10.12591366]), array([9.70080327])], [array([9.72603552]), array([8.09251016])], [array([9.38445941]), array([7.47753083])]]\n"
          ],
          "name": "stdout"
        },
        {
          "output_type": "error",
          "ename": "TypeError",
          "evalue": "ignored",
          "traceback": [
            "\u001b[0;31m---------------------------------------------------------------------------\u001b[0m",
            "\u001b[0;31mTypeError\u001b[0m                                 Traceback (most recent call last)",
            "\u001b[0;32m<ipython-input-131-82db1fb51387>\u001b[0m in \u001b[0;36m<module>\u001b[0;34m()\u001b[0m\n\u001b[1;32m     15\u001b[0m \u001b[0mg\u001b[0m\u001b[0;34m=\u001b[0m\u001b[0;34m[\u001b[0m\u001b[0;34m]\u001b[0m\u001b[0;34m\u001b[0m\u001b[0;34m\u001b[0m\u001b[0m\n\u001b[1;32m     16\u001b[0m \u001b[0;32mfor\u001b[0m \u001b[0mi\u001b[0m \u001b[0;32min\u001b[0m \u001b[0mnp\u001b[0m\u001b[0;34m.\u001b[0m\u001b[0marange\u001b[0m\u001b[0;34m(\u001b[0m\u001b[0;36m0\u001b[0m\u001b[0;34m,\u001b[0m\u001b[0ma\u001b[0m\u001b[0;34m.\u001b[0m\u001b[0msize\u001b[0m\u001b[0;34m)\u001b[0m\u001b[0;34m:\u001b[0m\u001b[0;34m\u001b[0m\u001b[0;34m\u001b[0m\u001b[0m\n\u001b[0;32m---> 17\u001b[0;31m   \u001b[0mf\u001b[0m\u001b[0;34m[\u001b[0m\u001b[0mi\u001b[0m\u001b[0;34m]\u001b[0m\u001b[0;34m=\u001b[0m\u001b[0mx\u001b[0m\u001b[0;34m[\u001b[0m\u001b[0mi\u001b[0m\u001b[0;34m,\u001b[0m\u001b[0;36m0\u001b[0m\u001b[0;34m]\u001b[0m\u001b[0;34m,\u001b[0m\u001b[0mx\u001b[0m\u001b[0;34m[\u001b[0m\u001b[0mi\u001b[0m\u001b[0;34m,\u001b[0m\u001b[0;36m1\u001b[0m\u001b[0;34m]\u001b[0m\u001b[0;34m\u001b[0m\u001b[0;34m\u001b[0m\u001b[0m\n\u001b[0m\u001b[1;32m     18\u001b[0m   \u001b[0mg\u001b[0m\u001b[0;34m[\u001b[0m\u001b[0mi\u001b[0m\u001b[0;34m]\u001b[0m\u001b[0;34m=\u001b[0m\u001b[0my\u001b[0m\u001b[0;34m[\u001b[0m\u001b[0mi\u001b[0m\u001b[0;34m,\u001b[0m\u001b[0;36m0\u001b[0m\u001b[0;34m]\u001b[0m\u001b[0;34m,\u001b[0m\u001b[0my\u001b[0m\u001b[0;34m[\u001b[0m\u001b[0mi\u001b[0m\u001b[0;34m,\u001b[0m\u001b[0;36m1\u001b[0m\u001b[0;34m]\u001b[0m\u001b[0;34m\u001b[0m\u001b[0;34m\u001b[0m\u001b[0m\n\u001b[1;32m     19\u001b[0m \u001b[0;34m\u001b[0m\u001b[0m\n",
            "\u001b[0;31mTypeError\u001b[0m: list indices must be integers or slices, not tuple"
          ]
        }
      ]
    },
    {
      "cell_type": "code",
      "metadata": {
        "id": "A2__m65-ZNbA",
        "outputId": "c5424992-3ac9-4a53-8e57-3334f430d29b",
        "colab": {
          "base_uri": "https://localhost:8080/",
          "height": 229
        }
      },
      "source": [
        "\n",
        "'''\n",
        "t=[]*a.size\n",
        "r=[]*a.size\n",
        "'''\n",
        "t=[]*a.size\n",
        "\n",
        "for i in np.arange(0,a.size):\n",
        "  t[i]=[a[i],b[i]]\n",
        "  r[i]=c[i],d[i]\n",
        "\n",
        "\n",
        "#t=np.stack((a, b), axis=1)\n",
        "#r=np.stack((c, d), axis=1)\n"
      ],
      "execution_count": 81,
      "outputs": [
        {
          "output_type": "error",
          "ename": "IndexError",
          "evalue": "ignored",
          "traceback": [
            "\u001b[0;31m---------------------------------------------------------------------------\u001b[0m",
            "\u001b[0;31mIndexError\u001b[0m                                Traceback (most recent call last)",
            "\u001b[0;32m<ipython-input-81-f77f546aa0ba>\u001b[0m in \u001b[0;36m<module>\u001b[0;34m()\u001b[0m\n\u001b[1;32m      7\u001b[0m \u001b[0;34m\u001b[0m\u001b[0m\n\u001b[1;32m      8\u001b[0m \u001b[0;32mfor\u001b[0m \u001b[0mi\u001b[0m \u001b[0;32min\u001b[0m \u001b[0mnp\u001b[0m\u001b[0;34m.\u001b[0m\u001b[0marange\u001b[0m\u001b[0;34m(\u001b[0m\u001b[0;36m0\u001b[0m\u001b[0;34m,\u001b[0m\u001b[0ma\u001b[0m\u001b[0;34m.\u001b[0m\u001b[0msize\u001b[0m\u001b[0;34m)\u001b[0m\u001b[0;34m:\u001b[0m\u001b[0;34m\u001b[0m\u001b[0;34m\u001b[0m\u001b[0m\n\u001b[0;32m----> 9\u001b[0;31m   \u001b[0mt\u001b[0m\u001b[0;34m[\u001b[0m\u001b[0mi\u001b[0m\u001b[0;34m]\u001b[0m\u001b[0;34m=\u001b[0m\u001b[0;34m[\u001b[0m\u001b[0ma\u001b[0m\u001b[0;34m[\u001b[0m\u001b[0mi\u001b[0m\u001b[0;34m]\u001b[0m\u001b[0;34m,\u001b[0m\u001b[0mb\u001b[0m\u001b[0;34m[\u001b[0m\u001b[0mi\u001b[0m\u001b[0;34m]\u001b[0m\u001b[0;34m]\u001b[0m\u001b[0;34m\u001b[0m\u001b[0;34m\u001b[0m\u001b[0m\n\u001b[0m\u001b[1;32m     10\u001b[0m   \u001b[0mr\u001b[0m\u001b[0;34m[\u001b[0m\u001b[0mi\u001b[0m\u001b[0;34m]\u001b[0m\u001b[0;34m=\u001b[0m\u001b[0mc\u001b[0m\u001b[0;34m[\u001b[0m\u001b[0mi\u001b[0m\u001b[0;34m]\u001b[0m\u001b[0;34m,\u001b[0m\u001b[0md\u001b[0m\u001b[0;34m[\u001b[0m\u001b[0mi\u001b[0m\u001b[0;34m]\u001b[0m\u001b[0;34m\u001b[0m\u001b[0;34m\u001b[0m\u001b[0m\n\u001b[1;32m     11\u001b[0m \u001b[0;34m\u001b[0m\u001b[0m\n",
            "\u001b[0;31mIndexError\u001b[0m: list assignment index out of range"
          ]
        }
      ]
    },
    {
      "cell_type": "code",
      "metadata": {
        "id": "f4Ik7DJp21s-",
        "outputId": "9c9850ef-b725-42d3-cec7-c2491fbe2909",
        "colab": {
          "base_uri": "https://localhost:8080/",
          "height": 218
        }
      },
      "source": [
        "intervalo_umbrales_x=int((np.amax(c)-np.amin(a))*10+1)\n",
        "vector_umbrales_x=np.linspace(np.amin(a),np.amax(c),num=intervalo_umbrales_x)\n",
        "\n",
        "intervalo_umbrales_y=int((np.amax(b)-np.amin(b))*10+1)\n",
        "vector_umbrales_y=np.linspace(np.amin(b),np.amax(b),num=intervalo_umbrales_y)\n",
        "\n",
        "print(vector_umbrales_x)\n",
        "print(vector_umbrales_y)\n",
        "\n",
        "sensibilidad=np.zeros((vector_umbrales_x.size,vector_umbrales_y.size))\n",
        "presicion=np.zeros((vector_umbrales_x.size,vector_umbrales_y.size))\n",
        "exactitud=np.zeros((vector_umbrales_x.size,vector_umbrales_y.size))\n",
        "fall_out=np.zeros((vector_umbrales_x.size,vector_umbrales_y.size))\n",
        "\n",
        "i=1\n",
        "print(vector_umbrales_x.size)\n",
        "print(vector_umbrales_y.size)"
      ],
      "execution_count": null,
      "outputs": [
        {
          "output_type": "stream",
          "text": [
            "[8.90574578 9.00687596 9.10800614 9.20913632 9.31026651 9.41139669\n",
            " 9.51252687 9.61365705 9.71478723]\n",
            "[ 6.73717643  6.83845618  6.93973593  7.04101568  7.14229543  7.24357519\n",
            "  7.34485494  7.44613469  7.54741444  7.64869419  7.74997394  7.85125369\n",
            "  7.95253344  8.05381319  8.15509294  8.2563727   8.35765245  8.4589322\n",
            "  8.56021195  8.6614917   8.76277145  8.8640512   8.96533095  9.0666107\n",
            "  9.16789045  9.2691702   9.37044996  9.47172971  9.57300946  9.67428921\n",
            "  9.77556896  9.87684871  9.97812846 10.07940821 10.18068796 10.28196771\n",
            " 10.38324746 10.48452722 10.58580697 10.68708672 10.78836647 10.88964622\n",
            " 10.99092597]\n",
            "9\n",
            "43\n"
          ],
          "name": "stdout"
        }
      ]
    },
    {
      "cell_type": "markdown",
      "metadata": {
        "id": "2ClbTRj9MgqF"
      },
      "source": [
        "El conjunto A y B lo tomo como verdadero, y el conjunto C y D los tomo como falsos"
      ]
    },
    {
      "cell_type": "code",
      "metadata": {
        "id": "iHafGKzELLPl",
        "outputId": "c72ba7e4-4329-4798-f688-e23ea4a70281",
        "colab": {
          "base_uri": "https://localhost:8080/",
          "height": 1000
        }
      },
      "source": [
        "for i in np.arange(1,vector_umbrales_x.size):\n",
        "  for j in np.arange(1,vector_umbrales_y.size):\n",
        "    umbral_x=vector_umbrales_x[i]\n",
        "    umbral_y=vector_umbrales_y[j]\n",
        "    tp_count=0    #contador verdaderos positivos\n",
        "    tn_count=0    #contador verdaderos negativos\n",
        "    fp_count=0    #contador falsos positivos  \n",
        "    fn_count=0    #contador falsos negativos\n",
        "    for n in np.arange(0,a.size):\n",
        "      for m in np.arange(0,b.size):\n",
        "        if (a[n]>umbral_x) and (b[m]>umbral_y):\n",
        "          tp_count=tp_count+1\n",
        "        elif (a[n]<umbral_x) or (b[m]<umbral_y):\n",
        "          fp_count=fp_count+1\n",
        "\n",
        "    for n in np.arange(0,c.size):\n",
        "      for m in np.arange(0,d.size):\n",
        "        if (c[n]<umbral_x) and (d[m]<umbral_y):\n",
        "          tn_count=tn_count+1\n",
        "        elif (c[n]>umbral_x) or (d[m]>umbral_y):\n",
        "          fn_count=fn_count+1\n",
        "\n",
        "    #True Positive Rate\n",
        "    sensibilidad[i,j]=tp_count/(tp_count+fn_count)\n",
        "\n",
        "    #Positive Predicted Value\n",
        "    presicion[i,j]=tp_count/(tp_count+fp_count)\n",
        "\n",
        "    #Accuracy\n",
        "    exactitud[i,j]=(tp_count+tn_count)/(tp_count+tn_count+fp_count+fn_count)\n",
        "\n",
        "    #False Positive Rate\n",
        "    fall_out[i,j]=fp_count/(fp_count+tn_count)\n",
        "\n",
        "print(sensibilidad)\n",
        "print(presicion)      "
      ],
      "execution_count": null,
      "outputs": [
        {
          "output_type": "stream",
          "text": [
            "[[1.         1.         1.         1.         1.         1.\n",
            "  1.         1.         1.         1.         1.         1.\n",
            "  1.         1.         1.         1.         1.         1.\n",
            "  1.         1.         1.         1.         1.         1.\n",
            "  1.         1.         1.         1.         1.         1.\n",
            "  1.         1.         1.         1.         1.         1.\n",
            "  1.        ]\n",
            " [1.         0.53091824 0.52838908 0.52828721 0.53326602 0.54091271\n",
            "  0.54621458 0.54629738 0.5383286  0.55299001 0.56884449 0.57293987\n",
            "  0.58375197 0.58624867 0.58578352 0.57686402 0.57940695 0.53824645\n",
            "  0.53340448 0.51653091 0.48385375 0.48106592 0.46445498 0.48877805\n",
            "  0.48578982 0.48965025 0.49418154 0.46068376 0.39959225 0.32179104\n",
            "  0.21181556 0.18889746 0.08521739 0.08844765 0.08844765 0.04818092\n",
            "  0.        ]\n",
            " [1.         0.5324041  0.52987586 0.52987737 0.53506698 0.54304484\n",
            "  0.54869941 0.54890631 0.54133565 0.55700007 0.57384081 0.57849613\n",
            "  0.59010447 0.59352959 0.59413403 0.58586034 0.58970561 0.54876807\n",
            "  0.54509761 0.53005532 0.49841924 0.49674149 0.4806867  0.50777202\n",
            "  0.50637272 0.51299308 0.52085037 0.48855654 0.42947138 0.35068315\n",
            "  0.23548258 0.21193772 0.09712587 0.10150181 0.10150181 0.05612829\n",
            "  0.        ]\n",
            " [1.         0.52715655 0.52462527 0.5248021  0.53035971 0.5389204\n",
            "  0.54519369 0.54561393 0.53870659 0.55615369 0.57478542 0.58044807\n",
            "  0.59352653 0.59862806 0.60116299 0.59401903 0.60027219 0.55960159\n",
            "  0.55811542 0.54654812 0.51698779 0.51750973 0.5026455  0.53521127\n",
            "  0.53712778 0.54958678 0.5647005  0.53562276 0.48284625 0.40488183\n",
            "  0.28301887 0.25998905 0.1232166  0.13103448 0.13103448 0.07521774\n",
            "  0.        ]\n",
            " [1.         0.52285763 0.52032427 0.52057245 0.52628201 0.53508512\n",
            "  0.54161611 0.54212432 0.53548554 0.55368507 0.57308684 0.57918149\n",
            "  0.59290268 0.59872871 0.60209974 0.59543472 0.60275202 0.56214969\n",
            "  0.5616341  0.55163117 0.52302782 0.52457695 0.51028807 0.54545455\n",
            "  0.54899646 0.56436931 0.58321274 0.55597826 0.50715746 0.43073684\n",
            "  0.30726872 0.2854512  0.13777778 0.14808917 0.14808917 0.08699719\n",
            "  0.        ]\n",
            " [1.         0.52117189 0.51863783 0.5189579  0.52481769 0.53385978\n",
            "  0.54064643 0.5412435  0.53488372 0.55383338 0.57399884 0.58052885\n",
            "  0.59488937 0.60145647 0.60569395 0.59954666 0.60797072 0.56751907\n",
            "  0.56803874 0.55973451 0.53220763 0.53488372 0.52124646 0.55927052\n",
            "  0.56464812 0.58333333 0.60649087 0.5816092  0.5380117  0.46422018\n",
            "  0.33990148 0.32033426 0.15862069 0.17293233 0.17293233 0.10502283\n",
            "  0.        ]\n",
            " [1.         0.51159786 0.50906086 0.50949027 0.51558347 0.52500154\n",
            "  0.532191   0.53292535 0.52698156 0.54713071 0.56855233 0.57579062\n",
            "  0.59122551 0.59900052 0.60464253 0.59928938 0.60954817 0.56914393\n",
            "  0.57135582 0.5658337  0.54005639 0.54465075 0.53212396 0.5751634\n",
            "  0.58381247 0.60854532 0.63982103 0.61952    0.58691121 0.52043011\n",
            "  0.3996972  0.38800705 0.20229885 0.22827497 0.22827497 0.15068493\n",
            "  0.        ]\n",
            " [1.         0.50292852 0.50039046 0.50082002 0.50691669 0.51634519\n",
            "  0.52354677 0.52428256 0.51832819 0.53852316 0.56002452 0.567297\n",
            "  0.58281702 0.59064122 0.59632158 0.59093199 0.60126238 0.56061878\n",
            "  0.56284082 0.55729399 0.53142954 0.53603604 0.5234796  0.56666667\n",
            "  0.57536101 0.60025221 0.63178959 0.61131089 0.57847724 0.51176793\n",
            "  0.39140445 0.3798034  0.19675926 0.22222222 0.22222222 0.14629948\n",
            "  0.        ]\n",
            " [1.         0.4819623  0.479428   0.47989344 0.48605936 0.49561116\n",
            "  0.5029554  0.50373895 0.49791995 0.51856946 0.54061896 0.54819277\n",
            "  0.56423218 0.57257015 0.5788207  0.57365167 0.58477509 0.54372624\n",
            "  0.54657873 0.54200884 0.51664876 0.52198853 0.50980392 0.55516014\n",
            "  0.56521739 0.59283388 0.62825279 0.609375   0.58100559 0.51749095\n",
            "  0.40068493 0.39393939 0.20634921 0.23780488 0.23780488 0.16317992\n",
            "  0.        ]]\n",
            "[[1.         0.98990001 0.97980206 0.96970615 0.96970615 0.96970615\n",
            "  0.95961228 0.94952044 0.88901221 0.86885907 0.85878556 0.83864461\n",
            "  0.82857719 0.78832779 0.73806166 0.68784614 0.64771012 0.54751131\n",
            "  0.50748819 0.43752511 0.36766034 0.34771701 0.31781701 0.31781701\n",
            "  0.29789368 0.27797834 0.25807098 0.21828022 0.15865385 0.10901992\n",
            "  0.05943566 0.04952476 0.01980396 0.01980396 0.01980396 0.00990099\n",
            "  0.51966597]\n",
            " [0.53172689 0.9702     0.9604     0.9506     0.9506     0.9506\n",
            "  0.9408     0.931      0.8722     0.8526     0.8428     0.8232\n",
            "  0.8134     0.7742     0.7252     0.6762     0.637      0.539\n",
            "  0.4998     0.4312     0.3626     0.343      0.3136     0.3136\n",
            "  0.294      0.2744     0.2548     0.2156     0.1568     0.1078\n",
            "  0.0588     0.049      0.0196     0.0196     0.0196     0.0098\n",
            "  0.        ]\n",
            " [0.52183259 0.9702     0.9604     0.9506     0.9506     0.9506\n",
            "  0.9408     0.931      0.8722     0.8526     0.8428     0.8232\n",
            "  0.8134     0.7742     0.7252     0.6762     0.637      0.539\n",
            "  0.4998     0.4312     0.3626     0.343      0.3136     0.3136\n",
            "  0.294      0.2744     0.2548     0.2156     0.1568     0.1078\n",
            "  0.0588     0.049      0.0196     0.0196     0.0196     0.0098\n",
            "  0.        ]\n",
            " [0.51822027 0.9405     0.931      0.9215     0.9215     0.9215\n",
            "  0.912      0.9025     0.8455     0.8265     0.817      0.798\n",
            "  0.7885     0.7505     0.703      0.6555     0.6175     0.5225\n",
            "  0.4845     0.418      0.3515     0.3325     0.304      0.304\n",
            "  0.285      0.266      0.247      0.209      0.152      0.1045\n",
            "  0.057      0.0475     0.019      0.019      0.019      0.0095\n",
            "  0.        ]\n",
            " [0.51257402 0.9207     0.9114     0.9021     0.9021     0.9021\n",
            "  0.8928     0.8835     0.8277     0.8091     0.7998     0.7812\n",
            "  0.7719     0.7347     0.6882     0.6417     0.6045     0.5115\n",
            "  0.4743     0.4092     0.3441     0.3255     0.2976     0.2976\n",
            "  0.279      0.2604     0.2418     0.2046     0.1488     0.1023\n",
            "  0.0558     0.0465     0.0186     0.0186     0.0186     0.0093\n",
            "  0.        ]\n",
            " [0.5071494  0.9108     0.9016     0.8924     0.8924     0.8924\n",
            "  0.8832     0.874      0.8188     0.8004     0.7912     0.7728\n",
            "  0.7636     0.7268     0.6808     0.6348     0.598      0.506\n",
            "  0.4692     0.4048     0.3404     0.322      0.2944     0.2944\n",
            "  0.276      0.2576     0.2392     0.2024     0.1472     0.1012\n",
            "  0.0552     0.046      0.0184     0.0184     0.0184     0.0092\n",
            "  0.        ]\n",
            " [0.50252489 0.8712     0.8624     0.8536     0.8536     0.8536\n",
            "  0.8448     0.836      0.7832     0.7656     0.7568     0.7392\n",
            "  0.7304     0.6952     0.6512     0.6072     0.572      0.484\n",
            "  0.4488     0.3872     0.3256     0.308      0.2816     0.2816\n",
            "  0.264      0.2464     0.2288     0.1936     0.1408     0.0968\n",
            "  0.0528     0.044      0.0176     0.0176     0.0176     0.0088\n",
            "  0.        ]\n",
            " [0.49627983 0.8415     0.833      0.8245     0.8245     0.8245\n",
            "  0.816      0.8075     0.7565     0.7395     0.731      0.714\n",
            "  0.7055     0.6715     0.629      0.5865     0.5525     0.4675\n",
            "  0.4335     0.374      0.3145     0.2975     0.272      0.272\n",
            "  0.255      0.238      0.221      0.187      0.136      0.0935\n",
            "  0.051      0.0425     0.017      0.017      0.017      0.0085\n",
            "  0.        ]\n",
            " [0.48950394 0.7722     0.7644     0.7566     0.7566     0.7566\n",
            "  0.7488     0.741      0.6942     0.6786     0.6708     0.6552\n",
            "  0.6474     0.6162     0.5772     0.5382     0.507      0.429\n",
            "  0.3978     0.3432     0.2886     0.273      0.2496     0.2496\n",
            "  0.234      0.2184     0.2028     0.1716     0.1248     0.0858\n",
            "  0.0468     0.039      0.0156     0.0156     0.0156     0.0078\n",
            "  0.        ]]\n"
          ],
          "name": "stdout"
        }
      ]
    }
  ]
}